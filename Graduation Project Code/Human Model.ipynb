{
 "cells": [
  {
   "cell_type": "code",
   "execution_count": 1,
   "metadata": {
    "_cell_guid": "b1076dfc-b9ad-4769-8c92-a6c4dae69d19",
    "_uuid": "8f2839f25d086af736a60e9eeb907d3b93b6e0e5",
    "execution": {
     "iopub.execute_input": "2025-04-15T07:23:12.891576Z",
     "iopub.status.busy": "2025-04-15T07:23:12.891314Z",
     "iopub.status.idle": "2025-04-15T07:23:18.400460Z",
     "shell.execute_reply": "2025-04-15T07:23:18.399591Z",
     "shell.execute_reply.started": "2025-04-15T07:23:12.891553Z"
    },
    "trusted": true
   },
   "outputs": [
    {
     "name": "stdout",
     "output_type": "stream",
     "text": [
      "Collecting ultralytics\n",
      "  Downloading ultralytics-8.3.108-py3-none-any.whl.metadata (37 kB)\n",
      "Requirement already satisfied: numpy<=2.1.1,>=1.23.0 in /usr/local/lib/python3.10/dist-packages (from ultralytics) (1.26.4)\n",
      "Requirement already satisfied: matplotlib>=3.3.0 in /usr/local/lib/python3.10/dist-packages (from ultralytics) (3.7.5)\n",
      "Requirement already satisfied: opencv-python>=4.6.0 in /usr/local/lib/python3.10/dist-packages (from ultralytics) (4.10.0.84)\n",
      "Requirement already satisfied: pillow>=7.1.2 in /usr/local/lib/python3.10/dist-packages (from ultralytics) (11.0.0)\n",
      "Requirement already satisfied: pyyaml>=5.3.1 in /usr/local/lib/python3.10/dist-packages (from ultralytics) (6.0.2)\n",
      "Requirement already satisfied: requests>=2.23.0 in /usr/local/lib/python3.10/dist-packages (from ultralytics) (2.32.3)\n",
      "Requirement already satisfied: scipy>=1.4.1 in /usr/local/lib/python3.10/dist-packages (from ultralytics) (1.13.1)\n",
      "Requirement already satisfied: torch>=1.8.0 in /usr/local/lib/python3.10/dist-packages (from ultralytics) (2.5.1+cu121)\n",
      "Requirement already satisfied: torchvision>=0.9.0 in /usr/local/lib/python3.10/dist-packages (from ultralytics) (0.20.1+cu121)\n",
      "Requirement already satisfied: tqdm>=4.64.0 in /usr/local/lib/python3.10/dist-packages (from ultralytics) (4.67.1)\n",
      "Requirement already satisfied: psutil in /usr/local/lib/python3.10/dist-packages (from ultralytics) (5.9.5)\n",
      "Requirement already satisfied: py-cpuinfo in /usr/local/lib/python3.10/dist-packages (from ultralytics) (9.0.0)\n",
      "Requirement already satisfied: pandas>=1.1.4 in /usr/local/lib/python3.10/dist-packages (from ultralytics) (2.2.3)\n",
      "Requirement already satisfied: seaborn>=0.11.0 in /usr/local/lib/python3.10/dist-packages (from ultralytics) (0.12.2)\n",
      "Collecting ultralytics-thop>=2.0.0 (from ultralytics)\n",
      "  Downloading ultralytics_thop-2.0.14-py3-none-any.whl.metadata (9.4 kB)\n",
      "Requirement already satisfied: contourpy>=1.0.1 in /usr/local/lib/python3.10/dist-packages (from matplotlib>=3.3.0->ultralytics) (1.3.1)\n",
      "Requirement already satisfied: cycler>=0.10 in /usr/local/lib/python3.10/dist-packages (from matplotlib>=3.3.0->ultralytics) (0.12.1)\n",
      "Requirement already satisfied: fonttools>=4.22.0 in /usr/local/lib/python3.10/dist-packages (from matplotlib>=3.3.0->ultralytics) (4.55.3)\n",
      "Requirement already satisfied: kiwisolver>=1.0.1 in /usr/local/lib/python3.10/dist-packages (from matplotlib>=3.3.0->ultralytics) (1.4.7)\n",
      "Requirement already satisfied: packaging>=20.0 in /usr/local/lib/python3.10/dist-packages (from matplotlib>=3.3.0->ultralytics) (24.2)\n",
      "Requirement already satisfied: pyparsing>=2.3.1 in /usr/local/lib/python3.10/dist-packages (from matplotlib>=3.3.0->ultralytics) (3.2.0)\n",
      "Requirement already satisfied: python-dateutil>=2.7 in /usr/local/lib/python3.10/dist-packages (from matplotlib>=3.3.0->ultralytics) (2.9.0.post0)\n",
      "Requirement already satisfied: mkl_fft in /usr/local/lib/python3.10/dist-packages (from numpy<=2.1.1,>=1.23.0->ultralytics) (1.3.8)\n",
      "Requirement already satisfied: mkl_random in /usr/local/lib/python3.10/dist-packages (from numpy<=2.1.1,>=1.23.0->ultralytics) (1.2.4)\n",
      "Requirement already satisfied: mkl_umath in /usr/local/lib/python3.10/dist-packages (from numpy<=2.1.1,>=1.23.0->ultralytics) (0.1.1)\n",
      "Requirement already satisfied: mkl in /usr/local/lib/python3.10/dist-packages (from numpy<=2.1.1,>=1.23.0->ultralytics) (2025.0.1)\n",
      "Requirement already satisfied: tbb4py in /usr/local/lib/python3.10/dist-packages (from numpy<=2.1.1,>=1.23.0->ultralytics) (2022.0.0)\n",
      "Requirement already satisfied: mkl-service in /usr/local/lib/python3.10/dist-packages (from numpy<=2.1.1,>=1.23.0->ultralytics) (2.4.1)\n",
      "Requirement already satisfied: pytz>=2020.1 in /usr/local/lib/python3.10/dist-packages (from pandas>=1.1.4->ultralytics) (2025.1)\n",
      "Requirement already satisfied: tzdata>=2022.7 in /usr/local/lib/python3.10/dist-packages (from pandas>=1.1.4->ultralytics) (2025.1)\n",
      "Requirement already satisfied: charset-normalizer<4,>=2 in /usr/local/lib/python3.10/dist-packages (from requests>=2.23.0->ultralytics) (3.4.1)\n",
      "Requirement already satisfied: idna<4,>=2.5 in /usr/local/lib/python3.10/dist-packages (from requests>=2.23.0->ultralytics) (3.10)\n",
      "Requirement already satisfied: urllib3<3,>=1.21.1 in /usr/local/lib/python3.10/dist-packages (from requests>=2.23.0->ultralytics) (2.3.0)\n",
      "Requirement already satisfied: certifi>=2017.4.17 in /usr/local/lib/python3.10/dist-packages (from requests>=2.23.0->ultralytics) (2025.1.31)\n",
      "Requirement already satisfied: filelock in /usr/local/lib/python3.10/dist-packages (from torch>=1.8.0->ultralytics) (3.17.0)\n",
      "Requirement already satisfied: typing-extensions>=4.8.0 in /usr/local/lib/python3.10/dist-packages (from torch>=1.8.0->ultralytics) (4.12.2)\n",
      "Requirement already satisfied: networkx in /usr/local/lib/python3.10/dist-packages (from torch>=1.8.0->ultralytics) (3.4.2)\n",
      "Requirement already satisfied: jinja2 in /usr/local/lib/python3.10/dist-packages (from torch>=1.8.0->ultralytics) (3.1.4)\n",
      "Requirement already satisfied: fsspec in /usr/local/lib/python3.10/dist-packages (from torch>=1.8.0->ultralytics) (2024.12.0)\n",
      "Requirement already satisfied: sympy==1.13.1 in /usr/local/lib/python3.10/dist-packages (from torch>=1.8.0->ultralytics) (1.13.1)\n",
      "Requirement already satisfied: mpmath<1.4,>=1.1.0 in /usr/local/lib/python3.10/dist-packages (from sympy==1.13.1->torch>=1.8.0->ultralytics) (1.3.0)\n",
      "Requirement already satisfied: six>=1.5 in /usr/local/lib/python3.10/dist-packages (from python-dateutil>=2.7->matplotlib>=3.3.0->ultralytics) (1.17.0)\n",
      "Requirement already satisfied: MarkupSafe>=2.0 in /usr/local/lib/python3.10/dist-packages (from jinja2->torch>=1.8.0->ultralytics) (3.0.2)\n",
      "Requirement already satisfied: intel-openmp>=2024 in /usr/local/lib/python3.10/dist-packages (from mkl->numpy<=2.1.1,>=1.23.0->ultralytics) (2024.2.0)\n",
      "Requirement already satisfied: tbb==2022.* in /usr/local/lib/python3.10/dist-packages (from mkl->numpy<=2.1.1,>=1.23.0->ultralytics) (2022.0.0)\n",
      "Requirement already satisfied: tcmlib==1.* in /usr/local/lib/python3.10/dist-packages (from tbb==2022.*->mkl->numpy<=2.1.1,>=1.23.0->ultralytics) (1.2.0)\n",
      "Requirement already satisfied: intel-cmplr-lib-rt in /usr/local/lib/python3.10/dist-packages (from mkl_umath->numpy<=2.1.1,>=1.23.0->ultralytics) (2024.2.0)\n",
      "Requirement already satisfied: intel-cmplr-lib-ur==2024.2.0 in /usr/local/lib/python3.10/dist-packages (from intel-openmp>=2024->mkl->numpy<=2.1.1,>=1.23.0->ultralytics) (2024.2.0)\n",
      "Downloading ultralytics-8.3.108-py3-none-any.whl (974 kB)\n",
      "\u001b[2K   \u001b[90m━━━━━━━━━━━━━━━━━━━━━━━━━━━━━━━━━━━━━━━━\u001b[0m \u001b[32m974.8/974.8 kB\u001b[0m \u001b[31m23.8 MB/s\u001b[0m eta \u001b[36m0:00:00\u001b[0m00:01\u001b[0m\n",
      "\u001b[?25hDownloading ultralytics_thop-2.0.14-py3-none-any.whl (26 kB)\n",
      "Installing collected packages: ultralytics-thop, ultralytics\n",
      "Successfully installed ultralytics-8.3.108 ultralytics-thop-2.0.14\n",
      "Note: you may need to restart the kernel to use updated packages.\n"
     ]
    }
   ],
   "source": [
    "pip install ultralytics"
   ]
  },
  {
   "cell_type": "code",
   "execution_count": null,
   "metadata": {
    "execution": {
     "iopub.execute_input": "2025-04-15T07:23:18.401655Z",
     "iopub.status.busy": "2025-04-15T07:23:18.401347Z",
     "iopub.status.idle": "2025-04-15T07:23:18.431629Z",
     "shell.execute_reply": "2025-04-15T07:23:18.430846Z",
     "shell.execute_reply.started": "2025-04-15T07:23:18.401628Z"
    },
    "trusted": true
   },
   "outputs": [
    {
     "name": "stdout",
     "output_type": "stream",
     "text": [
      "Original YAML content:\n",
      "{'train': '../train/images', 'val': '../valid/images', 'test': '../test/images', 'nc': 1, 'names': ['human'], 'roboflow': {'workspace': 'rahma-2csx6', 'project': 'all-human-dataset-pool', 'version': 2, 'license': 'CC BY 4.0', 'url': 'https://universe.roboflow.com/rahma-2csx6/all-human-dataset-pool/dataset/2'}}\n"
     ]
    }
   ],
   "source": [
    "import yaml\n",
    "import shutil\n",
    "\n",
    "source_path = '/kaggle/input/all-human-with-pool/data.yaml'  \n",
    "destination_path = '/kaggle/working/data.yaml'         \n",
    "\n",
    "\n",
    "shutil.copy(source_path, destination_path)\n",
    "\n",
    "with open(destination_path, 'r') as file:\n",
    "    data = yaml.safe_load(file)\n",
    "\n",
    "print(\"Original YAML content:\")\n",
    "print(data)\n",
    "\n"
   ]
  },
  {
   "cell_type": "code",
   "execution_count": null,
   "metadata": {
    "execution": {
     "iopub.execute_input": "2025-04-15T07:23:18.433328Z",
     "iopub.status.busy": "2025-04-15T07:23:18.433103Z",
     "iopub.status.idle": "2025-04-15T07:23:18.436679Z",
     "shell.execute_reply": "2025-04-15T07:23:18.435942Z",
     "shell.execute_reply.started": "2025-04-15T07:23:18.433310Z"
    },
    "trusted": true
   },
   "outputs": [],
   "source": [
    "\n",
    "data['train'] = '/kaggle/input/all-human-with-pool/train/images'  \n",
    "data['val'] = '/kaggle/input/all-human-with-pool/valid/images'     \n",
    "data['test'] = '/kaggle/input/all-human-with-pool/test/images'      \n"
   ]
  },
  {
   "cell_type": "code",
   "execution_count": null,
   "metadata": {
    "execution": {
     "iopub.execute_input": "2025-04-15T07:23:18.438000Z",
     "iopub.status.busy": "2025-04-15T07:23:18.437744Z",
     "iopub.status.idle": "2025-04-15T07:23:18.453799Z",
     "shell.execute_reply": "2025-04-15T07:23:18.453057Z",
     "shell.execute_reply.started": "2025-04-15T07:23:18.437981Z"
    },
    "trusted": true
   },
   "outputs": [
    {
     "name": "stdout",
     "output_type": "stream",
     "text": [
      "Modified YAML saved at: /kaggle/working/data.yaml\n"
     ]
    }
   ],
   "source": [
    "\n",
    "with open(destination_path, 'w') as file:\n",
    "    yaml.dump(data, file, default_flow_style=False)\n",
    "\n",
    "print(f\"Modified YAML saved at: {destination_path}\")"
   ]
  },
  {
   "cell_type": "code",
   "execution_count": null,
   "metadata": {
    "execution": {
     "iopub.execute_input": "2025-04-15T07:23:18.454842Z",
     "iopub.status.busy": "2025-04-15T07:23:18.454575Z",
     "iopub.status.idle": "2025-04-15T07:23:23.769528Z",
     "shell.execute_reply": "2025-04-15T07:23:23.768853Z",
     "shell.execute_reply.started": "2025-04-15T07:23:18.454811Z"
    },
    "trusted": true
   },
   "outputs": [
    {
     "name": "stdout",
     "output_type": "stream",
     "text": [
      "Creating new Ultralytics Settings v0.0.6 file ✅ \n",
      "View Ultralytics Settings with 'yolo settings' or at '/root/.config/Ultralytics/settings.json'\n",
      "Update Settings with 'yolo settings key=value', i.e. 'yolo settings runs_dir=path/to/dir'. For help see https://docs.ultralytics.com/quickstart/#ultralytics-settings.\n",
      "Downloading https://github.com/ultralytics/assets/releases/download/v8.3.0/yolo11s.pt to 'yolo11s.pt'...\n"
     ]
    },
    {
     "name": "stderr",
     "output_type": "stream",
     "text": [
      "100%|██████████| 18.4M/18.4M [00:00<00:00, 148MB/s]\n"
     ]
    }
   ],
   "source": [
    "from ultralytics import YOLO\n",
    "\n",
    "model = YOLO(\"yolo11s.pt\") "
   ]
  },
  {
   "cell_type": "code",
   "execution_count": null,
   "metadata": {
    "execution": {
     "iopub.execute_input": "2025-04-15T07:23:23.770542Z",
     "iopub.status.busy": "2025-04-15T07:23:23.770256Z",
     "iopub.status.idle": "2025-04-15T08:00:53.751645Z",
     "shell.execute_reply": "2025-04-15T08:00:53.750603Z",
     "shell.execute_reply.started": "2025-04-15T07:23:23.770523Z"
    },
    "trusted": true
   },
   "outputs": [
    {
     "name": "stdout",
     "output_type": "stream",
     "text": [
      "Ultralytics 8.3.108 🚀 Python-3.10.12 torch-2.5.1+cu121 CUDA:0 (Tesla P100-PCIE-16GB, 16269MiB)\n",
      "\u001b[34m\u001b[1mengine/trainer: \u001b[0mtask=detect, mode=train, model=yolo11s.pt, data=/kaggle/working/data.yaml, epochs=50, time=None, patience=10, batch=32, imgsz=640, save=True, save_period=2, cache=False, device=None, workers=4, project=None, name=train, exist_ok=False, pretrained=True, optimizer=Adam, verbose=True, seed=0, deterministic=True, single_cls=False, rect=False, cos_lr=False, close_mosaic=10, resume=False, amp=True, fraction=1.0, profile=False, freeze=None, multi_scale=False, overlap_mask=True, mask_ratio=4, dropout=0.0, val=True, split=val, save_json=False, conf=None, iou=0.7, max_det=300, half=False, dnn=False, plots=True, source=None, vid_stride=1, stream_buffer=False, visualize=False, augment=False, agnostic_nms=False, classes=None, retina_masks=False, embed=None, show=False, save_frames=False, save_txt=False, save_conf=False, save_crop=False, show_labels=True, show_conf=True, show_boxes=True, line_width=None, format=torchscript, keras=False, optimize=False, int8=False, dynamic=False, simplify=True, opset=None, workspace=None, nms=False, lr0=0.0001, lrf=0.01, momentum=0.937, weight_decay=0.0005, warmup_epochs=3.0, warmup_momentum=0.8, warmup_bias_lr=0.1, box=7.5, cls=0.5, dfl=1.5, pose=12.0, kobj=1.0, nbs=64, hsv_h=0.015, hsv_s=0.7, hsv_v=0.4, degrees=0.0, translate=0.1, scale=0.5, shear=0.0, perspective=0.0, flipud=0.0, fliplr=0.5, bgr=0.0, mosaic=1.0, mixup=0.0, copy_paste=0.0, copy_paste_mode=flip, auto_augment=randaugment, erasing=0.4, cfg=None, tracker=botsort.yaml, save_dir=runs/detect/train\n",
      "Downloading https://ultralytics.com/assets/Arial.ttf to '/root/.config/Ultralytics/Arial.ttf'...\n"
     ]
    },
    {
     "name": "stderr",
     "output_type": "stream",
     "text": [
      "100%|██████████| 755k/755k [00:00<00:00, 6.05MB/s]\n"
     ]
    },
    {
     "name": "stdout",
     "output_type": "stream",
     "text": [
      "Overriding model.yaml nc=80 with nc=1\n",
      "\n",
      "                   from  n    params  module                                       arguments                     \n",
      "  0                  -1  1       928  ultralytics.nn.modules.conv.Conv             [3, 32, 3, 2]                 \n",
      "  1                  -1  1     18560  ultralytics.nn.modules.conv.Conv             [32, 64, 3, 2]                \n",
      "  2                  -1  1     26080  ultralytics.nn.modules.block.C3k2            [64, 128, 1, False, 0.25]     \n",
      "  3                  -1  1    147712  ultralytics.nn.modules.conv.Conv             [128, 128, 3, 2]              \n",
      "  4                  -1  1    103360  ultralytics.nn.modules.block.C3k2            [128, 256, 1, False, 0.25]    \n",
      "  5                  -1  1    590336  ultralytics.nn.modules.conv.Conv             [256, 256, 3, 2]              \n",
      "  6                  -1  1    346112  ultralytics.nn.modules.block.C3k2            [256, 256, 1, True]           \n",
      "  7                  -1  1   1180672  ultralytics.nn.modules.conv.Conv             [256, 512, 3, 2]              \n",
      "  8                  -1  1   1380352  ultralytics.nn.modules.block.C3k2            [512, 512, 1, True]           \n",
      "  9                  -1  1    656896  ultralytics.nn.modules.block.SPPF            [512, 512, 5]                 \n",
      " 10                  -1  1    990976  ultralytics.nn.modules.block.C2PSA           [512, 512, 1]                 \n",
      " 11                  -1  1         0  torch.nn.modules.upsampling.Upsample         [None, 2, 'nearest']          \n",
      " 12             [-1, 6]  1         0  ultralytics.nn.modules.conv.Concat           [1]                           \n",
      " 13                  -1  1    443776  ultralytics.nn.modules.block.C3k2            [768, 256, 1, False]          \n",
      " 14                  -1  1         0  torch.nn.modules.upsampling.Upsample         [None, 2, 'nearest']          \n",
      " 15             [-1, 4]  1         0  ultralytics.nn.modules.conv.Concat           [1]                           \n",
      " 16                  -1  1    127680  ultralytics.nn.modules.block.C3k2            [512, 128, 1, False]          \n",
      " 17                  -1  1    147712  ultralytics.nn.modules.conv.Conv             [128, 128, 3, 2]              \n",
      " 18            [-1, 13]  1         0  ultralytics.nn.modules.conv.Concat           [1]                           \n",
      " 19                  -1  1    345472  ultralytics.nn.modules.block.C3k2            [384, 256, 1, False]          \n",
      " 20                  -1  1    590336  ultralytics.nn.modules.conv.Conv             [256, 256, 3, 2]              \n",
      " 21            [-1, 10]  1         0  ultralytics.nn.modules.conv.Concat           [1]                           \n",
      " 22                  -1  1   1511424  ultralytics.nn.modules.block.C3k2            [768, 512, 1, True]           \n",
      " 23        [16, 19, 22]  1    819795  ultralytics.nn.modules.head.Detect           [1, [128, 256, 512]]          \n",
      "YOLO11s summary: 181 layers, 9,428,179 parameters, 9,428,163 gradients, 21.5 GFLOPs\n",
      "\n",
      "Transferred 493/499 items from pretrained weights\n",
      "\u001b[34m\u001b[1mTensorBoard: \u001b[0mStart with 'tensorboard --logdir runs/detect/train', view at http://localhost:6006/\n",
      "Freezing layer 'model.23.dfl.conv.weight'\n",
      "\u001b[34m\u001b[1mAMP: \u001b[0mrunning Automatic Mixed Precision (AMP) checks...\n",
      "Downloading https://github.com/ultralytics/assets/releases/download/v8.3.0/yolo11n.pt to 'yolo11n.pt'...\n"
     ]
    },
    {
     "name": "stderr",
     "output_type": "stream",
     "text": [
      "100%|██████████| 5.35M/5.35M [00:00<00:00, 89.9MB/s]\n"
     ]
    },
    {
     "name": "stdout",
     "output_type": "stream",
     "text": [
      "\u001b[34m\u001b[1mAMP: \u001b[0mchecks passed ✅\n"
     ]
    },
    {
     "name": "stderr",
     "output_type": "stream",
     "text": [
      "\u001b[34m\u001b[1mtrain: \u001b[0mScanning /kaggle/input/all-human-with-pool/train/labels... 2071 images, 1 backgrounds, 0 corrupt: 100%|██████████| 2071/2071 [00:06<00:00, 302.99it/s]\n"
     ]
    },
    {
     "name": "stdout",
     "output_type": "stream",
     "text": [
      "\u001b[34m\u001b[1mtrain: \u001b[0mWARNING ⚠️ Cache directory /kaggle/input/all-human-with-pool/train is not writeable, cache not saved.\n",
      "WARNING ⚠️ Box and segment counts should be equal, but got len(segments) = 37, len(boxes) = 5762. To resolve this only boxes will be used and all segments will be removed. To avoid this please supply either a detect or segment dataset, not a detect-segment mixed dataset.\n",
      "\u001b[34m\u001b[1malbumentations: \u001b[0mBlur(p=0.01, blur_limit=(3, 7)), MedianBlur(p=0.01, blur_limit=(3, 7)), ToGray(p=0.01, num_output_channels=3, method='weighted_average'), CLAHE(p=0.01, clip_limit=(1.0, 4.0), tile_grid_size=(8, 8))\n"
     ]
    },
    {
     "name": "stderr",
     "output_type": "stream",
     "text": [
      "/usr/local/lib/python3.10/dist-packages/albumentations/__init__.py:24: UserWarning: A new version of Albumentations is available: 2.0.5 (you have 1.4.20). Upgrade using: pip install -U albumentations. To disable automatic update checks, set the environment variable NO_ALBUMENTATIONS_UPDATE to 1.\n",
      "  check_for_updates()\n",
      "\u001b[34m\u001b[1mval: \u001b[0mScanning /kaggle/input/all-human-with-pool/valid/labels... 583 images, 0 backgrounds, 0 corrupt: 100%|██████████| 583/583 [00:02<00:00, 247.45it/s]"
     ]
    },
    {
     "name": "stdout",
     "output_type": "stream",
     "text": [
      "\u001b[34m\u001b[1mval: \u001b[0mWARNING ⚠️ Cache directory /kaggle/input/all-human-with-pool/valid is not writeable, cache not saved.\n"
     ]
    },
    {
     "name": "stderr",
     "output_type": "stream",
     "text": [
      "\n"
     ]
    },
    {
     "name": "stdout",
     "output_type": "stream",
     "text": [
      "Plotting labels to runs/detect/train/labels.jpg... \n",
      "\u001b[34m\u001b[1moptimizer:\u001b[0m Adam(lr=0.0001, momentum=0.937) with parameter groups 81 weight(decay=0.0), 88 weight(decay=0.0005), 87 bias(decay=0.0)\n",
      "\u001b[34m\u001b[1mTensorBoard: \u001b[0mmodel graph visualization added ✅\n",
      "Image sizes 640 train, 640 val\n",
      "Using 4 dataloader workers\n",
      "Logging results to \u001b[1mruns/detect/train\u001b[0m\n",
      "Starting training for 50 epochs...\n",
      "\n",
      "      Epoch    GPU_mem   box_loss   cls_loss   dfl_loss  Instances       Size\n"
     ]
    },
    {
     "name": "stderr",
     "output_type": "stream",
     "text": [
      "       1/50      8.54G      2.208      3.321      1.499        109        640: 100%|██████████| 65/65 [00:40<00:00,  1.60it/s]\n",
      "                 Class     Images  Instances      Box(P          R      mAP50  mAP50-95): 100%|██████████| 10/10 [00:05<00:00,  1.77it/s]\n"
     ]
    },
    {
     "name": "stdout",
     "output_type": "stream",
     "text": [
      "                   all        583       1011      0.378      0.426      0.324      0.114\n",
      "\n",
      "      Epoch    GPU_mem   box_loss   cls_loss   dfl_loss  Instances       Size\n"
     ]
    },
    {
     "name": "stderr",
     "output_type": "stream",
     "text": [
      "       2/50      8.98G          2      1.498      1.344         77        640: 100%|██████████| 65/65 [00:39<00:00,  1.65it/s]\n",
      "                 Class     Images  Instances      Box(P          R      mAP50  mAP50-95): 100%|██████████| 10/10 [00:04<00:00,  2.27it/s]"
     ]
    },
    {
     "name": "stdout",
     "output_type": "stream",
     "text": [
      "                   all        583       1011      0.648      0.615      0.642      0.273\n"
     ]
    },
    {
     "name": "stderr",
     "output_type": "stream",
     "text": [
      "\n"
     ]
    },
    {
     "name": "stdout",
     "output_type": "stream",
     "text": [
      "\n",
      "      Epoch    GPU_mem   box_loss   cls_loss   dfl_loss  Instances       Size\n"
     ]
    },
    {
     "name": "stderr",
     "output_type": "stream",
     "text": [
      "       3/50      8.98G      1.939      1.338      1.326         90        640: 100%|██████████| 65/65 [00:38<00:00,  1.68it/s]\n",
      "                 Class     Images  Instances      Box(P          R      mAP50  mAP50-95): 100%|██████████| 10/10 [00:04<00:00,  2.22it/s]"
     ]
    },
    {
     "name": "stdout",
     "output_type": "stream",
     "text": [
      "                   all        583       1011      0.726      0.681      0.737      0.329\n"
     ]
    },
    {
     "name": "stderr",
     "output_type": "stream",
     "text": [
      "\n"
     ]
    },
    {
     "name": "stdout",
     "output_type": "stream",
     "text": [
      "\n",
      "      Epoch    GPU_mem   box_loss   cls_loss   dfl_loss  Instances       Size\n"
     ]
    },
    {
     "name": "stderr",
     "output_type": "stream",
     "text": [
      "       4/50         9G      1.903      1.258      1.279         69        640: 100%|██████████| 65/65 [00:38<00:00,  1.67it/s]\n",
      "                 Class     Images  Instances      Box(P          R      mAP50  mAP50-95): 100%|██████████| 10/10 [00:04<00:00,  2.28it/s]"
     ]
    },
    {
     "name": "stdout",
     "output_type": "stream",
     "text": [
      "                   all        583       1011      0.741      0.705      0.754      0.357\n"
     ]
    },
    {
     "name": "stderr",
     "output_type": "stream",
     "text": [
      "\n"
     ]
    },
    {
     "name": "stdout",
     "output_type": "stream",
     "text": [
      "\n",
      "      Epoch    GPU_mem   box_loss   cls_loss   dfl_loss  Instances       Size\n"
     ]
    },
    {
     "name": "stderr",
     "output_type": "stream",
     "text": [
      "       5/50         9G      1.876      1.216      1.284        115        640: 100%|██████████| 65/65 [00:38<00:00,  1.67it/s]\n",
      "                 Class     Images  Instances      Box(P          R      mAP50  mAP50-95): 100%|██████████| 10/10 [00:04<00:00,  2.27it/s]"
     ]
    },
    {
     "name": "stdout",
     "output_type": "stream",
     "text": [
      "                   all        583       1011      0.786      0.735      0.776      0.368\n"
     ]
    },
    {
     "name": "stderr",
     "output_type": "stream",
     "text": [
      "\n"
     ]
    },
    {
     "name": "stdout",
     "output_type": "stream",
     "text": [
      "\n",
      "      Epoch    GPU_mem   box_loss   cls_loss   dfl_loss  Instances       Size\n"
     ]
    },
    {
     "name": "stderr",
     "output_type": "stream",
     "text": [
      "       6/50         9G      1.836      1.153      1.259         96        640: 100%|██████████| 65/65 [00:38<00:00,  1.67it/s]\n",
      "                 Class     Images  Instances      Box(P          R      mAP50  mAP50-95): 100%|██████████| 10/10 [00:04<00:00,  2.26it/s]"
     ]
    },
    {
     "name": "stdout",
     "output_type": "stream",
     "text": [
      "                   all        583       1011      0.823      0.771      0.826      0.397\n"
     ]
    },
    {
     "name": "stderr",
     "output_type": "stream",
     "text": [
      "\n"
     ]
    },
    {
     "name": "stdout",
     "output_type": "stream",
     "text": [
      "\n",
      "      Epoch    GPU_mem   box_loss   cls_loss   dfl_loss  Instances       Size\n"
     ]
    },
    {
     "name": "stderr",
     "output_type": "stream",
     "text": [
      "       7/50         9G      1.792      1.128      1.248         65        640: 100%|██████████| 65/65 [00:38<00:00,  1.68it/s]\n",
      "                 Class     Images  Instances      Box(P          R      mAP50  mAP50-95): 100%|██████████| 10/10 [00:04<00:00,  2.28it/s]"
     ]
    },
    {
     "name": "stdout",
     "output_type": "stream",
     "text": [
      "                   all        583       1011       0.82      0.769      0.824      0.404\n"
     ]
    },
    {
     "name": "stderr",
     "output_type": "stream",
     "text": [
      "\n"
     ]
    },
    {
     "name": "stdout",
     "output_type": "stream",
     "text": [
      "\n",
      "      Epoch    GPU_mem   box_loss   cls_loss   dfl_loss  Instances       Size\n"
     ]
    },
    {
     "name": "stderr",
     "output_type": "stream",
     "text": [
      "       8/50         9G      1.797      1.093      1.244        107        640: 100%|██████████| 65/65 [00:38<00:00,  1.67it/s]\n",
      "                 Class     Images  Instances      Box(P          R      mAP50  mAP50-95): 100%|██████████| 10/10 [00:04<00:00,  2.28it/s]"
     ]
    },
    {
     "name": "stdout",
     "output_type": "stream",
     "text": [
      "                   all        583       1011      0.819      0.779      0.826      0.407\n"
     ]
    },
    {
     "name": "stderr",
     "output_type": "stream",
     "text": [
      "\n"
     ]
    },
    {
     "name": "stdout",
     "output_type": "stream",
     "text": [
      "\n",
      "      Epoch    GPU_mem   box_loss   cls_loss   dfl_loss  Instances       Size\n"
     ]
    },
    {
     "name": "stderr",
     "output_type": "stream",
     "text": [
      "       9/50         9G      1.784      1.067      1.241         58        640: 100%|██████████| 65/65 [00:38<00:00,  1.67it/s]\n",
      "                 Class     Images  Instances      Box(P          R      mAP50  mAP50-95): 100%|██████████| 10/10 [00:04<00:00,  2.12it/s]"
     ]
    },
    {
     "name": "stdout",
     "output_type": "stream",
     "text": [
      "                   all        583       1011       0.79      0.801      0.838      0.406\n"
     ]
    },
    {
     "name": "stderr",
     "output_type": "stream",
     "text": [
      "\n"
     ]
    },
    {
     "name": "stdout",
     "output_type": "stream",
     "text": [
      "\n",
      "      Epoch    GPU_mem   box_loss   cls_loss   dfl_loss  Instances       Size\n"
     ]
    },
    {
     "name": "stderr",
     "output_type": "stream",
     "text": [
      "      10/50         9G      1.758      1.044      1.224         51        640: 100%|██████████| 65/65 [00:38<00:00,  1.67it/s]\n",
      "                 Class     Images  Instances      Box(P          R      mAP50  mAP50-95): 100%|██████████| 10/10 [00:04<00:00,  2.27it/s]"
     ]
    },
    {
     "name": "stdout",
     "output_type": "stream",
     "text": [
      "                   all        583       1011      0.822      0.745      0.826      0.411\n"
     ]
    },
    {
     "name": "stderr",
     "output_type": "stream",
     "text": [
      "\n"
     ]
    },
    {
     "name": "stdout",
     "output_type": "stream",
     "text": [
      "\n",
      "      Epoch    GPU_mem   box_loss   cls_loss   dfl_loss  Instances       Size\n"
     ]
    },
    {
     "name": "stderr",
     "output_type": "stream",
     "text": [
      "      11/50         9G      1.739       1.01      1.232         63        640: 100%|██████████| 65/65 [00:38<00:00,  1.67it/s]\n",
      "                 Class     Images  Instances      Box(P          R      mAP50  mAP50-95): 100%|██████████| 10/10 [00:04<00:00,  2.25it/s]"
     ]
    },
    {
     "name": "stdout",
     "output_type": "stream",
     "text": [
      "                   all        583       1011       0.86        0.8       0.87      0.427\n"
     ]
    },
    {
     "name": "stderr",
     "output_type": "stream",
     "text": [
      "\n"
     ]
    },
    {
     "name": "stdout",
     "output_type": "stream",
     "text": [
      "\n",
      "      Epoch    GPU_mem   box_loss   cls_loss   dfl_loss  Instances       Size\n"
     ]
    },
    {
     "name": "stderr",
     "output_type": "stream",
     "text": [
      "      12/50         9G      1.723      1.006      1.215         61        640: 100%|██████████| 65/65 [00:38<00:00,  1.67it/s]\n",
      "                 Class     Images  Instances      Box(P          R      mAP50  mAP50-95): 100%|██████████| 10/10 [00:04<00:00,  2.26it/s]"
     ]
    },
    {
     "name": "stdout",
     "output_type": "stream",
     "text": [
      "                   all        583       1011      0.826      0.821      0.866      0.442\n"
     ]
    },
    {
     "name": "stderr",
     "output_type": "stream",
     "text": [
      "\n"
     ]
    },
    {
     "name": "stdout",
     "output_type": "stream",
     "text": [
      "\n",
      "      Epoch    GPU_mem   box_loss   cls_loss   dfl_loss  Instances       Size\n"
     ]
    },
    {
     "name": "stderr",
     "output_type": "stream",
     "text": [
      "      13/50         9G      1.711     0.9843      1.197         76        640: 100%|██████████| 65/65 [00:38<00:00,  1.68it/s]\n",
      "                 Class     Images  Instances      Box(P          R      mAP50  mAP50-95): 100%|██████████| 10/10 [00:04<00:00,  2.26it/s]"
     ]
    },
    {
     "name": "stdout",
     "output_type": "stream",
     "text": [
      "                   all        583       1011      0.842      0.828      0.868      0.429\n"
     ]
    },
    {
     "name": "stderr",
     "output_type": "stream",
     "text": [
      "\n"
     ]
    },
    {
     "name": "stdout",
     "output_type": "stream",
     "text": [
      "\n",
      "      Epoch    GPU_mem   box_loss   cls_loss   dfl_loss  Instances       Size\n"
     ]
    },
    {
     "name": "stderr",
     "output_type": "stream",
     "text": [
      "      14/50         9G      1.686     0.9635      1.182         51        640: 100%|██████████| 65/65 [00:39<00:00,  1.67it/s]\n",
      "                 Class     Images  Instances      Box(P          R      mAP50  mAP50-95): 100%|██████████| 10/10 [00:04<00:00,  2.26it/s]"
     ]
    },
    {
     "name": "stdout",
     "output_type": "stream",
     "text": [
      "                   all        583       1011      0.871      0.816      0.877       0.44\n"
     ]
    },
    {
     "name": "stderr",
     "output_type": "stream",
     "text": [
      "\n"
     ]
    },
    {
     "name": "stdout",
     "output_type": "stream",
     "text": [
      "\n",
      "      Epoch    GPU_mem   box_loss   cls_loss   dfl_loss  Instances       Size\n"
     ]
    },
    {
     "name": "stderr",
     "output_type": "stream",
     "text": [
      "      15/50         9G      1.677     0.9462      1.183        104        640: 100%|██████████| 65/65 [00:38<00:00,  1.67it/s]\n",
      "                 Class     Images  Instances      Box(P          R      mAP50  mAP50-95): 100%|██████████| 10/10 [00:04<00:00,  2.25it/s]"
     ]
    },
    {
     "name": "stdout",
     "output_type": "stream",
     "text": [
      "                   all        583       1011      0.861      0.813      0.872      0.444\n"
     ]
    },
    {
     "name": "stderr",
     "output_type": "stream",
     "text": [
      "\n"
     ]
    },
    {
     "name": "stdout",
     "output_type": "stream",
     "text": [
      "\n",
      "      Epoch    GPU_mem   box_loss   cls_loss   dfl_loss  Instances       Size\n"
     ]
    },
    {
     "name": "stderr",
     "output_type": "stream",
     "text": [
      "      16/50         9G      1.671     0.9165      1.183         97        640: 100%|██████████| 65/65 [00:38<00:00,  1.67it/s]\n",
      "                 Class     Images  Instances      Box(P          R      mAP50  mAP50-95): 100%|██████████| 10/10 [00:04<00:00,  2.31it/s]"
     ]
    },
    {
     "name": "stdout",
     "output_type": "stream",
     "text": [
      "                   all        583       1011      0.868      0.826      0.875      0.446\n"
     ]
    },
    {
     "name": "stderr",
     "output_type": "stream",
     "text": [
      "\n"
     ]
    },
    {
     "name": "stdout",
     "output_type": "stream",
     "text": [
      "\n",
      "      Epoch    GPU_mem   box_loss   cls_loss   dfl_loss  Instances       Size\n"
     ]
    },
    {
     "name": "stderr",
     "output_type": "stream",
     "text": [
      "      17/50         9G      1.666      0.924      1.176         94        640: 100%|██████████| 65/65 [00:38<00:00,  1.67it/s]\n",
      "                 Class     Images  Instances      Box(P          R      mAP50  mAP50-95): 100%|██████████| 10/10 [00:04<00:00,  2.22it/s]"
     ]
    },
    {
     "name": "stdout",
     "output_type": "stream",
     "text": [
      "                   all        583       1011      0.854       0.84      0.874      0.451\n"
     ]
    },
    {
     "name": "stderr",
     "output_type": "stream",
     "text": [
      "\n"
     ]
    },
    {
     "name": "stdout",
     "output_type": "stream",
     "text": [
      "\n",
      "      Epoch    GPU_mem   box_loss   cls_loss   dfl_loss  Instances       Size\n"
     ]
    },
    {
     "name": "stderr",
     "output_type": "stream",
     "text": [
      "      18/50         9G      1.653     0.9035      1.167        101        640: 100%|██████████| 65/65 [00:38<00:00,  1.67it/s]\n",
      "                 Class     Images  Instances      Box(P          R      mAP50  mAP50-95): 100%|██████████| 10/10 [00:04<00:00,  2.27it/s]"
     ]
    },
    {
     "name": "stdout",
     "output_type": "stream",
     "text": [
      "                   all        583       1011      0.858      0.835      0.874      0.439\n"
     ]
    },
    {
     "name": "stderr",
     "output_type": "stream",
     "text": [
      "\n"
     ]
    },
    {
     "name": "stdout",
     "output_type": "stream",
     "text": [
      "\n",
      "      Epoch    GPU_mem   box_loss   cls_loss   dfl_loss  Instances       Size\n"
     ]
    },
    {
     "name": "stderr",
     "output_type": "stream",
     "text": [
      "      19/50         9G      1.616     0.8847      1.164        106        640: 100%|██████████| 65/65 [00:38<00:00,  1.67it/s]\n",
      "                 Class     Images  Instances      Box(P          R      mAP50  mAP50-95): 100%|██████████| 10/10 [00:04<00:00,  2.28it/s]"
     ]
    },
    {
     "name": "stdout",
     "output_type": "stream",
     "text": [
      "                   all        583       1011      0.868      0.833       0.88      0.462\n"
     ]
    },
    {
     "name": "stderr",
     "output_type": "stream",
     "text": [
      "\n"
     ]
    },
    {
     "name": "stdout",
     "output_type": "stream",
     "text": [
      "\n",
      "      Epoch    GPU_mem   box_loss   cls_loss   dfl_loss  Instances       Size\n"
     ]
    },
    {
     "name": "stderr",
     "output_type": "stream",
     "text": [
      "      20/50         9G      1.625     0.8707      1.153         98        640: 100%|██████████| 65/65 [00:38<00:00,  1.67it/s]\n",
      "                 Class     Images  Instances      Box(P          R      mAP50  mAP50-95): 100%|██████████| 10/10 [00:04<00:00,  2.26it/s]"
     ]
    },
    {
     "name": "stdout",
     "output_type": "stream",
     "text": [
      "                   all        583       1011      0.869      0.817      0.878      0.446\n"
     ]
    },
    {
     "name": "stderr",
     "output_type": "stream",
     "text": [
      "\n"
     ]
    },
    {
     "name": "stdout",
     "output_type": "stream",
     "text": [
      "\n",
      "      Epoch    GPU_mem   box_loss   cls_loss   dfl_loss  Instances       Size\n"
     ]
    },
    {
     "name": "stderr",
     "output_type": "stream",
     "text": [
      "      21/50         9G      1.595     0.8555      1.144        121        640: 100%|██████████| 65/65 [00:38<00:00,  1.67it/s]\n",
      "                 Class     Images  Instances      Box(P          R      mAP50  mAP50-95): 100%|██████████| 10/10 [00:04<00:00,  2.28it/s]"
     ]
    },
    {
     "name": "stdout",
     "output_type": "stream",
     "text": [
      "                   all        583       1011      0.836      0.847      0.876      0.444\n"
     ]
    },
    {
     "name": "stderr",
     "output_type": "stream",
     "text": [
      "\n"
     ]
    },
    {
     "name": "stdout",
     "output_type": "stream",
     "text": [
      "\n",
      "      Epoch    GPU_mem   box_loss   cls_loss   dfl_loss  Instances       Size\n"
     ]
    },
    {
     "name": "stderr",
     "output_type": "stream",
     "text": [
      "      22/50         9G      1.596     0.8452      1.141        177        640: 100%|██████████| 65/65 [00:38<00:00,  1.67it/s]\n",
      "                 Class     Images  Instances      Box(P          R      mAP50  mAP50-95): 100%|██████████| 10/10 [00:04<00:00,  2.25it/s]"
     ]
    },
    {
     "name": "stdout",
     "output_type": "stream",
     "text": [
      "                   all        583       1011      0.867      0.829      0.868      0.448\n"
     ]
    },
    {
     "name": "stderr",
     "output_type": "stream",
     "text": [
      "\n"
     ]
    },
    {
     "name": "stdout",
     "output_type": "stream",
     "text": [
      "\n",
      "      Epoch    GPU_mem   box_loss   cls_loss   dfl_loss  Instances       Size\n"
     ]
    },
    {
     "name": "stderr",
     "output_type": "stream",
     "text": [
      "      23/50         9G      1.592     0.8388      1.155         59        640: 100%|██████████| 65/65 [00:38<00:00,  1.67it/s]\n",
      "                 Class     Images  Instances      Box(P          R      mAP50  mAP50-95): 100%|██████████| 10/10 [00:04<00:00,  2.24it/s]"
     ]
    },
    {
     "name": "stdout",
     "output_type": "stream",
     "text": [
      "                   all        583       1011      0.873      0.824      0.874      0.462\n"
     ]
    },
    {
     "name": "stderr",
     "output_type": "stream",
     "text": [
      "\n"
     ]
    },
    {
     "name": "stdout",
     "output_type": "stream",
     "text": [
      "\n",
      "      Epoch    GPU_mem   box_loss   cls_loss   dfl_loss  Instances       Size\n"
     ]
    },
    {
     "name": "stderr",
     "output_type": "stream",
     "text": [
      "      24/50         9G      1.587     0.8281      1.148         83        640: 100%|██████████| 65/65 [00:38<00:00,  1.67it/s]\n",
      "                 Class     Images  Instances      Box(P          R      mAP50  mAP50-95): 100%|██████████| 10/10 [00:04<00:00,  2.30it/s]"
     ]
    },
    {
     "name": "stdout",
     "output_type": "stream",
     "text": [
      "                   all        583       1011      0.864      0.852      0.889      0.457\n"
     ]
    },
    {
     "name": "stderr",
     "output_type": "stream",
     "text": [
      "\n"
     ]
    },
    {
     "name": "stdout",
     "output_type": "stream",
     "text": [
      "\n",
      "      Epoch    GPU_mem   box_loss   cls_loss   dfl_loss  Instances       Size\n"
     ]
    },
    {
     "name": "stderr",
     "output_type": "stream",
     "text": [
      "      25/50         9G      1.582     0.8271      1.144         79        640: 100%|██████████| 65/65 [00:38<00:00,  1.67it/s]\n",
      "                 Class     Images  Instances      Box(P          R      mAP50  mAP50-95): 100%|██████████| 10/10 [00:04<00:00,  2.23it/s]"
     ]
    },
    {
     "name": "stdout",
     "output_type": "stream",
     "text": [
      "                   all        583       1011      0.858      0.845      0.879      0.453\n"
     ]
    },
    {
     "name": "stderr",
     "output_type": "stream",
     "text": [
      "\n"
     ]
    },
    {
     "name": "stdout",
     "output_type": "stream",
     "text": [
      "\n",
      "      Epoch    GPU_mem   box_loss   cls_loss   dfl_loss  Instances       Size\n"
     ]
    },
    {
     "name": "stderr",
     "output_type": "stream",
     "text": [
      "      26/50         9G      1.563     0.8082      1.122         98        640: 100%|██████████| 65/65 [00:38<00:00,  1.67it/s]\n",
      "                 Class     Images  Instances      Box(P          R      mAP50  mAP50-95): 100%|██████████| 10/10 [00:04<00:00,  2.30it/s]"
     ]
    },
    {
     "name": "stdout",
     "output_type": "stream",
     "text": [
      "                   all        583       1011       0.87      0.842      0.888       0.47\n"
     ]
    },
    {
     "name": "stderr",
     "output_type": "stream",
     "text": [
      "\n"
     ]
    },
    {
     "name": "stdout",
     "output_type": "stream",
     "text": [
      "\n",
      "      Epoch    GPU_mem   box_loss   cls_loss   dfl_loss  Instances       Size\n"
     ]
    },
    {
     "name": "stderr",
     "output_type": "stream",
     "text": [
      "      27/50         9G       1.53     0.8059      1.131         50        640: 100%|██████████| 65/65 [00:38<00:00,  1.68it/s]\n",
      "                 Class     Images  Instances      Box(P          R      mAP50  mAP50-95): 100%|██████████| 10/10 [00:04<00:00,  2.30it/s]"
     ]
    },
    {
     "name": "stdout",
     "output_type": "stream",
     "text": [
      "                   all        583       1011      0.871      0.836      0.882       0.47\n"
     ]
    },
    {
     "name": "stderr",
     "output_type": "stream",
     "text": [
      "\n"
     ]
    },
    {
     "name": "stdout",
     "output_type": "stream",
     "text": [
      "\n",
      "      Epoch    GPU_mem   box_loss   cls_loss   dfl_loss  Instances       Size\n"
     ]
    },
    {
     "name": "stderr",
     "output_type": "stream",
     "text": [
      "      28/50         9G      1.543     0.7971      1.118         72        640: 100%|██████████| 65/65 [00:38<00:00,  1.68it/s]\n",
      "                 Class     Images  Instances      Box(P          R      mAP50  mAP50-95): 100%|██████████| 10/10 [00:04<00:00,  2.23it/s]"
     ]
    },
    {
     "name": "stdout",
     "output_type": "stream",
     "text": [
      "                   all        583       1011      0.872      0.839      0.882      0.471\n"
     ]
    },
    {
     "name": "stderr",
     "output_type": "stream",
     "text": [
      "\n"
     ]
    },
    {
     "name": "stdout",
     "output_type": "stream",
     "text": [
      "\n",
      "      Epoch    GPU_mem   box_loss   cls_loss   dfl_loss  Instances       Size\n"
     ]
    },
    {
     "name": "stderr",
     "output_type": "stream",
     "text": [
      "      29/50         9G      1.505     0.7714      1.115         68        640: 100%|██████████| 65/65 [00:38<00:00,  1.68it/s]\n",
      "                 Class     Images  Instances      Box(P          R      mAP50  mAP50-95): 100%|██████████| 10/10 [00:04<00:00,  2.27it/s]"
     ]
    },
    {
     "name": "stdout",
     "output_type": "stream",
     "text": [
      "                   all        583       1011      0.867      0.861      0.891      0.469\n"
     ]
    },
    {
     "name": "stderr",
     "output_type": "stream",
     "text": [
      "\n"
     ]
    },
    {
     "name": "stdout",
     "output_type": "stream",
     "text": [
      "\n",
      "      Epoch    GPU_mem   box_loss   cls_loss   dfl_loss  Instances       Size\n"
     ]
    },
    {
     "name": "stderr",
     "output_type": "stream",
     "text": [
      "      30/50         9G      1.516     0.7722      1.122        123        640: 100%|██████████| 65/65 [00:38<00:00,  1.68it/s]\n",
      "                 Class     Images  Instances      Box(P          R      mAP50  mAP50-95): 100%|██████████| 10/10 [00:04<00:00,  2.27it/s]"
     ]
    },
    {
     "name": "stdout",
     "output_type": "stream",
     "text": [
      "                   all        583       1011      0.877      0.856      0.894      0.473\n"
     ]
    },
    {
     "name": "stderr",
     "output_type": "stream",
     "text": [
      "\n"
     ]
    },
    {
     "name": "stdout",
     "output_type": "stream",
     "text": [
      "\n",
      "      Epoch    GPU_mem   box_loss   cls_loss   dfl_loss  Instances       Size\n"
     ]
    },
    {
     "name": "stderr",
     "output_type": "stream",
     "text": [
      "      31/50         9G      1.522     0.7612      1.115         47        640: 100%|██████████| 65/65 [00:38<00:00,  1.68it/s]\n",
      "                 Class     Images  Instances      Box(P          R      mAP50  mAP50-95): 100%|██████████| 10/10 [00:04<00:00,  2.29it/s]"
     ]
    },
    {
     "name": "stdout",
     "output_type": "stream",
     "text": [
      "                   all        583       1011      0.861      0.844      0.874      0.464\n"
     ]
    },
    {
     "name": "stderr",
     "output_type": "stream",
     "text": [
      "\n"
     ]
    },
    {
     "name": "stdout",
     "output_type": "stream",
     "text": [
      "\n",
      "      Epoch    GPU_mem   box_loss   cls_loss   dfl_loss  Instances       Size\n"
     ]
    },
    {
     "name": "stderr",
     "output_type": "stream",
     "text": [
      "      32/50         9G      1.492     0.7529      1.105         63        640: 100%|██████████| 65/65 [00:38<00:00,  1.68it/s]\n",
      "                 Class     Images  Instances      Box(P          R      mAP50  mAP50-95): 100%|██████████| 10/10 [00:04<00:00,  2.30it/s]"
     ]
    },
    {
     "name": "stdout",
     "output_type": "stream",
     "text": [
      "                   all        583       1011      0.881      0.853      0.888      0.469\n"
     ]
    },
    {
     "name": "stderr",
     "output_type": "stream",
     "text": [
      "\n"
     ]
    },
    {
     "name": "stdout",
     "output_type": "stream",
     "text": [
      "\n",
      "      Epoch    GPU_mem   box_loss   cls_loss   dfl_loss  Instances       Size\n"
     ]
    },
    {
     "name": "stderr",
     "output_type": "stream",
     "text": [
      "      33/50         9G      1.495     0.7493      1.099         63        640: 100%|██████████| 65/65 [00:38<00:00,  1.67it/s]\n",
      "                 Class     Images  Instances      Box(P          R      mAP50  mAP50-95): 100%|██████████| 10/10 [00:04<00:00,  2.28it/s]"
     ]
    },
    {
     "name": "stdout",
     "output_type": "stream",
     "text": [
      "                   all        583       1011       0.87      0.861       0.89       0.47\n"
     ]
    },
    {
     "name": "stderr",
     "output_type": "stream",
     "text": [
      "\n"
     ]
    },
    {
     "name": "stdout",
     "output_type": "stream",
     "text": [
      "\n",
      "      Epoch    GPU_mem   box_loss   cls_loss   dfl_loss  Instances       Size\n"
     ]
    },
    {
     "name": "stderr",
     "output_type": "stream",
     "text": [
      "      34/50         9G      1.493     0.7491      1.094         83        640: 100%|██████████| 65/65 [00:38<00:00,  1.67it/s]\n",
      "                 Class     Images  Instances      Box(P          R      mAP50  mAP50-95): 100%|██████████| 10/10 [00:04<00:00,  2.31it/s]"
     ]
    },
    {
     "name": "stdout",
     "output_type": "stream",
     "text": [
      "                   all        583       1011      0.875      0.856      0.891      0.469\n"
     ]
    },
    {
     "name": "stderr",
     "output_type": "stream",
     "text": [
      "\n"
     ]
    },
    {
     "name": "stdout",
     "output_type": "stream",
     "text": [
      "\n",
      "      Epoch    GPU_mem   box_loss   cls_loss   dfl_loss  Instances       Size\n"
     ]
    },
    {
     "name": "stderr",
     "output_type": "stream",
     "text": [
      "      35/50         9G       1.47     0.7374      1.091        102        640: 100%|██████████| 65/65 [00:38<00:00,  1.67it/s]\n",
      "                 Class     Images  Instances      Box(P          R      mAP50  mAP50-95): 100%|██████████| 10/10 [00:04<00:00,  2.30it/s]"
     ]
    },
    {
     "name": "stdout",
     "output_type": "stream",
     "text": [
      "                   all        583       1011      0.876      0.864      0.901      0.479\n"
     ]
    },
    {
     "name": "stderr",
     "output_type": "stream",
     "text": [
      "\n"
     ]
    },
    {
     "name": "stdout",
     "output_type": "stream",
     "text": [
      "\n",
      "      Epoch    GPU_mem   box_loss   cls_loss   dfl_loss  Instances       Size\n"
     ]
    },
    {
     "name": "stderr",
     "output_type": "stream",
     "text": [
      "      36/50         9G      1.458     0.7218      1.084         75        640: 100%|██████████| 65/65 [00:38<00:00,  1.67it/s]\n",
      "                 Class     Images  Instances      Box(P          R      mAP50  mAP50-95): 100%|██████████| 10/10 [00:04<00:00,  2.14it/s]"
     ]
    },
    {
     "name": "stdout",
     "output_type": "stream",
     "text": [
      "                   all        583       1011       0.88      0.861      0.893      0.478\n"
     ]
    },
    {
     "name": "stderr",
     "output_type": "stream",
     "text": [
      "\n"
     ]
    },
    {
     "name": "stdout",
     "output_type": "stream",
     "text": [
      "\n",
      "      Epoch    GPU_mem   box_loss   cls_loss   dfl_loss  Instances       Size\n"
     ]
    },
    {
     "name": "stderr",
     "output_type": "stream",
     "text": [
      "      37/50         9G      1.463     0.7234      1.089         85        640: 100%|██████████| 65/65 [00:38<00:00,  1.68it/s]\n",
      "                 Class     Images  Instances      Box(P          R      mAP50  mAP50-95): 100%|██████████| 10/10 [00:04<00:00,  2.31it/s]"
     ]
    },
    {
     "name": "stdout",
     "output_type": "stream",
     "text": [
      "                   all        583       1011      0.894      0.873      0.902      0.474\n"
     ]
    },
    {
     "name": "stderr",
     "output_type": "stream",
     "text": [
      "\n"
     ]
    },
    {
     "name": "stdout",
     "output_type": "stream",
     "text": [
      "\n",
      "      Epoch    GPU_mem   box_loss   cls_loss   dfl_loss  Instances       Size\n"
     ]
    },
    {
     "name": "stderr",
     "output_type": "stream",
     "text": [
      "      38/50         9G      1.449     0.7183      1.093         83        640: 100%|██████████| 65/65 [00:38<00:00,  1.67it/s]\n",
      "                 Class     Images  Instances      Box(P          R      mAP50  mAP50-95): 100%|██████████| 10/10 [00:04<00:00,  2.29it/s]"
     ]
    },
    {
     "name": "stdout",
     "output_type": "stream",
     "text": [
      "                   all        583       1011      0.876      0.867      0.898      0.476\n"
     ]
    },
    {
     "name": "stderr",
     "output_type": "stream",
     "text": [
      "\n"
     ]
    },
    {
     "name": "stdout",
     "output_type": "stream",
     "text": [
      "\n",
      "      Epoch    GPU_mem   box_loss   cls_loss   dfl_loss  Instances       Size\n"
     ]
    },
    {
     "name": "stderr",
     "output_type": "stream",
     "text": [
      "      39/50         9G      1.445     0.7138      1.087         83        640: 100%|██████████| 65/65 [00:38<00:00,  1.68it/s]\n",
      "                 Class     Images  Instances      Box(P          R      mAP50  mAP50-95): 100%|██████████| 10/10 [00:04<00:00,  2.31it/s]"
     ]
    },
    {
     "name": "stdout",
     "output_type": "stream",
     "text": [
      "                   all        583       1011      0.879      0.862      0.887      0.471\n"
     ]
    },
    {
     "name": "stderr",
     "output_type": "stream",
     "text": [
      "\n"
     ]
    },
    {
     "name": "stdout",
     "output_type": "stream",
     "text": [
      "\n",
      "      Epoch    GPU_mem   box_loss   cls_loss   dfl_loss  Instances       Size\n"
     ]
    },
    {
     "name": "stderr",
     "output_type": "stream",
     "text": [
      "      40/50         9G       1.43      0.709      1.078        103        640: 100%|██████████| 65/65 [00:38<00:00,  1.67it/s]\n",
      "                 Class     Images  Instances      Box(P          R      mAP50  mAP50-95): 100%|██████████| 10/10 [00:04<00:00,  2.27it/s]"
     ]
    },
    {
     "name": "stdout",
     "output_type": "stream",
     "text": [
      "                   all        583       1011      0.878      0.858      0.893      0.478\n"
     ]
    },
    {
     "name": "stderr",
     "output_type": "stream",
     "text": [
      "\n"
     ]
    },
    {
     "name": "stdout",
     "output_type": "stream",
     "text": [
      "Closing dataloader mosaic\n",
      "\u001b[34m\u001b[1malbumentations: \u001b[0mBlur(p=0.01, blur_limit=(3, 7)), MedianBlur(p=0.01, blur_limit=(3, 7)), ToGray(p=0.01, num_output_channels=3, method='weighted_average'), CLAHE(p=0.01, clip_limit=(1.0, 4.0), tile_grid_size=(8, 8))\n",
      "\n",
      "      Epoch    GPU_mem   box_loss   cls_loss   dfl_loss  Instances       Size\n"
     ]
    },
    {
     "name": "stderr",
     "output_type": "stream",
     "text": [
      "      41/50         9G      1.432     0.6597      1.082         49        640: 100%|██████████| 65/65 [00:39<00:00,  1.63it/s]\n",
      "                 Class     Images  Instances      Box(P          R      mAP50  mAP50-95): 100%|██████████| 10/10 [00:04<00:00,  2.23it/s]"
     ]
    },
    {
     "name": "stdout",
     "output_type": "stream",
     "text": [
      "                   all        583       1011      0.878      0.858       0.89      0.475\n"
     ]
    },
    {
     "name": "stderr",
     "output_type": "stream",
     "text": [
      "\n"
     ]
    },
    {
     "name": "stdout",
     "output_type": "stream",
     "text": [
      "\n",
      "      Epoch    GPU_mem   box_loss   cls_loss   dfl_loss  Instances       Size\n"
     ]
    },
    {
     "name": "stderr",
     "output_type": "stream",
     "text": [
      "      42/50         9G      1.418     0.6531      1.077         67        640: 100%|██████████| 65/65 [00:38<00:00,  1.68it/s]\n",
      "                 Class     Images  Instances      Box(P          R      mAP50  mAP50-95): 100%|██████████| 10/10 [00:04<00:00,  2.32it/s]"
     ]
    },
    {
     "name": "stdout",
     "output_type": "stream",
     "text": [
      "                   all        583       1011      0.878      0.867      0.901      0.483\n"
     ]
    },
    {
     "name": "stderr",
     "output_type": "stream",
     "text": [
      "\n"
     ]
    },
    {
     "name": "stdout",
     "output_type": "stream",
     "text": [
      "\n",
      "      Epoch    GPU_mem   box_loss   cls_loss   dfl_loss  Instances       Size\n"
     ]
    },
    {
     "name": "stderr",
     "output_type": "stream",
     "text": [
      "      43/50         9G      1.391     0.6385      1.068         51        640: 100%|██████████| 65/65 [00:38<00:00,  1.68it/s]\n",
      "                 Class     Images  Instances      Box(P          R      mAP50  mAP50-95): 100%|██████████| 10/10 [00:04<00:00,  2.32it/s]"
     ]
    },
    {
     "name": "stdout",
     "output_type": "stream",
     "text": [
      "                   all        583       1011      0.886      0.857      0.894      0.479\n"
     ]
    },
    {
     "name": "stderr",
     "output_type": "stream",
     "text": [
      "\n"
     ]
    },
    {
     "name": "stdout",
     "output_type": "stream",
     "text": [
      "\n",
      "      Epoch    GPU_mem   box_loss   cls_loss   dfl_loss  Instances       Size\n"
     ]
    },
    {
     "name": "stderr",
     "output_type": "stream",
     "text": [
      "      44/50         9G      1.377     0.6341       1.06         44        640: 100%|██████████| 65/65 [00:38<00:00,  1.68it/s]\n",
      "                 Class     Images  Instances      Box(P          R      mAP50  mAP50-95): 100%|██████████| 10/10 [00:04<00:00,  2.21it/s]"
     ]
    },
    {
     "name": "stdout",
     "output_type": "stream",
     "text": [
      "                   all        583       1011      0.871      0.865      0.893      0.478\n"
     ]
    },
    {
     "name": "stderr",
     "output_type": "stream",
     "text": [
      "\n"
     ]
    },
    {
     "name": "stdout",
     "output_type": "stream",
     "text": [
      "\n",
      "      Epoch    GPU_mem   box_loss   cls_loss   dfl_loss  Instances       Size\n"
     ]
    },
    {
     "name": "stderr",
     "output_type": "stream",
     "text": [
      "      45/50         9G      1.371     0.6217      1.056         44        640: 100%|██████████| 65/65 [00:38<00:00,  1.68it/s]\n",
      "                 Class     Images  Instances      Box(P          R      mAP50  mAP50-95): 100%|██████████| 10/10 [00:04<00:00,  2.31it/s]"
     ]
    },
    {
     "name": "stdout",
     "output_type": "stream",
     "text": [
      "                   all        583       1011      0.874      0.875      0.898      0.479\n"
     ]
    },
    {
     "name": "stderr",
     "output_type": "stream",
     "text": [
      "\n"
     ]
    },
    {
     "name": "stdout",
     "output_type": "stream",
     "text": [
      "\n",
      "      Epoch    GPU_mem   box_loss   cls_loss   dfl_loss  Instances       Size\n"
     ]
    },
    {
     "name": "stderr",
     "output_type": "stream",
     "text": [
      "      46/50         9G      1.364     0.6263      1.059         34        640: 100%|██████████| 65/65 [00:38<00:00,  1.68it/s]\n",
      "                 Class     Images  Instances      Box(P          R      mAP50  mAP50-95): 100%|██████████| 10/10 [00:04<00:00,  2.30it/s]"
     ]
    },
    {
     "name": "stdout",
     "output_type": "stream",
     "text": [
      "                   all        583       1011      0.873      0.872      0.896       0.48\n"
     ]
    },
    {
     "name": "stderr",
     "output_type": "stream",
     "text": [
      "\n"
     ]
    },
    {
     "name": "stdout",
     "output_type": "stream",
     "text": [
      "\n",
      "      Epoch    GPU_mem   box_loss   cls_loss   dfl_loss  Instances       Size\n"
     ]
    },
    {
     "name": "stderr",
     "output_type": "stream",
     "text": [
      "      47/50         9G      1.347     0.6116      1.048         44        640: 100%|██████████| 65/65 [00:38<00:00,  1.68it/s]\n",
      "                 Class     Images  Instances      Box(P          R      mAP50  mAP50-95): 100%|██████████| 10/10 [00:04<00:00,  2.29it/s]"
     ]
    },
    {
     "name": "stdout",
     "output_type": "stream",
     "text": [
      "                   all        583       1011      0.875      0.869      0.892      0.481\n"
     ]
    },
    {
     "name": "stderr",
     "output_type": "stream",
     "text": [
      "\n"
     ]
    },
    {
     "name": "stdout",
     "output_type": "stream",
     "text": [
      "\n",
      "      Epoch    GPU_mem   box_loss   cls_loss   dfl_loss  Instances       Size\n"
     ]
    },
    {
     "name": "stderr",
     "output_type": "stream",
     "text": [
      "      48/50         9G      1.348     0.6139      1.058         63        640: 100%|██████████| 65/65 [00:38<00:00,  1.68it/s]\n",
      "                 Class     Images  Instances      Box(P          R      mAP50  mAP50-95): 100%|██████████| 10/10 [00:04<00:00,  2.30it/s]"
     ]
    },
    {
     "name": "stdout",
     "output_type": "stream",
     "text": [
      "                   all        583       1011      0.881      0.879      0.896      0.481\n"
     ]
    },
    {
     "name": "stderr",
     "output_type": "stream",
     "text": [
      "\n"
     ]
    },
    {
     "name": "stdout",
     "output_type": "stream",
     "text": [
      "\n",
      "      Epoch    GPU_mem   box_loss   cls_loss   dfl_loss  Instances       Size\n"
     ]
    },
    {
     "name": "stderr",
     "output_type": "stream",
     "text": [
      "      49/50         9G      1.349     0.6104      1.058         39        640: 100%|██████████| 65/65 [00:38<00:00,  1.68it/s]\n",
      "                 Class     Images  Instances      Box(P          R      mAP50  mAP50-95): 100%|██████████| 10/10 [00:04<00:00,  2.30it/s]"
     ]
    },
    {
     "name": "stdout",
     "output_type": "stream",
     "text": [
      "                   all        583       1011      0.879      0.875      0.895      0.481\n"
     ]
    },
    {
     "name": "stderr",
     "output_type": "stream",
     "text": [
      "\n"
     ]
    },
    {
     "name": "stdout",
     "output_type": "stream",
     "text": [
      "\n",
      "      Epoch    GPU_mem   box_loss   cls_loss   dfl_loss  Instances       Size\n"
     ]
    },
    {
     "name": "stderr",
     "output_type": "stream",
     "text": [
      "      50/50         9G       1.35     0.6119      1.053         85        640: 100%|██████████| 65/65 [00:38<00:00,  1.67it/s]\n",
      "                 Class     Images  Instances      Box(P          R      mAP50  mAP50-95): 100%|██████████| 10/10 [00:04<00:00,  2.34it/s]"
     ]
    },
    {
     "name": "stdout",
     "output_type": "stream",
     "text": [
      "                   all        583       1011      0.878      0.873      0.893      0.481\n"
     ]
    },
    {
     "name": "stderr",
     "output_type": "stream",
     "text": [
      "\n"
     ]
    },
    {
     "name": "stdout",
     "output_type": "stream",
     "text": [
      "\n",
      "50 epochs completed in 0.611 hours.\n",
      "Optimizer stripped from runs/detect/train/weights/last.pt, 19.2MB\n",
      "Optimizer stripped from runs/detect/train/weights/best.pt, 19.2MB\n",
      "\n",
      "Validating runs/detect/train/weights/best.pt...\n",
      "Ultralytics 8.3.108 🚀 Python-3.10.12 torch-2.5.1+cu121 CUDA:0 (Tesla P100-PCIE-16GB, 16269MiB)\n",
      "YOLO11s summary (fused): 100 layers, 9,413,187 parameters, 0 gradients, 21.3 GFLOPs\n"
     ]
    },
    {
     "name": "stderr",
     "output_type": "stream",
     "text": [
      "                 Class     Images  Instances      Box(P          R      mAP50  mAP50-95): 100%|██████████| 10/10 [00:05<00:00,  1.70it/s]\n"
     ]
    },
    {
     "name": "stdout",
     "output_type": "stream",
     "text": [
      "                   all        583       1011      0.885      0.861        0.9      0.483\n"
     ]
    },
    {
     "name": "stderr",
     "output_type": "stream",
     "text": [
      "/usr/local/lib/python3.10/dist-packages/matplotlib/colors.py:721: RuntimeWarning: invalid value encountered in less\n",
      "  xa[xa < 0] = -1\n",
      "/usr/local/lib/python3.10/dist-packages/matplotlib/colors.py:721: RuntimeWarning: invalid value encountered in less\n",
      "  xa[xa < 0] = -1\n"
     ]
    },
    {
     "name": "stdout",
     "output_type": "stream",
     "text": [
      "Speed: 0.2ms preprocess, 4.6ms inference, 0.0ms loss, 1.4ms postprocess per image\n",
      "Results saved to \u001b[1mruns/detect/train\u001b[0m\n"
     ]
    },
    {
     "data": {
      "text/plain": [
       "ultralytics.utils.metrics.DetMetrics object with attributes:\n",
       "\n",
       "ap_class_index: array([0])\n",
       "box: ultralytics.utils.metrics.Metric object\n",
       "confusion_matrix: <ultralytics.utils.metrics.ConfusionMatrix object at 0x7a4b1039cd00>\n",
       "curves: ['Precision-Recall(B)', 'F1-Confidence(B)', 'Precision-Confidence(B)', 'Recall-Confidence(B)']\n",
       "curves_results: [[array([          0,    0.001001,    0.002002,    0.003003,    0.004004,    0.005005,    0.006006,    0.007007,    0.008008,    0.009009,     0.01001,    0.011011,    0.012012,    0.013013,    0.014014,    0.015015,    0.016016,    0.017017,    0.018018,    0.019019,     0.02002,    0.021021,    0.022022,    0.023023,\n",
       "          0.024024,    0.025025,    0.026026,    0.027027,    0.028028,    0.029029,     0.03003,    0.031031,    0.032032,    0.033033,    0.034034,    0.035035,    0.036036,    0.037037,    0.038038,    0.039039,     0.04004,    0.041041,    0.042042,    0.043043,    0.044044,    0.045045,    0.046046,    0.047047,\n",
       "          0.048048,    0.049049,     0.05005,    0.051051,    0.052052,    0.053053,    0.054054,    0.055055,    0.056056,    0.057057,    0.058058,    0.059059,     0.06006,    0.061061,    0.062062,    0.063063,    0.064064,    0.065065,    0.066066,    0.067067,    0.068068,    0.069069,     0.07007,    0.071071,\n",
       "          0.072072,    0.073073,    0.074074,    0.075075,    0.076076,    0.077077,    0.078078,    0.079079,     0.08008,    0.081081,    0.082082,    0.083083,    0.084084,    0.085085,    0.086086,    0.087087,    0.088088,    0.089089,     0.09009,    0.091091,    0.092092,    0.093093,    0.094094,    0.095095,\n",
       "          0.096096,    0.097097,    0.098098,    0.099099,      0.1001,      0.1011,      0.1021,      0.1031,      0.1041,     0.10511,     0.10611,     0.10711,     0.10811,     0.10911,     0.11011,     0.11111,     0.11211,     0.11311,     0.11411,     0.11512,     0.11612,     0.11712,     0.11812,     0.11912,\n",
       "           0.12012,     0.12112,     0.12212,     0.12312,     0.12412,     0.12513,     0.12613,     0.12713,     0.12813,     0.12913,     0.13013,     0.13113,     0.13213,     0.13313,     0.13413,     0.13514,     0.13614,     0.13714,     0.13814,     0.13914,     0.14014,     0.14114,     0.14214,     0.14314,\n",
       "           0.14414,     0.14515,     0.14615,     0.14715,     0.14815,     0.14915,     0.15015,     0.15115,     0.15215,     0.15315,     0.15415,     0.15516,     0.15616,     0.15716,     0.15816,     0.15916,     0.16016,     0.16116,     0.16216,     0.16316,     0.16416,     0.16517,     0.16617,     0.16717,\n",
       "           0.16817,     0.16917,     0.17017,     0.17117,     0.17217,     0.17317,     0.17417,     0.17518,     0.17618,     0.17718,     0.17818,     0.17918,     0.18018,     0.18118,     0.18218,     0.18318,     0.18418,     0.18519,     0.18619,     0.18719,     0.18819,     0.18919,     0.19019,     0.19119,\n",
       "           0.19219,     0.19319,     0.19419,      0.1952,      0.1962,      0.1972,      0.1982,      0.1992,      0.2002,      0.2012,      0.2022,      0.2032,      0.2042,     0.20521,     0.20621,     0.20721,     0.20821,     0.20921,     0.21021,     0.21121,     0.21221,     0.21321,     0.21421,     0.21522,\n",
       "           0.21622,     0.21722,     0.21822,     0.21922,     0.22022,     0.22122,     0.22222,     0.22322,     0.22422,     0.22523,     0.22623,     0.22723,     0.22823,     0.22923,     0.23023,     0.23123,     0.23223,     0.23323,     0.23423,     0.23524,     0.23624,     0.23724,     0.23824,     0.23924,\n",
       "           0.24024,     0.24124,     0.24224,     0.24324,     0.24424,     0.24525,     0.24625,     0.24725,     0.24825,     0.24925,     0.25025,     0.25125,     0.25225,     0.25325,     0.25425,     0.25526,     0.25626,     0.25726,     0.25826,     0.25926,     0.26026,     0.26126,     0.26226,     0.26326,\n",
       "           0.26426,     0.26527,     0.26627,     0.26727,     0.26827,     0.26927,     0.27027,     0.27127,     0.27227,     0.27327,     0.27427,     0.27528,     0.27628,     0.27728,     0.27828,     0.27928,     0.28028,     0.28128,     0.28228,     0.28328,     0.28428,     0.28529,     0.28629,     0.28729,\n",
       "           0.28829,     0.28929,     0.29029,     0.29129,     0.29229,     0.29329,     0.29429,      0.2953,      0.2963,      0.2973,      0.2983,      0.2993,      0.3003,      0.3013,      0.3023,      0.3033,      0.3043,     0.30531,     0.30631,     0.30731,     0.30831,     0.30931,     0.31031,     0.31131,\n",
       "           0.31231,     0.31331,     0.31431,     0.31532,     0.31632,     0.31732,     0.31832,     0.31932,     0.32032,     0.32132,     0.32232,     0.32332,     0.32432,     0.32533,     0.32633,     0.32733,     0.32833,     0.32933,     0.33033,     0.33133,     0.33233,     0.33333,     0.33433,     0.33534,\n",
       "           0.33634,     0.33734,     0.33834,     0.33934,     0.34034,     0.34134,     0.34234,     0.34334,     0.34434,     0.34535,     0.34635,     0.34735,     0.34835,     0.34935,     0.35035,     0.35135,     0.35235,     0.35335,     0.35435,     0.35536,     0.35636,     0.35736,     0.35836,     0.35936,\n",
       "           0.36036,     0.36136,     0.36236,     0.36336,     0.36436,     0.36537,     0.36637,     0.36737,     0.36837,     0.36937,     0.37037,     0.37137,     0.37237,     0.37337,     0.37437,     0.37538,     0.37638,     0.37738,     0.37838,     0.37938,     0.38038,     0.38138,     0.38238,     0.38338,\n",
       "           0.38438,     0.38539,     0.38639,     0.38739,     0.38839,     0.38939,     0.39039,     0.39139,     0.39239,     0.39339,     0.39439,      0.3954,      0.3964,      0.3974,      0.3984,      0.3994,      0.4004,      0.4014,      0.4024,      0.4034,      0.4044,     0.40541,     0.40641,     0.40741,\n",
       "           0.40841,     0.40941,     0.41041,     0.41141,     0.41241,     0.41341,     0.41441,     0.41542,     0.41642,     0.41742,     0.41842,     0.41942,     0.42042,     0.42142,     0.42242,     0.42342,     0.42442,     0.42543,     0.42643,     0.42743,     0.42843,     0.42943,     0.43043,     0.43143,\n",
       "           0.43243,     0.43343,     0.43443,     0.43544,     0.43644,     0.43744,     0.43844,     0.43944,     0.44044,     0.44144,     0.44244,     0.44344,     0.44444,     0.44545,     0.44645,     0.44745,     0.44845,     0.44945,     0.45045,     0.45145,     0.45245,     0.45345,     0.45445,     0.45546,\n",
       "           0.45646,     0.45746,     0.45846,     0.45946,     0.46046,     0.46146,     0.46246,     0.46346,     0.46446,     0.46547,     0.46647,     0.46747,     0.46847,     0.46947,     0.47047,     0.47147,     0.47247,     0.47347,     0.47447,     0.47548,     0.47648,     0.47748,     0.47848,     0.47948,\n",
       "           0.48048,     0.48148,     0.48248,     0.48348,     0.48448,     0.48549,     0.48649,     0.48749,     0.48849,     0.48949,     0.49049,     0.49149,     0.49249,     0.49349,     0.49449,      0.4955,      0.4965,      0.4975,      0.4985,      0.4995,      0.5005,      0.5015,      0.5025,      0.5035,\n",
       "            0.5045,     0.50551,     0.50651,     0.50751,     0.50851,     0.50951,     0.51051,     0.51151,     0.51251,     0.51351,     0.51451,     0.51552,     0.51652,     0.51752,     0.51852,     0.51952,     0.52052,     0.52152,     0.52252,     0.52352,     0.52452,     0.52553,     0.52653,     0.52753,\n",
       "           0.52853,     0.52953,     0.53053,     0.53153,     0.53253,     0.53353,     0.53453,     0.53554,     0.53654,     0.53754,     0.53854,     0.53954,     0.54054,     0.54154,     0.54254,     0.54354,     0.54454,     0.54555,     0.54655,     0.54755,     0.54855,     0.54955,     0.55055,     0.55155,\n",
       "           0.55255,     0.55355,     0.55455,     0.55556,     0.55656,     0.55756,     0.55856,     0.55956,     0.56056,     0.56156,     0.56256,     0.56356,     0.56456,     0.56557,     0.56657,     0.56757,     0.56857,     0.56957,     0.57057,     0.57157,     0.57257,     0.57357,     0.57457,     0.57558,\n",
       "           0.57658,     0.57758,     0.57858,     0.57958,     0.58058,     0.58158,     0.58258,     0.58358,     0.58458,     0.58559,     0.58659,     0.58759,     0.58859,     0.58959,     0.59059,     0.59159,     0.59259,     0.59359,     0.59459,      0.5956,      0.5966,      0.5976,      0.5986,      0.5996,\n",
       "            0.6006,      0.6016,      0.6026,      0.6036,      0.6046,     0.60561,     0.60661,     0.60761,     0.60861,     0.60961,     0.61061,     0.61161,     0.61261,     0.61361,     0.61461,     0.61562,     0.61662,     0.61762,     0.61862,     0.61962,     0.62062,     0.62162,     0.62262,     0.62362,\n",
       "           0.62462,     0.62563,     0.62663,     0.62763,     0.62863,     0.62963,     0.63063,     0.63163,     0.63263,     0.63363,     0.63463,     0.63564,     0.63664,     0.63764,     0.63864,     0.63964,     0.64064,     0.64164,     0.64264,     0.64364,     0.64464,     0.64565,     0.64665,     0.64765,\n",
       "           0.64865,     0.64965,     0.65065,     0.65165,     0.65265,     0.65365,     0.65465,     0.65566,     0.65666,     0.65766,     0.65866,     0.65966,     0.66066,     0.66166,     0.66266,     0.66366,     0.66466,     0.66567,     0.66667,     0.66767,     0.66867,     0.66967,     0.67067,     0.67167,\n",
       "           0.67267,     0.67367,     0.67467,     0.67568,     0.67668,     0.67768,     0.67868,     0.67968,     0.68068,     0.68168,     0.68268,     0.68368,     0.68468,     0.68569,     0.68669,     0.68769,     0.68869,     0.68969,     0.69069,     0.69169,     0.69269,     0.69369,     0.69469,      0.6957,\n",
       "            0.6967,      0.6977,      0.6987,      0.6997,      0.7007,      0.7017,      0.7027,      0.7037,      0.7047,     0.70571,     0.70671,     0.70771,     0.70871,     0.70971,     0.71071,     0.71171,     0.71271,     0.71371,     0.71471,     0.71572,     0.71672,     0.71772,     0.71872,     0.71972,\n",
       "           0.72072,     0.72172,     0.72272,     0.72372,     0.72472,     0.72573,     0.72673,     0.72773,     0.72873,     0.72973,     0.73073,     0.73173,     0.73273,     0.73373,     0.73473,     0.73574,     0.73674,     0.73774,     0.73874,     0.73974,     0.74074,     0.74174,     0.74274,     0.74374,\n",
       "           0.74474,     0.74575,     0.74675,     0.74775,     0.74875,     0.74975,     0.75075,     0.75175,     0.75275,     0.75375,     0.75475,     0.75576,     0.75676,     0.75776,     0.75876,     0.75976,     0.76076,     0.76176,     0.76276,     0.76376,     0.76476,     0.76577,     0.76677,     0.76777,\n",
       "           0.76877,     0.76977,     0.77077,     0.77177,     0.77277,     0.77377,     0.77477,     0.77578,     0.77678,     0.77778,     0.77878,     0.77978,     0.78078,     0.78178,     0.78278,     0.78378,     0.78478,     0.78579,     0.78679,     0.78779,     0.78879,     0.78979,     0.79079,     0.79179,\n",
       "           0.79279,     0.79379,     0.79479,      0.7958,      0.7968,      0.7978,      0.7988,      0.7998,      0.8008,      0.8018,      0.8028,      0.8038,      0.8048,     0.80581,     0.80681,     0.80781,     0.80881,     0.80981,     0.81081,     0.81181,     0.81281,     0.81381,     0.81481,     0.81582,\n",
       "           0.81682,     0.81782,     0.81882,     0.81982,     0.82082,     0.82182,     0.82282,     0.82382,     0.82482,     0.82583,     0.82683,     0.82783,     0.82883,     0.82983,     0.83083,     0.83183,     0.83283,     0.83383,     0.83483,     0.83584,     0.83684,     0.83784,     0.83884,     0.83984,\n",
       "           0.84084,     0.84184,     0.84284,     0.84384,     0.84484,     0.84585,     0.84685,     0.84785,     0.84885,     0.84985,     0.85085,     0.85185,     0.85285,     0.85385,     0.85485,     0.85586,     0.85686,     0.85786,     0.85886,     0.85986,     0.86086,     0.86186,     0.86286,     0.86386,\n",
       "           0.86486,     0.86587,     0.86687,     0.86787,     0.86887,     0.86987,     0.87087,     0.87187,     0.87287,     0.87387,     0.87487,     0.87588,     0.87688,     0.87788,     0.87888,     0.87988,     0.88088,     0.88188,     0.88288,     0.88388,     0.88488,     0.88589,     0.88689,     0.88789,\n",
       "           0.88889,     0.88989,     0.89089,     0.89189,     0.89289,     0.89389,     0.89489,      0.8959,      0.8969,      0.8979,      0.8989,      0.8999,      0.9009,      0.9019,      0.9029,      0.9039,      0.9049,     0.90591,     0.90691,     0.90791,     0.90891,     0.90991,     0.91091,     0.91191,\n",
       "           0.91291,     0.91391,     0.91491,     0.91592,     0.91692,     0.91792,     0.91892,     0.91992,     0.92092,     0.92192,     0.92292,     0.92392,     0.92492,     0.92593,     0.92693,     0.92793,     0.92893,     0.92993,     0.93093,     0.93193,     0.93293,     0.93393,     0.93493,     0.93594,\n",
       "           0.93694,     0.93794,     0.93894,     0.93994,     0.94094,     0.94194,     0.94294,     0.94394,     0.94494,     0.94595,     0.94695,     0.94795,     0.94895,     0.94995,     0.95095,     0.95195,     0.95295,     0.95395,     0.95495,     0.95596,     0.95696,     0.95796,     0.95896,     0.95996,\n",
       "           0.96096,     0.96196,     0.96296,     0.96396,     0.96496,     0.96597,     0.96697,     0.96797,     0.96897,     0.96997,     0.97097,     0.97197,     0.97297,     0.97397,     0.97497,     0.97598,     0.97698,     0.97798,     0.97898,     0.97998,     0.98098,     0.98198,     0.98298,     0.98398,\n",
       "           0.98498,     0.98599,     0.98699,     0.98799,     0.98899,     0.98999,     0.99099,     0.99199,     0.99299,     0.99399,     0.99499,       0.996,       0.997,       0.998,       0.999,           1]), array([[          1,      0.9819,      0.9819,      0.9819,      0.9819,      0.9819,      0.9819,      0.9819,      0.9819,      0.9819,      0.9819,      0.9819,      0.9819,      0.9819,      0.9819,      0.9819,      0.9819,      0.9819,      0.9819,      0.9819,      0.9819,      0.9819,      0.9819,\n",
       "             0.9819,      0.9819,      0.9819,      0.9819,      0.9819,      0.9819,      0.9819,      0.9819,      0.9819,      0.9819,      0.9819,      0.9819,      0.9819,      0.9819,      0.9819,      0.9819,      0.9819,      0.9819,      0.9819,      0.9819,      0.9819,      0.9819,      0.9819,\n",
       "             0.9819,      0.9819,      0.9819,      0.9819,      0.9819,      0.9819,      0.9819,      0.9819,      0.9819,      0.9819,      0.9819,      0.9819,      0.9819,      0.9819,      0.9819,      0.9819,      0.9819,      0.9819,      0.9819,      0.9819,      0.9819,      0.9819,      0.9819,\n",
       "             0.9819,      0.9819,      0.9819,      0.9819,      0.9819,      0.9819,      0.9819,      0.9819,      0.9819,      0.9819,      0.9819,      0.9819,      0.9819,      0.9819,      0.9819,      0.9819,      0.9819,      0.9819,      0.9819,      0.9819,      0.9819,      0.9819,      0.9819,\n",
       "             0.9819,      0.9819,      0.9819,      0.9819,      0.9819,      0.9819,      0.9819,      0.9819,      0.9819,      0.9819,      0.9819,      0.9819,      0.9819,      0.9819,      0.9819,      0.9819,      0.9819,      0.9819,      0.9819,      0.9819,      0.9819,      0.9819,      0.9819,\n",
       "             0.9819,      0.9819,      0.9819,      0.9819,      0.9819,      0.9819,      0.9819,      0.9819,      0.9819,      0.9819,      0.9819,      0.9819,      0.9819,      0.9819,      0.9819,      0.9819,      0.9819,      0.9819,      0.9819,      0.9819,      0.9819,      0.9819,      0.9819,\n",
       "             0.9819,      0.9819,      0.9819,      0.9819,      0.9819,      0.9819,      0.9819,      0.9819,      0.9819,      0.9819,      0.9819,      0.9819,      0.9819,      0.9819,      0.9819,      0.9819,      0.9819,      0.9819,      0.9819,      0.9819,      0.9819,      0.9819,      0.9819,\n",
       "             0.9819,      0.9819,      0.9819,      0.9819,      0.9819,      0.9819,      0.9819,      0.9819,      0.9819,      0.9819,      0.9819,      0.9819,      0.9819,      0.9819,      0.9819,      0.9819,      0.9819,      0.9819,      0.9819,      0.9819,      0.9819,      0.9819,      0.9819,\n",
       "             0.9819,      0.9819,      0.9819,      0.9819,      0.9819,      0.9819,      0.9819,      0.9819,      0.9819,      0.9819,      0.9819,      0.9819,      0.9819,      0.9819,      0.9819,      0.9819,      0.9819,      0.9819,      0.9819,      0.9819,      0.9819,      0.9819,      0.9819,\n",
       "             0.9819,      0.9819,      0.9819,      0.9819,      0.9819,      0.9819,      0.9819,      0.9819,     0.97826,     0.97826,     0.97826,     0.97826,     0.97826,     0.97826,     0.97826,     0.97826,     0.97826,     0.97826,     0.97826,     0.97826,     0.97826,     0.97826,     0.97826,\n",
       "            0.97826,     0.97826,     0.97826,     0.97826,     0.97826,     0.97826,     0.97826,     0.97826,     0.97826,     0.97826,     0.97826,     0.97826,     0.97826,     0.97826,     0.97826,     0.97826,     0.97826,     0.97826,     0.97826,     0.97826,     0.97826,     0.97826,     0.97826,\n",
       "            0.97826,     0.97826,     0.97826,     0.97826,     0.97826,     0.97826,     0.97826,     0.97826,     0.97826,     0.97826,     0.97826,     0.97826,     0.97826,     0.97826,     0.97826,     0.97826,     0.97826,     0.97826,     0.97826,     0.97826,     0.97826,     0.97826,     0.97826,\n",
       "            0.97826,     0.97826,     0.97826,     0.97826,     0.97826,     0.97826,     0.97826,     0.97826,     0.97826,     0.97826,     0.97826,     0.97826,     0.97826,     0.97826,     0.97826,     0.97826,     0.97826,     0.97826,     0.97826,     0.97826,     0.97826,     0.97826,     0.97826,\n",
       "            0.97826,     0.97826,     0.97826,     0.97826,     0.97826,     0.97826,     0.97826,     0.97826,     0.97826,     0.97826,     0.97826,     0.97826,     0.97826,     0.97765,     0.97765,     0.97765,     0.97765,     0.97765,     0.97765,     0.97765,     0.97765,     0.97765,     0.97765,\n",
       "            0.97765,     0.97765,     0.97765,     0.97765,     0.97765,     0.97765,     0.97765,     0.97765,     0.97765,     0.97765,     0.97765,     0.97765,     0.97765,     0.97765,     0.97765,     0.97765,     0.97765,     0.97765,     0.97765,     0.97765,     0.97765,     0.97765,     0.97765,\n",
       "            0.97765,     0.97679,     0.97679,     0.97679,     0.97679,     0.97679,     0.97679,     0.97679,     0.97679,     0.97679,     0.97679,     0.97679,     0.97679,     0.97679,     0.97679,     0.97679,     0.97679,     0.97679,     0.97679,     0.97679,     0.97679,     0.97679,     0.97679,\n",
       "            0.97679,     0.97679,     0.97679,     0.97679,     0.97679,     0.97679,     0.97679,     0.97679,     0.97679,     0.97679,     0.97679,     0.97679,     0.97679,     0.97679,     0.97679,     0.97679,     0.97679,     0.97679,     0.97679,     0.97679,     0.97679,     0.97679,     0.97679,\n",
       "            0.97679,     0.97679,     0.97679,     0.97679,     0.97679,     0.97679,     0.97679,     0.97679,     0.97679,     0.97679,     0.97679,     0.97679,     0.97679,     0.97679,     0.97679,     0.97679,     0.97679,     0.97679,     0.97679,     0.97679,     0.97679,     0.97679,     0.97679,\n",
       "            0.97679,     0.97679,     0.97679,     0.97679,     0.97679,     0.97679,     0.97679,     0.97679,     0.97679,     0.97679,     0.97679,     0.97679,     0.97679,     0.97679,     0.97679,     0.97679,     0.97679,     0.97679,     0.97679,     0.97679,     0.97679,     0.97679,     0.97679,\n",
       "            0.97679,     0.97679,     0.97679,     0.97679,     0.97679,     0.97679,     0.97679,     0.97679,     0.97679,     0.97679,     0.97679,     0.97679,     0.97679,     0.97679,     0.97679,     0.97679,     0.97679,     0.97679,     0.97679,     0.97679,     0.97679,     0.97536,     0.97536,\n",
       "            0.97536,     0.97536,     0.97536,     0.97536,     0.97536,     0.97536,     0.97536,     0.97536,     0.97536,     0.97536,     0.97342,      0.9725,      0.9725,      0.9725,      0.9725,      0.9725,      0.9725,      0.9725,      0.9725,      0.9725,      0.9725,      0.9725,      0.9725,\n",
       "             0.9725,      0.9725,      0.9725,      0.9725,      0.9725,      0.9725,      0.9725,     0.97175,     0.97175,     0.97175,     0.97175,     0.97175,     0.97175,     0.97175,     0.97175,     0.97175,     0.97175,     0.97175,     0.97175,     0.97175,     0.97175,     0.97175,     0.97175,\n",
       "            0.97175,     0.97175,     0.97175,     0.97175,      0.9702,      0.9702,      0.9702,      0.9702,      0.9702,     0.96926,     0.96926,     0.96926,     0.96926,     0.96926,     0.96926,     0.96926,     0.96926,     0.96926,     0.96926,     0.96926,     0.96926,     0.96926,     0.96926,\n",
       "            0.96926,     0.96831,     0.96831,     0.96831,     0.96831,     0.96831,     0.96831,     0.96831,     0.96831,     0.96831,     0.96831,     0.96831,     0.96831,     0.96831,     0.96831,     0.96718,     0.96718,     0.96718,     0.96718,     0.96718,     0.96718,     0.96718,     0.96718,\n",
       "            0.96718,     0.96718,      0.9661,      0.9661,      0.9661,      0.9661,      0.9661,      0.9661,      0.9661,      0.9661,      0.9661,      0.9661,       0.965,       0.965,       0.965,       0.965,       0.965,       0.965,       0.965,       0.965,       0.965,     0.96346,     0.96211,\n",
       "            0.96211,     0.96211,     0.96211,     0.96203,     0.96203,     0.96203,     0.96203,     0.96203,     0.96203,     0.96203,     0.96203,     0.96203,     0.96203,     0.96203,     0.96203,     0.96203,     0.96203,     0.96203,     0.96203,     0.96203,     0.96203,     0.96203,     0.96203,\n",
       "            0.96203,     0.96203,     0.96203,     0.96057,     0.95931,     0.95931,     0.95931,     0.95931,     0.95699,     0.95699,     0.95699,     0.95699,     0.95699,     0.95699,     0.95699,     0.95699,     0.95699,     0.95699,     0.95639,     0.95639,     0.95639,     0.95639,     0.95639,\n",
       "            0.95639,     0.95639,     0.95639,     0.95639,     0.95639,     0.95639,     0.95639,     0.95639,     0.95502,     0.95428,     0.95428,     0.95428,     0.95428,     0.95428,     0.95428,     0.95428,     0.95428,     0.95428,     0.95428,     0.95315,     0.95315,     0.95315,     0.95315,\n",
       "            0.95224,     0.95224,     0.95224,     0.95224,     0.95224,     0.95224,     0.95224,     0.95122,     0.95122,     0.95122,     0.95122,     0.95122,     0.95021,     0.95021,     0.95021,     0.95021,     0.95021,     0.94818,     0.94818,     0.94818,     0.94818,     0.94818,     0.94818,\n",
       "            0.94818,     0.94818,       0.947,       0.947,      0.9449,      0.9449,      0.9449,      0.9449,      0.9449,      0.9449,      0.9449,     0.94376,     0.94376,     0.94293,     0.94293,     0.94293,     0.94293,     0.94293,     0.94293,      0.9429,      0.9429,      0.9429,      0.9429,\n",
       "             0.9429,      0.9429,      0.9429,      0.9429,      0.9429,      0.9429,      0.9429,      0.9429,      0.9429,      0.9429,      0.9429,      0.9429,      0.9418,      0.9418,     0.94094,     0.94094,     0.94094,     0.94094,     0.94094,     0.94003,     0.94003,     0.94003,     0.94003,\n",
       "            0.93904,     0.93904,     0.93904,     0.93814,     0.93814,     0.93814,     0.93814,     0.93774,     0.93774,     0.93774,     0.93774,     0.93774,     0.93774,     0.93774,     0.93774,     0.93774,     0.93774,     0.93734,     0.93734,     0.93734,     0.93734,     0.93734,     0.93734,\n",
       "            0.93734,     0.93734,     0.93734,     0.93734,     0.93625,     0.93532,     0.93532,     0.93532,     0.93457,     0.93457,     0.93457,     0.93457,     0.93457,     0.93447,     0.93447,     0.93447,     0.93447,     0.93447,     0.93447,     0.93447,     0.93447,     0.93447,     0.93447,\n",
       "            0.93447,     0.93447,     0.93373,     0.93373,     0.93373,     0.93373,     0.93373,     0.93285,     0.93285,     0.93285,      0.9307,     0.93059,     0.93059,     0.93059,     0.93059,     0.93059,     0.93059,     0.93059,     0.93059,     0.93059,     0.93059,     0.93059,     0.93059,\n",
       "            0.92899,     0.92899,     0.92899,     0.92899,     0.92899,     0.92899,     0.92899,     0.92708,     0.92708,     0.92708,     0.92618,     0.92618,     0.92546,     0.92546,     0.92546,     0.92546,     0.92466,     0.92466,     0.92466,     0.92168,     0.92168,     0.92081,     0.92081,\n",
       "            0.91986,      0.9191,      0.9191,      0.9191,     0.91816,     0.91732,     0.91732,     0.91639,     0.91444,     0.91372,     0.91372,     0.91372,      0.9128,     0.91209,     0.91209,     0.91209,     0.91068,     0.91068,     0.91068,     0.91068,     0.91068,     0.91068,     0.90879,\n",
       "            0.90791,     0.90713,     0.90713,     0.90625,     0.90267,     0.90267,     0.90202,     0.90202,     0.90202,     0.89947,     0.89947,     0.89947,     0.89863,     0.89822,     0.89822,     0.89822,     0.89822,     0.89822,     0.89738,     0.89572,     0.89572,     0.89419,     0.89419,\n",
       "            0.89419,     0.89349,     0.89349,     0.89267,     0.89198,     0.89198,     0.88673,     0.88673,     0.88595,     0.88259,     0.88259,     0.88105,     0.88105,     0.88028,     0.87776,     0.87637,     0.87637,     0.87637,     0.87562,     0.87413,     0.87413,     0.87179,     0.87179,\n",
       "            0.87106,     0.86621,     0.86621,     0.86337,     0.86337,     0.86337,     0.86337,      0.8628,      0.8628,     0.86044,     0.85171,     0.85171,     0.84623,     0.84349,     0.84349,     0.84349,     0.83658,     0.83441,     0.83303,     0.83088,     0.83028,     0.82664,     0.81949,\n",
       "            0.81949,     0.81088,     0.81033,     0.80494,     0.80494,     0.80158,     0.79895,     0.79221,      0.7917,     0.78578,     0.78395,     0.78213,     0.77768,     0.77395,     0.76135,     0.75041,        0.75,     0.74778,     0.74199,     0.73885,     0.73847,      0.7381,     0.73713,\n",
       "            0.72192,     0.71276,     0.71027,      0.6962,     0.69488,      0.6943,      0.6943,     0.69095,     0.68513,     0.68188,     0.64476,     0.63161,     0.62933,     0.60153,     0.57613,     0.54519,     0.53229,     0.51604,     0.48743,      0.4796,      0.4796,     0.42928,     0.41805,\n",
       "            0.41612,     0.36997,     0.33438,     0.32808,     0.32063,     0.29215,     0.26121,     0.21765,     0.21026,      0.1993,     0.15959,     0.15612,     0.15265,     0.14918,     0.14571,     0.14224,     0.13877,      0.1353,     0.13183,     0.12837,      0.1249,     0.12143,     0.11796,\n",
       "            0.11449,     0.11102,     0.10755,     0.10408,     0.10061,    0.097141,    0.093672,    0.090203,    0.086733,    0.083264,    0.079795,    0.076325,    0.072856,    0.069387,    0.065917,    0.062448,    0.058979,    0.055509,     0.05204,    0.048571,    0.045101,    0.041632,    0.038163,\n",
       "           0.034693,    0.031224,    0.027755,    0.024285,    0.020816,    0.017347,    0.013877,    0.010408,   0.0069387,   0.0034693,           0]]), 'Recall', 'Precision'], [array([          0,    0.001001,    0.002002,    0.003003,    0.004004,    0.005005,    0.006006,    0.007007,    0.008008,    0.009009,     0.01001,    0.011011,    0.012012,    0.013013,    0.014014,    0.015015,    0.016016,    0.017017,    0.018018,    0.019019,     0.02002,    0.021021,    0.022022,    0.023023,\n",
       "          0.024024,    0.025025,    0.026026,    0.027027,    0.028028,    0.029029,     0.03003,    0.031031,    0.032032,    0.033033,    0.034034,    0.035035,    0.036036,    0.037037,    0.038038,    0.039039,     0.04004,    0.041041,    0.042042,    0.043043,    0.044044,    0.045045,    0.046046,    0.047047,\n",
       "          0.048048,    0.049049,     0.05005,    0.051051,    0.052052,    0.053053,    0.054054,    0.055055,    0.056056,    0.057057,    0.058058,    0.059059,     0.06006,    0.061061,    0.062062,    0.063063,    0.064064,    0.065065,    0.066066,    0.067067,    0.068068,    0.069069,     0.07007,    0.071071,\n",
       "          0.072072,    0.073073,    0.074074,    0.075075,    0.076076,    0.077077,    0.078078,    0.079079,     0.08008,    0.081081,    0.082082,    0.083083,    0.084084,    0.085085,    0.086086,    0.087087,    0.088088,    0.089089,     0.09009,    0.091091,    0.092092,    0.093093,    0.094094,    0.095095,\n",
       "          0.096096,    0.097097,    0.098098,    0.099099,      0.1001,      0.1011,      0.1021,      0.1031,      0.1041,     0.10511,     0.10611,     0.10711,     0.10811,     0.10911,     0.11011,     0.11111,     0.11211,     0.11311,     0.11411,     0.11512,     0.11612,     0.11712,     0.11812,     0.11912,\n",
       "           0.12012,     0.12112,     0.12212,     0.12312,     0.12412,     0.12513,     0.12613,     0.12713,     0.12813,     0.12913,     0.13013,     0.13113,     0.13213,     0.13313,     0.13413,     0.13514,     0.13614,     0.13714,     0.13814,     0.13914,     0.14014,     0.14114,     0.14214,     0.14314,\n",
       "           0.14414,     0.14515,     0.14615,     0.14715,     0.14815,     0.14915,     0.15015,     0.15115,     0.15215,     0.15315,     0.15415,     0.15516,     0.15616,     0.15716,     0.15816,     0.15916,     0.16016,     0.16116,     0.16216,     0.16316,     0.16416,     0.16517,     0.16617,     0.16717,\n",
       "           0.16817,     0.16917,     0.17017,     0.17117,     0.17217,     0.17317,     0.17417,     0.17518,     0.17618,     0.17718,     0.17818,     0.17918,     0.18018,     0.18118,     0.18218,     0.18318,     0.18418,     0.18519,     0.18619,     0.18719,     0.18819,     0.18919,     0.19019,     0.19119,\n",
       "           0.19219,     0.19319,     0.19419,      0.1952,      0.1962,      0.1972,      0.1982,      0.1992,      0.2002,      0.2012,      0.2022,      0.2032,      0.2042,     0.20521,     0.20621,     0.20721,     0.20821,     0.20921,     0.21021,     0.21121,     0.21221,     0.21321,     0.21421,     0.21522,\n",
       "           0.21622,     0.21722,     0.21822,     0.21922,     0.22022,     0.22122,     0.22222,     0.22322,     0.22422,     0.22523,     0.22623,     0.22723,     0.22823,     0.22923,     0.23023,     0.23123,     0.23223,     0.23323,     0.23423,     0.23524,     0.23624,     0.23724,     0.23824,     0.23924,\n",
       "           0.24024,     0.24124,     0.24224,     0.24324,     0.24424,     0.24525,     0.24625,     0.24725,     0.24825,     0.24925,     0.25025,     0.25125,     0.25225,     0.25325,     0.25425,     0.25526,     0.25626,     0.25726,     0.25826,     0.25926,     0.26026,     0.26126,     0.26226,     0.26326,\n",
       "           0.26426,     0.26527,     0.26627,     0.26727,     0.26827,     0.26927,     0.27027,     0.27127,     0.27227,     0.27327,     0.27427,     0.27528,     0.27628,     0.27728,     0.27828,     0.27928,     0.28028,     0.28128,     0.28228,     0.28328,     0.28428,     0.28529,     0.28629,     0.28729,\n",
       "           0.28829,     0.28929,     0.29029,     0.29129,     0.29229,     0.29329,     0.29429,      0.2953,      0.2963,      0.2973,      0.2983,      0.2993,      0.3003,      0.3013,      0.3023,      0.3033,      0.3043,     0.30531,     0.30631,     0.30731,     0.30831,     0.30931,     0.31031,     0.31131,\n",
       "           0.31231,     0.31331,     0.31431,     0.31532,     0.31632,     0.31732,     0.31832,     0.31932,     0.32032,     0.32132,     0.32232,     0.32332,     0.32432,     0.32533,     0.32633,     0.32733,     0.32833,     0.32933,     0.33033,     0.33133,     0.33233,     0.33333,     0.33433,     0.33534,\n",
       "           0.33634,     0.33734,     0.33834,     0.33934,     0.34034,     0.34134,     0.34234,     0.34334,     0.34434,     0.34535,     0.34635,     0.34735,     0.34835,     0.34935,     0.35035,     0.35135,     0.35235,     0.35335,     0.35435,     0.35536,     0.35636,     0.35736,     0.35836,     0.35936,\n",
       "           0.36036,     0.36136,     0.36236,     0.36336,     0.36436,     0.36537,     0.36637,     0.36737,     0.36837,     0.36937,     0.37037,     0.37137,     0.37237,     0.37337,     0.37437,     0.37538,     0.37638,     0.37738,     0.37838,     0.37938,     0.38038,     0.38138,     0.38238,     0.38338,\n",
       "           0.38438,     0.38539,     0.38639,     0.38739,     0.38839,     0.38939,     0.39039,     0.39139,     0.39239,     0.39339,     0.39439,      0.3954,      0.3964,      0.3974,      0.3984,      0.3994,      0.4004,      0.4014,      0.4024,      0.4034,      0.4044,     0.40541,     0.40641,     0.40741,\n",
       "           0.40841,     0.40941,     0.41041,     0.41141,     0.41241,     0.41341,     0.41441,     0.41542,     0.41642,     0.41742,     0.41842,     0.41942,     0.42042,     0.42142,     0.42242,     0.42342,     0.42442,     0.42543,     0.42643,     0.42743,     0.42843,     0.42943,     0.43043,     0.43143,\n",
       "           0.43243,     0.43343,     0.43443,     0.43544,     0.43644,     0.43744,     0.43844,     0.43944,     0.44044,     0.44144,     0.44244,     0.44344,     0.44444,     0.44545,     0.44645,     0.44745,     0.44845,     0.44945,     0.45045,     0.45145,     0.45245,     0.45345,     0.45445,     0.45546,\n",
       "           0.45646,     0.45746,     0.45846,     0.45946,     0.46046,     0.46146,     0.46246,     0.46346,     0.46446,     0.46547,     0.46647,     0.46747,     0.46847,     0.46947,     0.47047,     0.47147,     0.47247,     0.47347,     0.47447,     0.47548,     0.47648,     0.47748,     0.47848,     0.47948,\n",
       "           0.48048,     0.48148,     0.48248,     0.48348,     0.48448,     0.48549,     0.48649,     0.48749,     0.48849,     0.48949,     0.49049,     0.49149,     0.49249,     0.49349,     0.49449,      0.4955,      0.4965,      0.4975,      0.4985,      0.4995,      0.5005,      0.5015,      0.5025,      0.5035,\n",
       "            0.5045,     0.50551,     0.50651,     0.50751,     0.50851,     0.50951,     0.51051,     0.51151,     0.51251,     0.51351,     0.51451,     0.51552,     0.51652,     0.51752,     0.51852,     0.51952,     0.52052,     0.52152,     0.52252,     0.52352,     0.52452,     0.52553,     0.52653,     0.52753,\n",
       "           0.52853,     0.52953,     0.53053,     0.53153,     0.53253,     0.53353,     0.53453,     0.53554,     0.53654,     0.53754,     0.53854,     0.53954,     0.54054,     0.54154,     0.54254,     0.54354,     0.54454,     0.54555,     0.54655,     0.54755,     0.54855,     0.54955,     0.55055,     0.55155,\n",
       "           0.55255,     0.55355,     0.55455,     0.55556,     0.55656,     0.55756,     0.55856,     0.55956,     0.56056,     0.56156,     0.56256,     0.56356,     0.56456,     0.56557,     0.56657,     0.56757,     0.56857,     0.56957,     0.57057,     0.57157,     0.57257,     0.57357,     0.57457,     0.57558,\n",
       "           0.57658,     0.57758,     0.57858,     0.57958,     0.58058,     0.58158,     0.58258,     0.58358,     0.58458,     0.58559,     0.58659,     0.58759,     0.58859,     0.58959,     0.59059,     0.59159,     0.59259,     0.59359,     0.59459,      0.5956,      0.5966,      0.5976,      0.5986,      0.5996,\n",
       "            0.6006,      0.6016,      0.6026,      0.6036,      0.6046,     0.60561,     0.60661,     0.60761,     0.60861,     0.60961,     0.61061,     0.61161,     0.61261,     0.61361,     0.61461,     0.61562,     0.61662,     0.61762,     0.61862,     0.61962,     0.62062,     0.62162,     0.62262,     0.62362,\n",
       "           0.62462,     0.62563,     0.62663,     0.62763,     0.62863,     0.62963,     0.63063,     0.63163,     0.63263,     0.63363,     0.63463,     0.63564,     0.63664,     0.63764,     0.63864,     0.63964,     0.64064,     0.64164,     0.64264,     0.64364,     0.64464,     0.64565,     0.64665,     0.64765,\n",
       "           0.64865,     0.64965,     0.65065,     0.65165,     0.65265,     0.65365,     0.65465,     0.65566,     0.65666,     0.65766,     0.65866,     0.65966,     0.66066,     0.66166,     0.66266,     0.66366,     0.66466,     0.66567,     0.66667,     0.66767,     0.66867,     0.66967,     0.67067,     0.67167,\n",
       "           0.67267,     0.67367,     0.67467,     0.67568,     0.67668,     0.67768,     0.67868,     0.67968,     0.68068,     0.68168,     0.68268,     0.68368,     0.68468,     0.68569,     0.68669,     0.68769,     0.68869,     0.68969,     0.69069,     0.69169,     0.69269,     0.69369,     0.69469,      0.6957,\n",
       "            0.6967,      0.6977,      0.6987,      0.6997,      0.7007,      0.7017,      0.7027,      0.7037,      0.7047,     0.70571,     0.70671,     0.70771,     0.70871,     0.70971,     0.71071,     0.71171,     0.71271,     0.71371,     0.71471,     0.71572,     0.71672,     0.71772,     0.71872,     0.71972,\n",
       "           0.72072,     0.72172,     0.72272,     0.72372,     0.72472,     0.72573,     0.72673,     0.72773,     0.72873,     0.72973,     0.73073,     0.73173,     0.73273,     0.73373,     0.73473,     0.73574,     0.73674,     0.73774,     0.73874,     0.73974,     0.74074,     0.74174,     0.74274,     0.74374,\n",
       "           0.74474,     0.74575,     0.74675,     0.74775,     0.74875,     0.74975,     0.75075,     0.75175,     0.75275,     0.75375,     0.75475,     0.75576,     0.75676,     0.75776,     0.75876,     0.75976,     0.76076,     0.76176,     0.76276,     0.76376,     0.76476,     0.76577,     0.76677,     0.76777,\n",
       "           0.76877,     0.76977,     0.77077,     0.77177,     0.77277,     0.77377,     0.77477,     0.77578,     0.77678,     0.77778,     0.77878,     0.77978,     0.78078,     0.78178,     0.78278,     0.78378,     0.78478,     0.78579,     0.78679,     0.78779,     0.78879,     0.78979,     0.79079,     0.79179,\n",
       "           0.79279,     0.79379,     0.79479,      0.7958,      0.7968,      0.7978,      0.7988,      0.7998,      0.8008,      0.8018,      0.8028,      0.8038,      0.8048,     0.80581,     0.80681,     0.80781,     0.80881,     0.80981,     0.81081,     0.81181,     0.81281,     0.81381,     0.81481,     0.81582,\n",
       "           0.81682,     0.81782,     0.81882,     0.81982,     0.82082,     0.82182,     0.82282,     0.82382,     0.82482,     0.82583,     0.82683,     0.82783,     0.82883,     0.82983,     0.83083,     0.83183,     0.83283,     0.83383,     0.83483,     0.83584,     0.83684,     0.83784,     0.83884,     0.83984,\n",
       "           0.84084,     0.84184,     0.84284,     0.84384,     0.84484,     0.84585,     0.84685,     0.84785,     0.84885,     0.84985,     0.85085,     0.85185,     0.85285,     0.85385,     0.85485,     0.85586,     0.85686,     0.85786,     0.85886,     0.85986,     0.86086,     0.86186,     0.86286,     0.86386,\n",
       "           0.86486,     0.86587,     0.86687,     0.86787,     0.86887,     0.86987,     0.87087,     0.87187,     0.87287,     0.87387,     0.87487,     0.87588,     0.87688,     0.87788,     0.87888,     0.87988,     0.88088,     0.88188,     0.88288,     0.88388,     0.88488,     0.88589,     0.88689,     0.88789,\n",
       "           0.88889,     0.88989,     0.89089,     0.89189,     0.89289,     0.89389,     0.89489,      0.8959,      0.8969,      0.8979,      0.8989,      0.8999,      0.9009,      0.9019,      0.9029,      0.9039,      0.9049,     0.90591,     0.90691,     0.90791,     0.90891,     0.90991,     0.91091,     0.91191,\n",
       "           0.91291,     0.91391,     0.91491,     0.91592,     0.91692,     0.91792,     0.91892,     0.91992,     0.92092,     0.92192,     0.92292,     0.92392,     0.92492,     0.92593,     0.92693,     0.92793,     0.92893,     0.92993,     0.93093,     0.93193,     0.93293,     0.93393,     0.93493,     0.93594,\n",
       "           0.93694,     0.93794,     0.93894,     0.93994,     0.94094,     0.94194,     0.94294,     0.94394,     0.94494,     0.94595,     0.94695,     0.94795,     0.94895,     0.94995,     0.95095,     0.95195,     0.95295,     0.95395,     0.95495,     0.95596,     0.95696,     0.95796,     0.95896,     0.95996,\n",
       "           0.96096,     0.96196,     0.96296,     0.96396,     0.96496,     0.96597,     0.96697,     0.96797,     0.96897,     0.96997,     0.97097,     0.97197,     0.97297,     0.97397,     0.97497,     0.97598,     0.97698,     0.97798,     0.97898,     0.97998,     0.98098,     0.98198,     0.98298,     0.98398,\n",
       "           0.98498,     0.98599,     0.98699,     0.98799,     0.98899,     0.98999,     0.99099,     0.99199,     0.99299,     0.99399,     0.99499,       0.996,       0.997,       0.998,       0.999,           1]), array([[    0.27566,     0.27566,     0.36229,      0.4193,     0.46172,     0.49256,     0.51482,     0.53201,     0.55251,     0.56604,     0.57774,     0.58801,     0.59819,     0.60667,      0.6145,     0.62283,     0.62961,     0.63472,     0.64112,     0.65122,     0.65812,     0.66394,     0.66866,\n",
       "            0.67376,     0.67708,     0.68024,     0.68412,     0.68838,     0.69144,     0.69555,     0.69903,     0.70428,     0.70793,     0.71062,     0.71304,     0.71417,     0.71611,      0.7194,     0.72238,     0.72431,     0.72625,     0.72843,     0.72969,     0.73322,     0.73565,     0.73784,\n",
       "            0.74166,     0.74239,     0.74414,     0.74713,     0.74951,     0.75127,     0.75273,     0.75282,     0.75383,     0.75793,     0.75946,     0.76059,     0.76166,     0.76212,     0.76327,     0.76419,     0.76562,     0.76787,     0.76864,     0.76956,     0.77032,      0.7716,     0.77248,\n",
       "            0.77356,     0.77449,     0.77545,     0.77622,     0.77747,     0.77782,     0.77998,     0.78071,     0.78236,     0.78399,     0.78565,     0.78646,     0.78735,     0.78891,     0.78895,     0.79052,      0.7909,     0.79121,     0.79197,     0.79228,     0.79256,     0.79312,      0.7942,\n",
       "            0.79375,     0.79419,     0.79442,     0.79564,     0.79648,     0.79698,     0.79762,     0.79861,     0.79974,     0.80054,     0.80119,     0.80279,     0.80261,     0.80385,     0.80429,     0.80488,     0.80534,     0.80558,     0.80588,     0.80713,     0.80784,     0.80847,     0.80891,\n",
       "            0.80954,     0.80924,     0.80941,     0.80964,     0.81055,     0.81143,     0.81254,     0.81274,     0.81433,     0.81502,     0.81565,      0.8159,     0.81684,     0.81793,     0.81847,     0.81867,     0.81844,     0.81855,     0.81826,     0.81775,     0.81866,     0.81898,      0.8198,\n",
       "            0.81936,     0.81961,     0.82022,     0.82052,     0.82068,     0.82157,     0.82176,     0.82259,     0.82244,     0.82269,     0.82319,     0.82355,     0.82381,     0.82366,     0.82327,     0.82397,     0.82422,      0.8255,     0.82654,     0.82678,     0.82761,     0.82876,      0.8291,\n",
       "            0.82949,     0.83033,     0.83101,     0.83177,     0.83276,       0.833,     0.83344,     0.83371,     0.83408,     0.83508,     0.83541,     0.83563,     0.83603,     0.83659,     0.83662,     0.83735,     0.83767,     0.83831,     0.83845,     0.83859,      0.8382,     0.83871,     0.83969,\n",
       "             0.8399,     0.84033,     0.84061,     0.84078,     0.84035,     0.84112,     0.84139,      0.8411,     0.84099,      0.8417,     0.84201,     0.84168,     0.84166,     0.84187,     0.84274,     0.84337,     0.84374,     0.84465,     0.84465,     0.84465,     0.84485,     0.84489,     0.84531,\n",
       "             0.8461,     0.84788,     0.84802,     0.84817,     0.84798,     0.84861,      0.8492,     0.84968,     0.85005,     0.85026,      0.8507,     0.85013,     0.84973,     0.85104,     0.85124,     0.85209,     0.85223,     0.85238,     0.85261,     0.85282,     0.85256,     0.85233,     0.85245,\n",
       "            0.85256,     0.85268,     0.85256,     0.85231,     0.85289,     0.85345,       0.854,       0.855,     0.85514,     0.85527,     0.85582,     0.85602,     0.85623,     0.85678,     0.85657,     0.85675,     0.85684,     0.85694,     0.85703,     0.85713,     0.85755,     0.85803,     0.85831,\n",
       "            0.85851,      0.8587,     0.85911,     0.85942,      0.8597,     0.85998,     0.85958,     0.85972,     0.85987,      0.8603,     0.86071,     0.86082,     0.86094,     0.86105,     0.86146,     0.86129,     0.86106,     0.86123,      0.8609,     0.86101,     0.86111,     0.86122,     0.86191,\n",
       "            0.86173,     0.86156,     0.86231,      0.8622,     0.86206,     0.86192,     0.86223,      0.8628,      0.8627,     0.86307,     0.86335,     0.86359,     0.86385,     0.86413,     0.86424,     0.86434,     0.86444,     0.86454,     0.86479,     0.86506,      0.8653,     0.86576,     0.86592,\n",
       "             0.8655,     0.86485,     0.86487,     0.86519,     0.86546,     0.86592,     0.86616,     0.86589,      0.8665,     0.86719,     0.86751,     0.86834,     0.86859,     0.86798,     0.86785,     0.86772,     0.86759,      0.8677,     0.86795,     0.86811,     0.86827,      0.8684,     0.86846,\n",
       "            0.86852,     0.86858,     0.86865,     0.86871,     0.86877,     0.86888,     0.86905,     0.86922,     0.87135,     0.87143,     0.87151,     0.87159,     0.87168,     0.87176,     0.87216,     0.87167,     0.87183,     0.87199,     0.87219,     0.87244,     0.87284,     0.87286,     0.87278,\n",
       "             0.8727,     0.87263,     0.87255,     0.87247,     0.87239,     0.87224,     0.87169,     0.87156,     0.87144,     0.87131,     0.87119,     0.87022,      0.8702,     0.87045,     0.87088,     0.87114,     0.87135,     0.87147,     0.87158,      0.8717,     0.87077,     0.87099,     0.87166,\n",
       "            0.87191,     0.87246,     0.87258,      0.8727,     0.87311,     0.87279,     0.87292,     0.87263,     0.87291,     0.87303,     0.87315,     0.87327,     0.87295,     0.87264,     0.87287,     0.87292,     0.87264,     0.87255,     0.87281,     0.87214,     0.87185,     0.87153,     0.87164,\n",
       "            0.87172,      0.8718,     0.87187,     0.87195,     0.87203,      0.8716,     0.87183,     0.87242,      0.8725,     0.87257,     0.87265,     0.87273,     0.87281,     0.87269,     0.87254,     0.87238,     0.87234,     0.87265,     0.87246,     0.87227,     0.87163,     0.87185,     0.87215,\n",
       "            0.87217,     0.87223,      0.8723,     0.87238,     0.87245,     0.87253,      0.8726,     0.87279,     0.87301,     0.87279,     0.87251,     0.87274,      0.8729,      0.8727,     0.87251,     0.87223,     0.87182,     0.87194,     0.87205,     0.87216,     0.87239,      0.8729,     0.87326,\n",
       "            0.87348,     0.87371,     0.87393,     0.87422,     0.87393,     0.87363,     0.87334,     0.87349,      0.8732,     0.87335,     0.87306,     0.87249,     0.87261,     0.87277,     0.87233,     0.87204,     0.87123,      0.8717,     0.87203,     0.87188,     0.87173,     0.87159,     0.87159,\n",
       "            0.87167,     0.87138,      0.8713,     0.87139,     0.87148,     0.87157,     0.87166,     0.87159,     0.87144,      0.8713,     0.87115,     0.87089,     0.87059,     0.86972,     0.86943,     0.86901,     0.86923,     0.86882,     0.86897,     0.86912,     0.86835,     0.86815,     0.86793,\n",
       "            0.86787,       0.867,     0.86723,      0.8674,     0.86731,     0.86721,     0.86711,     0.86701,     0.86691,     0.86679,     0.86664,     0.86649,     0.86634,     0.86613,     0.86584,     0.86577,       0.866,     0.86705,     0.86712,      0.8672,     0.86728,     0.86735,     0.86743,\n",
       "            0.86717,     0.86692,     0.86653,     0.86623,     0.86624,     0.86635,     0.86646,     0.86658,     0.86621,     0.86591,      0.8664,      0.8665,     0.86659,     0.86668,     0.86676,      0.8644,      0.8641,     0.86327,     0.86407,      0.8635,      0.8632,     0.86289,     0.86259,\n",
       "            0.86237,     0.86245,     0.86253,     0.86261,     0.86268,     0.86276,      0.8623,     0.86253,     0.86194,     0.86163,     0.86133,     0.86102,     0.86098,     0.86144,     0.86131,     0.86101,      0.8607,     0.86039,     0.86061,     0.86032,     0.86048,     0.86045,     0.86024,\n",
       "            0.86004,      0.8595,     0.85888,       0.859,     0.85923,     0.85818,     0.85829,     0.85817,     0.85805,     0.85792,      0.8578,     0.85728,     0.85751,     0.85789,      0.8582,     0.85843,     0.85686,     0.85702,      0.8557,     0.85538,     0.85482,     0.85509,     0.85438,\n",
       "            0.85417,     0.85396,     0.85437,     0.85278,     0.85302,     0.85285,     0.85162,      0.8512,     0.85022,      0.8499,     0.84977,        0.85,     0.84925,     0.84893,     0.84714,     0.84651,     0.84487,     0.84455,     0.84423,     0.84391,     0.84331,     0.84323,     0.84291,\n",
       "            0.84196,     0.84164,     0.84051,     0.84019,     0.83969,     0.83904,     0.83906,     0.83908,     0.83882,     0.83594,     0.83538,     0.83517,     0.83495,     0.83278,     0.83246,      0.8313,     0.83097,     0.82923,      0.8283,     0.82862,     0.82803,     0.82779,     0.82757,\n",
       "            0.82673,     0.82655,     0.82692,     0.82628,     0.82583,     0.82416,     0.82383,     0.82261,     0.82194,     0.82081,     0.82039,      0.8199,     0.81872,     0.81804,     0.81605,     0.81537,      0.8144,     0.81476,     0.81412,     0.81101,     0.81033,     0.80964,     0.80889,\n",
       "            0.80848,     0.80872,     0.80566,     0.80574,     0.80556,     0.80347,     0.80277,     0.80013,     0.79978,     0.79839,      0.7969,     0.79481,     0.79411,     0.79448,     0.79046,     0.79069,     0.78993,     0.78957,      0.7896,     0.78704,     0.78668,     0.78549,     0.78494,\n",
       "            0.78232,      0.7816,     0.77891,     0.77907,      0.7793,      0.7771,     0.77651,     0.77622,     0.77592,     0.77447,     0.77161,     0.77123,     0.76851,     0.76834,     0.76784,     0.76711,     0.76661,     0.76591,     0.76553,     0.76159,     0.76138,     0.76116,     0.75886,\n",
       "            0.75917,     0.75792,     0.75753,     0.75573,     0.75347,     0.75241,     0.75116,     0.75077,     0.74695,     0.74404,     0.74226,     0.74187,     0.74004,     0.73997,     0.73826,      0.7377,     0.73691,     0.73462,     0.73409,     0.73201,     0.73074,     0.73034,     0.72834,\n",
       "             0.7278,     0.72469,     0.72155,     0.72185,     0.71913,     0.71872,     0.71866,     0.71534,     0.71398,     0.71311,     0.71187,     0.71172,     0.71113,     0.70775,     0.70665,      0.7052,     0.70407,     0.70397,     0.69988,     0.69841,     0.69729,     0.69546,     0.69503,\n",
       "            0.69216,      0.6901,      0.6892,     0.68487,     0.68204,     0.68033,     0.67976,     0.67475,     0.67345,     0.67288,     0.66997,      0.6665,     0.66542,     0.66342,     0.66216,     0.66157,     0.65922,     0.65775,     0.65714,      0.6554,     0.65192,     0.65129,     0.64823,\n",
       "            0.64568,     0.64055,     0.63829,     0.63427,     0.63309,     0.62766,     0.62566,     0.62295,     0.61505,     0.61441,     0.61213,     0.60935,     0.60871,     0.60616,     0.59934,     0.59398,     0.59332,     0.59042,     0.58811,     0.58744,     0.58155,     0.57557,     0.56927,\n",
       "            0.56346,     0.55996,     0.55523,     0.55072,     0.54277,     0.54032,     0.53536,     0.53188,     0.52893,     0.52806,     0.52105,     0.51976,      0.5134,     0.51215,     0.50932,     0.50538,     0.49822,     0.49317,     0.48696,     0.48019,     0.47781,      0.4724,     0.47076,\n",
       "            0.46653,     0.45971,     0.45712,     0.45119,     0.44965,     0.44397,      0.4383,     0.43548,     0.42759,     0.42697,      0.4244,     0.42241,     0.41871,      0.4144,     0.40565,     0.39682,     0.39294,     0.38778,      0.3795,     0.37169,     0.36344,     0.35819,     0.34799,\n",
       "            0.34361,     0.33266,     0.32433,     0.31032,     0.30151,     0.29456,     0.28874,     0.28142,     0.26877,      0.2643,     0.26058,      0.2485,     0.23646,     0.23261,     0.22395,     0.21763,     0.20651,     0.20144,     0.19839,     0.19058,     0.18731,     0.18362,     0.17909,\n",
       "            0.17577,     0.17191,     0.16522,     0.15344,     0.14998,     0.14312,     0.14125,     0.13784,     0.13518,     0.12562,      0.1204,     0.11849,     0.11315,     0.10091,    0.097299,    0.095161,    0.091486,    0.087796,    0.085444,    0.080375,    0.074817,    0.069227,    0.066091,\n",
       "           0.062349,    0.056732,    0.055084,    0.053809,     0.05066,    0.048134,    0.046201,    0.040491,    0.038411,    0.036332,    0.035552,    0.034772,     0.03399,    0.033209,    0.032288,    0.031309,    0.030699,    0.030209,    0.029718,    0.029228,    0.027482,    0.022815,    0.022156,\n",
       "           0.021497,    0.019584,    0.018244,    0.015649,    0.014652,    0.011646,   0.0097373,   0.0087337,    0.007681,   0.0063399,   0.0055195,   0.0049437,   0.0043677,   0.0019744,   0.0019748,    0.001975,   0.0019753,   0.0019755,   0.0019757,   0.0019758,    0.001976,   0.0019761,   0.0019762,\n",
       "                  0,           0,           0,           0,           0,           0,           0,           0,           0,           0,           0,           0,           0,           0,           0,           0,           0,           0,           0,           0,           0,           0,           0,\n",
       "                  0,           0,           0,           0,           0,           0,           0,           0,           0,           0,           0,           0,           0,           0,           0,           0,           0,           0,           0,           0,           0,           0,           0,\n",
       "                  0,           0,           0,           0,           0,           0,           0,           0,           0,           0,           0,           0,           0,           0,           0,           0,           0,           0,           0,           0,           0,           0,           0,\n",
       "                  0,           0,           0,           0,           0,           0,           0,           0,           0,           0,           0]]), 'Confidence', 'F1'], [array([          0,    0.001001,    0.002002,    0.003003,    0.004004,    0.005005,    0.006006,    0.007007,    0.008008,    0.009009,     0.01001,    0.011011,    0.012012,    0.013013,    0.014014,    0.015015,    0.016016,    0.017017,    0.018018,    0.019019,     0.02002,    0.021021,    0.022022,    0.023023,\n",
       "          0.024024,    0.025025,    0.026026,    0.027027,    0.028028,    0.029029,     0.03003,    0.031031,    0.032032,    0.033033,    0.034034,    0.035035,    0.036036,    0.037037,    0.038038,    0.039039,     0.04004,    0.041041,    0.042042,    0.043043,    0.044044,    0.045045,    0.046046,    0.047047,\n",
       "          0.048048,    0.049049,     0.05005,    0.051051,    0.052052,    0.053053,    0.054054,    0.055055,    0.056056,    0.057057,    0.058058,    0.059059,     0.06006,    0.061061,    0.062062,    0.063063,    0.064064,    0.065065,    0.066066,    0.067067,    0.068068,    0.069069,     0.07007,    0.071071,\n",
       "          0.072072,    0.073073,    0.074074,    0.075075,    0.076076,    0.077077,    0.078078,    0.079079,     0.08008,    0.081081,    0.082082,    0.083083,    0.084084,    0.085085,    0.086086,    0.087087,    0.088088,    0.089089,     0.09009,    0.091091,    0.092092,    0.093093,    0.094094,    0.095095,\n",
       "          0.096096,    0.097097,    0.098098,    0.099099,      0.1001,      0.1011,      0.1021,      0.1031,      0.1041,     0.10511,     0.10611,     0.10711,     0.10811,     0.10911,     0.11011,     0.11111,     0.11211,     0.11311,     0.11411,     0.11512,     0.11612,     0.11712,     0.11812,     0.11912,\n",
       "           0.12012,     0.12112,     0.12212,     0.12312,     0.12412,     0.12513,     0.12613,     0.12713,     0.12813,     0.12913,     0.13013,     0.13113,     0.13213,     0.13313,     0.13413,     0.13514,     0.13614,     0.13714,     0.13814,     0.13914,     0.14014,     0.14114,     0.14214,     0.14314,\n",
       "           0.14414,     0.14515,     0.14615,     0.14715,     0.14815,     0.14915,     0.15015,     0.15115,     0.15215,     0.15315,     0.15415,     0.15516,     0.15616,     0.15716,     0.15816,     0.15916,     0.16016,     0.16116,     0.16216,     0.16316,     0.16416,     0.16517,     0.16617,     0.16717,\n",
       "           0.16817,     0.16917,     0.17017,     0.17117,     0.17217,     0.17317,     0.17417,     0.17518,     0.17618,     0.17718,     0.17818,     0.17918,     0.18018,     0.18118,     0.18218,     0.18318,     0.18418,     0.18519,     0.18619,     0.18719,     0.18819,     0.18919,     0.19019,     0.19119,\n",
       "           0.19219,     0.19319,     0.19419,      0.1952,      0.1962,      0.1972,      0.1982,      0.1992,      0.2002,      0.2012,      0.2022,      0.2032,      0.2042,     0.20521,     0.20621,     0.20721,     0.20821,     0.20921,     0.21021,     0.21121,     0.21221,     0.21321,     0.21421,     0.21522,\n",
       "           0.21622,     0.21722,     0.21822,     0.21922,     0.22022,     0.22122,     0.22222,     0.22322,     0.22422,     0.22523,     0.22623,     0.22723,     0.22823,     0.22923,     0.23023,     0.23123,     0.23223,     0.23323,     0.23423,     0.23524,     0.23624,     0.23724,     0.23824,     0.23924,\n",
       "           0.24024,     0.24124,     0.24224,     0.24324,     0.24424,     0.24525,     0.24625,     0.24725,     0.24825,     0.24925,     0.25025,     0.25125,     0.25225,     0.25325,     0.25425,     0.25526,     0.25626,     0.25726,     0.25826,     0.25926,     0.26026,     0.26126,     0.26226,     0.26326,\n",
       "           0.26426,     0.26527,     0.26627,     0.26727,     0.26827,     0.26927,     0.27027,     0.27127,     0.27227,     0.27327,     0.27427,     0.27528,     0.27628,     0.27728,     0.27828,     0.27928,     0.28028,     0.28128,     0.28228,     0.28328,     0.28428,     0.28529,     0.28629,     0.28729,\n",
       "           0.28829,     0.28929,     0.29029,     0.29129,     0.29229,     0.29329,     0.29429,      0.2953,      0.2963,      0.2973,      0.2983,      0.2993,      0.3003,      0.3013,      0.3023,      0.3033,      0.3043,     0.30531,     0.30631,     0.30731,     0.30831,     0.30931,     0.31031,     0.31131,\n",
       "           0.31231,     0.31331,     0.31431,     0.31532,     0.31632,     0.31732,     0.31832,     0.31932,     0.32032,     0.32132,     0.32232,     0.32332,     0.32432,     0.32533,     0.32633,     0.32733,     0.32833,     0.32933,     0.33033,     0.33133,     0.33233,     0.33333,     0.33433,     0.33534,\n",
       "           0.33634,     0.33734,     0.33834,     0.33934,     0.34034,     0.34134,     0.34234,     0.34334,     0.34434,     0.34535,     0.34635,     0.34735,     0.34835,     0.34935,     0.35035,     0.35135,     0.35235,     0.35335,     0.35435,     0.35536,     0.35636,     0.35736,     0.35836,     0.35936,\n",
       "           0.36036,     0.36136,     0.36236,     0.36336,     0.36436,     0.36537,     0.36637,     0.36737,     0.36837,     0.36937,     0.37037,     0.37137,     0.37237,     0.37337,     0.37437,     0.37538,     0.37638,     0.37738,     0.37838,     0.37938,     0.38038,     0.38138,     0.38238,     0.38338,\n",
       "           0.38438,     0.38539,     0.38639,     0.38739,     0.38839,     0.38939,     0.39039,     0.39139,     0.39239,     0.39339,     0.39439,      0.3954,      0.3964,      0.3974,      0.3984,      0.3994,      0.4004,      0.4014,      0.4024,      0.4034,      0.4044,     0.40541,     0.40641,     0.40741,\n",
       "           0.40841,     0.40941,     0.41041,     0.41141,     0.41241,     0.41341,     0.41441,     0.41542,     0.41642,     0.41742,     0.41842,     0.41942,     0.42042,     0.42142,     0.42242,     0.42342,     0.42442,     0.42543,     0.42643,     0.42743,     0.42843,     0.42943,     0.43043,     0.43143,\n",
       "           0.43243,     0.43343,     0.43443,     0.43544,     0.43644,     0.43744,     0.43844,     0.43944,     0.44044,     0.44144,     0.44244,     0.44344,     0.44444,     0.44545,     0.44645,     0.44745,     0.44845,     0.44945,     0.45045,     0.45145,     0.45245,     0.45345,     0.45445,     0.45546,\n",
       "           0.45646,     0.45746,     0.45846,     0.45946,     0.46046,     0.46146,     0.46246,     0.46346,     0.46446,     0.46547,     0.46647,     0.46747,     0.46847,     0.46947,     0.47047,     0.47147,     0.47247,     0.47347,     0.47447,     0.47548,     0.47648,     0.47748,     0.47848,     0.47948,\n",
       "           0.48048,     0.48148,     0.48248,     0.48348,     0.48448,     0.48549,     0.48649,     0.48749,     0.48849,     0.48949,     0.49049,     0.49149,     0.49249,     0.49349,     0.49449,      0.4955,      0.4965,      0.4975,      0.4985,      0.4995,      0.5005,      0.5015,      0.5025,      0.5035,\n",
       "            0.5045,     0.50551,     0.50651,     0.50751,     0.50851,     0.50951,     0.51051,     0.51151,     0.51251,     0.51351,     0.51451,     0.51552,     0.51652,     0.51752,     0.51852,     0.51952,     0.52052,     0.52152,     0.52252,     0.52352,     0.52452,     0.52553,     0.52653,     0.52753,\n",
       "           0.52853,     0.52953,     0.53053,     0.53153,     0.53253,     0.53353,     0.53453,     0.53554,     0.53654,     0.53754,     0.53854,     0.53954,     0.54054,     0.54154,     0.54254,     0.54354,     0.54454,     0.54555,     0.54655,     0.54755,     0.54855,     0.54955,     0.55055,     0.55155,\n",
       "           0.55255,     0.55355,     0.55455,     0.55556,     0.55656,     0.55756,     0.55856,     0.55956,     0.56056,     0.56156,     0.56256,     0.56356,     0.56456,     0.56557,     0.56657,     0.56757,     0.56857,     0.56957,     0.57057,     0.57157,     0.57257,     0.57357,     0.57457,     0.57558,\n",
       "           0.57658,     0.57758,     0.57858,     0.57958,     0.58058,     0.58158,     0.58258,     0.58358,     0.58458,     0.58559,     0.58659,     0.58759,     0.58859,     0.58959,     0.59059,     0.59159,     0.59259,     0.59359,     0.59459,      0.5956,      0.5966,      0.5976,      0.5986,      0.5996,\n",
       "            0.6006,      0.6016,      0.6026,      0.6036,      0.6046,     0.60561,     0.60661,     0.60761,     0.60861,     0.60961,     0.61061,     0.61161,     0.61261,     0.61361,     0.61461,     0.61562,     0.61662,     0.61762,     0.61862,     0.61962,     0.62062,     0.62162,     0.62262,     0.62362,\n",
       "           0.62462,     0.62563,     0.62663,     0.62763,     0.62863,     0.62963,     0.63063,     0.63163,     0.63263,     0.63363,     0.63463,     0.63564,     0.63664,     0.63764,     0.63864,     0.63964,     0.64064,     0.64164,     0.64264,     0.64364,     0.64464,     0.64565,     0.64665,     0.64765,\n",
       "           0.64865,     0.64965,     0.65065,     0.65165,     0.65265,     0.65365,     0.65465,     0.65566,     0.65666,     0.65766,     0.65866,     0.65966,     0.66066,     0.66166,     0.66266,     0.66366,     0.66466,     0.66567,     0.66667,     0.66767,     0.66867,     0.66967,     0.67067,     0.67167,\n",
       "           0.67267,     0.67367,     0.67467,     0.67568,     0.67668,     0.67768,     0.67868,     0.67968,     0.68068,     0.68168,     0.68268,     0.68368,     0.68468,     0.68569,     0.68669,     0.68769,     0.68869,     0.68969,     0.69069,     0.69169,     0.69269,     0.69369,     0.69469,      0.6957,\n",
       "            0.6967,      0.6977,      0.6987,      0.6997,      0.7007,      0.7017,      0.7027,      0.7037,      0.7047,     0.70571,     0.70671,     0.70771,     0.70871,     0.70971,     0.71071,     0.71171,     0.71271,     0.71371,     0.71471,     0.71572,     0.71672,     0.71772,     0.71872,     0.71972,\n",
       "           0.72072,     0.72172,     0.72272,     0.72372,     0.72472,     0.72573,     0.72673,     0.72773,     0.72873,     0.72973,     0.73073,     0.73173,     0.73273,     0.73373,     0.73473,     0.73574,     0.73674,     0.73774,     0.73874,     0.73974,     0.74074,     0.74174,     0.74274,     0.74374,\n",
       "           0.74474,     0.74575,     0.74675,     0.74775,     0.74875,     0.74975,     0.75075,     0.75175,     0.75275,     0.75375,     0.75475,     0.75576,     0.75676,     0.75776,     0.75876,     0.75976,     0.76076,     0.76176,     0.76276,     0.76376,     0.76476,     0.76577,     0.76677,     0.76777,\n",
       "           0.76877,     0.76977,     0.77077,     0.77177,     0.77277,     0.77377,     0.77477,     0.77578,     0.77678,     0.77778,     0.77878,     0.77978,     0.78078,     0.78178,     0.78278,     0.78378,     0.78478,     0.78579,     0.78679,     0.78779,     0.78879,     0.78979,     0.79079,     0.79179,\n",
       "           0.79279,     0.79379,     0.79479,      0.7958,      0.7968,      0.7978,      0.7988,      0.7998,      0.8008,      0.8018,      0.8028,      0.8038,      0.8048,     0.80581,     0.80681,     0.80781,     0.80881,     0.80981,     0.81081,     0.81181,     0.81281,     0.81381,     0.81481,     0.81582,\n",
       "           0.81682,     0.81782,     0.81882,     0.81982,     0.82082,     0.82182,     0.82282,     0.82382,     0.82482,     0.82583,     0.82683,     0.82783,     0.82883,     0.82983,     0.83083,     0.83183,     0.83283,     0.83383,     0.83483,     0.83584,     0.83684,     0.83784,     0.83884,     0.83984,\n",
       "           0.84084,     0.84184,     0.84284,     0.84384,     0.84484,     0.84585,     0.84685,     0.84785,     0.84885,     0.84985,     0.85085,     0.85185,     0.85285,     0.85385,     0.85485,     0.85586,     0.85686,     0.85786,     0.85886,     0.85986,     0.86086,     0.86186,     0.86286,     0.86386,\n",
       "           0.86486,     0.86587,     0.86687,     0.86787,     0.86887,     0.86987,     0.87087,     0.87187,     0.87287,     0.87387,     0.87487,     0.87588,     0.87688,     0.87788,     0.87888,     0.87988,     0.88088,     0.88188,     0.88288,     0.88388,     0.88488,     0.88589,     0.88689,     0.88789,\n",
       "           0.88889,     0.88989,     0.89089,     0.89189,     0.89289,     0.89389,     0.89489,      0.8959,      0.8969,      0.8979,      0.8989,      0.8999,      0.9009,      0.9019,      0.9029,      0.9039,      0.9049,     0.90591,     0.90691,     0.90791,     0.90891,     0.90991,     0.91091,     0.91191,\n",
       "           0.91291,     0.91391,     0.91491,     0.91592,     0.91692,     0.91792,     0.91892,     0.91992,     0.92092,     0.92192,     0.92292,     0.92392,     0.92492,     0.92593,     0.92693,     0.92793,     0.92893,     0.92993,     0.93093,     0.93193,     0.93293,     0.93393,     0.93493,     0.93594,\n",
       "           0.93694,     0.93794,     0.93894,     0.93994,     0.94094,     0.94194,     0.94294,     0.94394,     0.94494,     0.94595,     0.94695,     0.94795,     0.94895,     0.94995,     0.95095,     0.95195,     0.95295,     0.95395,     0.95495,     0.95596,     0.95696,     0.95796,     0.95896,     0.95996,\n",
       "           0.96096,     0.96196,     0.96296,     0.96396,     0.96496,     0.96597,     0.96697,     0.96797,     0.96897,     0.96997,     0.97097,     0.97197,     0.97297,     0.97397,     0.97497,     0.97598,     0.97698,     0.97798,     0.97898,     0.97998,     0.98098,     0.98198,     0.98298,     0.98398,\n",
       "           0.98498,     0.98599,     0.98699,     0.98799,     0.98899,     0.98999,     0.99099,     0.99199,     0.99299,     0.99399,     0.99499,       0.996,       0.997,       0.998,       0.999,           1]), array([[    0.16112,     0.16112,      0.2238,     0.26905,     0.30512,     0.33289,     0.35369,     0.37027,     0.39045,      0.4041,     0.41612,     0.42727,     0.43832,     0.44749,     0.45606,      0.4653,      0.4729,     0.47921,     0.48655,     0.49855,     0.50668,     0.51362,     0.51959,\n",
       "            0.52577,     0.52983,     0.53403,     0.53882,     0.54413,     0.54831,      0.5535,     0.55791,     0.56463,     0.56933,     0.57282,     0.57597,     0.57783,     0.58037,     0.58471,     0.58865,     0.59122,     0.59382,     0.59673,     0.59843,     0.60361,      0.6069,     0.60989,\n",
       "            0.61512,     0.61613,     0.61855,      0.6227,       0.626,     0.62847,     0.63095,     0.63143,     0.63296,     0.63877,     0.64094,     0.64256,     0.64456,     0.64522,     0.64686,     0.64819,     0.65026,     0.65351,     0.65461,     0.65595,     0.65706,     0.65892,     0.66021,\n",
       "            0.66178,     0.66314,     0.66456,     0.66569,     0.66753,     0.66804,     0.67124,     0.67233,     0.67477,     0.67721,     0.67968,      0.6809,     0.68276,     0.68511,     0.68571,      0.6881,     0.68867,     0.68914,      0.6903,     0.69131,     0.69173,     0.69259,     0.69428,\n",
       "            0.69466,      0.6959,     0.69681,     0.69869,     0.69998,     0.70075,     0.70175,     0.70328,     0.70503,     0.70628,     0.70729,     0.70978,     0.71006,     0.71203,     0.71272,     0.71425,     0.71497,     0.71535,     0.71583,     0.71779,     0.71892,     0.71992,     0.72062,\n",
       "            0.72162,     0.72175,     0.72203,     0.72239,     0.72384,     0.72524,     0.72701,     0.72734,     0.72989,       0.731,     0.73202,     0.73241,     0.73393,     0.73569,     0.73719,     0.73795,     0.73831,     0.73879,     0.73868,     0.73847,     0.74006,      0.7406,     0.74197,\n",
       "            0.74186,     0.74227,     0.74327,     0.74377,     0.74402,      0.7455,     0.74581,     0.74718,     0.74758,       0.748,     0.74883,     0.74943,     0.74985,     0.75038,      0.7503,     0.75146,     0.75188,     0.75401,     0.75575,     0.75614,     0.75754,     0.75946,     0.76003,\n",
       "            0.76138,      0.7628,     0.76394,     0.76524,     0.76691,     0.76731,     0.76807,     0.76852,     0.76915,     0.77086,     0.77141,     0.77179,     0.77247,     0.77384,      0.7742,     0.77544,     0.77601,      0.7771,     0.77734,     0.77757,     0.77752,      0.7785,     0.78021,\n",
       "            0.78057,      0.7813,     0.78178,     0.78212,     0.78197,     0.78341,     0.78393,     0.78383,     0.78392,     0.78515,      0.7857,     0.78565,     0.78583,      0.7862,      0.7877,     0.78882,     0.78945,     0.79105,     0.79158,     0.79181,     0.79216,       0.793,     0.79373,\n",
       "            0.79512,     0.79827,     0.79853,     0.79879,     0.79923,     0.80034,     0.80139,     0.80303,      0.8037,     0.80407,     0.80486,     0.80474,     0.80462,     0.80705,     0.80742,     0.80894,      0.8092,     0.80947,     0.80987,     0.81032,     0.81024,     0.81018,     0.81039,\n",
       "             0.8106,     0.81081,     0.81083,     0.81076,       0.812,     0.81302,     0.81401,     0.81583,     0.81608,     0.81633,     0.81733,     0.81768,     0.81807,     0.81908,     0.81936,     0.82067,     0.82085,     0.82102,      0.8212,     0.82137,     0.82215,     0.82303,     0.82354,\n",
       "            0.82391,     0.82425,     0.82502,     0.82559,     0.82611,     0.82662,     0.82673,     0.82699,     0.82726,     0.82805,     0.82882,     0.82903,     0.82924,     0.82944,     0.83021,     0.83022,     0.83015,     0.83063,     0.83088,     0.83107,     0.83127,     0.83146,     0.83298,\n",
       "            0.83294,     0.83289,     0.83437,     0.83437,     0.83434,      0.8343,     0.83509,     0.83615,     0.83649,     0.83754,     0.83806,     0.83852,     0.83901,     0.83954,     0.83974,     0.83993,     0.84012,     0.84031,     0.84079,     0.84129,     0.84175,     0.84263,     0.84341,\n",
       "            0.84329,     0.84312,     0.84361,      0.8442,     0.84472,     0.84559,     0.84606,     0.84613,     0.84761,     0.84892,     0.84954,     0.85114,     0.85161,     0.85154,     0.85151,     0.85147,     0.85144,     0.85173,     0.85221,     0.85252,     0.85283,     0.85308,      0.8532,\n",
       "            0.85332,     0.85344,     0.85356,     0.85368,      0.8538,     0.85401,     0.85434,     0.85468,     0.85879,     0.85895,     0.85911,     0.85927,     0.85944,      0.8596,     0.86037,     0.86036,     0.86067,     0.86098,     0.86138,     0.86187,     0.86264,     0.86279,     0.86277,\n",
       "            0.86275,     0.86273,     0.86271,     0.86269,     0.86267,     0.86337,     0.86324,     0.86321,     0.86318,     0.86315,     0.86312,     0.86289,     0.86317,     0.86366,     0.86451,     0.86501,     0.86543,     0.86566,     0.86589,     0.86612,     0.86622,     0.86665,     0.86798,\n",
       "            0.86848,     0.86958,     0.86981,     0.87004,     0.87104,     0.87097,     0.87176,     0.87169,     0.87342,     0.87366,     0.87389,     0.87413,     0.87406,     0.87488,     0.87532,      0.8756,     0.87554,     0.87569,      0.8762,     0.87621,     0.87614,     0.87607,     0.87688,\n",
       "            0.87703,     0.87719,     0.87735,      0.8775,     0.87766,     0.87781,     0.87827,     0.87947,     0.87963,     0.87978,     0.87994,      0.8801,     0.88026,     0.88025,     0.88022,     0.88019,     0.88033,     0.88104,       0.881,     0.88096,     0.88094,     0.88139,       0.882,\n",
       "            0.88253,     0.88424,      0.8844,     0.88455,      0.8847,     0.88486,     0.88501,      0.8854,     0.88586,     0.88589,     0.88588,     0.88634,     0.88673,     0.88669,     0.88665,     0.88659,     0.88656,     0.88679,     0.88703,     0.88726,     0.88774,     0.88879,     0.88953,\n",
       "               0.89,     0.89047,     0.89094,     0.89193,     0.89188,     0.89182,     0.89176,     0.89263,     0.89257,     0.89343,     0.89338,     0.89327,     0.89357,     0.89389,     0.89408,     0.89402,     0.89394,     0.89493,     0.89571,     0.89569,     0.89566,     0.89563,      0.8969,\n",
       "            0.89735,      0.8973,     0.89738,     0.89757,     0.89777,     0.89796,     0.89815,      0.8982,     0.89817,     0.89814,     0.89812,     0.89807,     0.89801,     0.89785,     0.89779,      0.8981,     0.89859,     0.89882,     0.89914,     0.89947,     0.89933,     0.89929,     0.89925,\n",
       "            0.90019,     0.90176,     0.90226,     0.90267,     0.90265,     0.90264,     0.90262,      0.9026,     0.90258,     0.90256,     0.90253,     0.90251,     0.90248,     0.90244,     0.90239,     0.90258,     0.90308,     0.90536,     0.90552,     0.90569,     0.90586,     0.90602,     0.90619,\n",
       "             0.9068,     0.90706,     0.90699,     0.90694,     0.90711,     0.90737,     0.90762,     0.90787,     0.90875,      0.9087,     0.90987,     0.91007,     0.91027,     0.91047,     0.91067,     0.91028,     0.91023,     0.91018,     0.91208,     0.91198,     0.91193,     0.91189,     0.91184,\n",
       "            0.91184,     0.91201,     0.91218,     0.91235,     0.91252,      0.9127,      0.9129,     0.91342,      0.9136,     0.91355,      0.9135,     0.91345,      0.9149,     0.91594,     0.91729,     0.91724,      0.9172,     0.91715,     0.91784,      0.9181,     0.91883,     0.91908,     0.91905,\n",
       "            0.91902,     0.91893,     0.91884,     0.91929,     0.91982,     0.92129,     0.92167,     0.92165,     0.92164,     0.92162,      0.9216,     0.92181,     0.92235,     0.92322,     0.92395,     0.92449,     0.92442,     0.92518,     0.92525,     0.92521,     0.92513,     0.92601,     0.92607,\n",
       "            0.92604,     0.92601,     0.92702,     0.92735,      0.9279,      0.9289,     0.92874,     0.92868,     0.92855,      0.9285,     0.92984,      0.9304,     0.93048,     0.93044,      0.9302,     0.93011,      0.9299,     0.92985,     0.92981,     0.92977,     0.92969,     0.93284,      0.9328,\n",
       "            0.93267,     0.93263,     0.93355,     0.93351,     0.93345,     0.93337,     0.93403,     0.93445,     0.93441,     0.93405,     0.93398,     0.93395,     0.93392,     0.93365,     0.93361,     0.93455,     0.93451,     0.93429,     0.93418,     0.93525,     0.93525,     0.93522,     0.93519,\n",
       "            0.93513,     0.93625,     0.93734,     0.93726,      0.9372,       0.937,     0.93696,     0.93681,     0.93673,     0.93746,     0.93768,     0.93762,     0.93747,     0.93739,     0.93715,     0.93707,     0.93695,      0.9381,     0.93807,     0.94002,     0.93994,     0.93986,     0.93978,\n",
       "            0.94009,     0.94072,     0.94058,     0.94141,     0.94176,     0.94272,     0.94265,     0.94235,     0.94231,     0.94215,     0.94198,     0.94174,     0.94166,     0.94286,     0.94277,     0.94343,     0.94366,     0.94362,     0.94487,     0.94459,     0.94456,     0.94587,      0.9469,\n",
       "            0.94791,     0.94783,     0.94756,     0.94904,     0.94974,     0.94998,     0.94992,     0.94989,     0.94986,     0.95104,     0.95209,     0.95205,     0.95179,     0.95312,     0.95308,     0.95301,     0.95296,     0.95426,     0.95422,     0.95386,     0.95384,     0.95382,     0.95382,\n",
       "             0.9548,      0.9563,     0.95627,      0.9561,      0.9559,     0.95581,     0.95569,     0.95566,     0.95675,     0.95649,     0.95925,     0.95921,     0.95926,     0.96053,     0.96188,     0.96184,     0.96177,     0.96159,     0.96155,     0.96138,     0.96128,     0.96125,     0.96109,\n",
       "            0.96105,     0.96079,     0.96094,     0.96202,     0.96189,     0.96186,     0.96446,     0.96474,     0.96464,     0.96458,     0.96544,     0.96608,     0.96604,     0.96579,     0.96571,     0.96561,     0.96592,     0.96715,     0.96687,     0.96676,     0.96668,     0.96823,      0.9682,\n",
       "              0.968,     0.96786,      0.9678,     0.96922,     0.96903,     0.96892,     0.96888,     0.96854,     0.96845,     0.97019,        0.97,     0.97158,     0.97151,     0.97139,     0.97131,     0.97127,     0.97112,     0.97103,     0.97099,     0.97088,     0.97066,     0.97239,     0.97231,\n",
       "            0.97215,     0.97183,     0.97169,     0.97157,      0.9753,     0.97499,     0.97488,     0.97676,     0.97634,      0.9763,     0.97618,     0.97603,     0.97599,     0.97585,     0.97546,     0.97516,     0.97512,     0.97495,     0.97481,     0.97477,     0.97442,     0.97405,     0.97366,\n",
       "            0.97329,     0.97307,     0.97276,     0.97246,     0.97191,     0.97174,      0.9714,     0.97115,     0.97093,     0.97547,     0.97557,     0.97549,     0.97509,     0.97501,     0.97754,     0.97731,     0.97688,     0.97657,     0.97619,     0.97575,      0.9756,     0.97825,     0.97815,\n",
       "             0.9779,     0.97748,     0.97732,     0.97694,     0.97684,     0.97647,     0.97609,     0.97589,     0.97534,     0.97529,     0.97511,     0.97496,     0.97469,     0.97436,     0.97369,     0.97297,     0.97265,     0.97221,     0.97148,     0.97076,     0.97412,     0.97794,     0.98163,\n",
       "            0.98136,     0.98063,     0.98005,     0.97899,     0.97828,     0.97769,     0.97718,      0.9765,     0.97524,     0.97477,     0.97437,     0.97297,     0.97841,     0.97801,     0.97707,     0.97634,     0.97495,     0.97426,     0.97383,     0.97268,     0.97216,     0.97157,      0.9708,\n",
       "            0.97021,      0.9695,     0.96819,     0.96562,     0.96479,     0.96303,     0.96252,     0.96157,     0.96078,     0.95772,     0.95585,     0.95513,     0.95298,     0.94725,     0.94531,     0.94408,     0.94186,     0.93946,     0.93782,     0.93399,     0.92925,     0.92376,     0.92031,\n",
       "            0.91578,     0.90796,      0.9054,     0.90333,     0.89777,     0.89288,     0.88879,     0.87474,     0.86871,     0.86209,     0.85942,     0.85672,     0.85379,     0.85087,     0.84715,      0.8431,     0.84041,     0.83816,     0.83592,     0.83367,     0.82478,     0.79573,     0.79085,\n",
       "            0.78596,     0.76968,     0.75644,     0.79975,     0.78836,     0.85541,     0.83171,     0.81462,     0.79508,     0.76091,     0.73339,     0.70898,     0.68458,     0.51299,      0.5618,     0.61061,     0.65942,     0.70823,     0.75704,     0.80585,     0.85466,     0.90347,     0.95229,\n",
       "                  1,           1,           1,           1,           1,           1,           1,           1,           1,           1,           1,           1,           1,           1,           1,           1,           1,           1,           1,           1,           1,           1,           1,\n",
       "                  1,           1,           1,           1,           1,           1,           1,           1,           1,           1,           1,           1,           1,           1,           1,           1,           1,           1,           1,           1,           1,           1,           1,\n",
       "                  1,           1,           1,           1,           1,           1,           1,           1,           1,           1,           1,           1,           1,           1,           1,           1,           1,           1,           1,           1,           1,           1,           1,\n",
       "                  1,           1,           1,           1,           1,           1,           1,           1,           1,           1,           1]]), 'Confidence', 'Precision'], [array([          0,    0.001001,    0.002002,    0.003003,    0.004004,    0.005005,    0.006006,    0.007007,    0.008008,    0.009009,     0.01001,    0.011011,    0.012012,    0.013013,    0.014014,    0.015015,    0.016016,    0.017017,    0.018018,    0.019019,     0.02002,    0.021021,    0.022022,    0.023023,\n",
       "          0.024024,    0.025025,    0.026026,    0.027027,    0.028028,    0.029029,     0.03003,    0.031031,    0.032032,    0.033033,    0.034034,    0.035035,    0.036036,    0.037037,    0.038038,    0.039039,     0.04004,    0.041041,    0.042042,    0.043043,    0.044044,    0.045045,    0.046046,    0.047047,\n",
       "          0.048048,    0.049049,     0.05005,    0.051051,    0.052052,    0.053053,    0.054054,    0.055055,    0.056056,    0.057057,    0.058058,    0.059059,     0.06006,    0.061061,    0.062062,    0.063063,    0.064064,    0.065065,    0.066066,    0.067067,    0.068068,    0.069069,     0.07007,    0.071071,\n",
       "          0.072072,    0.073073,    0.074074,    0.075075,    0.076076,    0.077077,    0.078078,    0.079079,     0.08008,    0.081081,    0.082082,    0.083083,    0.084084,    0.085085,    0.086086,    0.087087,    0.088088,    0.089089,     0.09009,    0.091091,    0.092092,    0.093093,    0.094094,    0.095095,\n",
       "          0.096096,    0.097097,    0.098098,    0.099099,      0.1001,      0.1011,      0.1021,      0.1031,      0.1041,     0.10511,     0.10611,     0.10711,     0.10811,     0.10911,     0.11011,     0.11111,     0.11211,     0.11311,     0.11411,     0.11512,     0.11612,     0.11712,     0.11812,     0.11912,\n",
       "           0.12012,     0.12112,     0.12212,     0.12312,     0.12412,     0.12513,     0.12613,     0.12713,     0.12813,     0.12913,     0.13013,     0.13113,     0.13213,     0.13313,     0.13413,     0.13514,     0.13614,     0.13714,     0.13814,     0.13914,     0.14014,     0.14114,     0.14214,     0.14314,\n",
       "           0.14414,     0.14515,     0.14615,     0.14715,     0.14815,     0.14915,     0.15015,     0.15115,     0.15215,     0.15315,     0.15415,     0.15516,     0.15616,     0.15716,     0.15816,     0.15916,     0.16016,     0.16116,     0.16216,     0.16316,     0.16416,     0.16517,     0.16617,     0.16717,\n",
       "           0.16817,     0.16917,     0.17017,     0.17117,     0.17217,     0.17317,     0.17417,     0.17518,     0.17618,     0.17718,     0.17818,     0.17918,     0.18018,     0.18118,     0.18218,     0.18318,     0.18418,     0.18519,     0.18619,     0.18719,     0.18819,     0.18919,     0.19019,     0.19119,\n",
       "           0.19219,     0.19319,     0.19419,      0.1952,      0.1962,      0.1972,      0.1982,      0.1992,      0.2002,      0.2012,      0.2022,      0.2032,      0.2042,     0.20521,     0.20621,     0.20721,     0.20821,     0.20921,     0.21021,     0.21121,     0.21221,     0.21321,     0.21421,     0.21522,\n",
       "           0.21622,     0.21722,     0.21822,     0.21922,     0.22022,     0.22122,     0.22222,     0.22322,     0.22422,     0.22523,     0.22623,     0.22723,     0.22823,     0.22923,     0.23023,     0.23123,     0.23223,     0.23323,     0.23423,     0.23524,     0.23624,     0.23724,     0.23824,     0.23924,\n",
       "           0.24024,     0.24124,     0.24224,     0.24324,     0.24424,     0.24525,     0.24625,     0.24725,     0.24825,     0.24925,     0.25025,     0.25125,     0.25225,     0.25325,     0.25425,     0.25526,     0.25626,     0.25726,     0.25826,     0.25926,     0.26026,     0.26126,     0.26226,     0.26326,\n",
       "           0.26426,     0.26527,     0.26627,     0.26727,     0.26827,     0.26927,     0.27027,     0.27127,     0.27227,     0.27327,     0.27427,     0.27528,     0.27628,     0.27728,     0.27828,     0.27928,     0.28028,     0.28128,     0.28228,     0.28328,     0.28428,     0.28529,     0.28629,     0.28729,\n",
       "           0.28829,     0.28929,     0.29029,     0.29129,     0.29229,     0.29329,     0.29429,      0.2953,      0.2963,      0.2973,      0.2983,      0.2993,      0.3003,      0.3013,      0.3023,      0.3033,      0.3043,     0.30531,     0.30631,     0.30731,     0.30831,     0.30931,     0.31031,     0.31131,\n",
       "           0.31231,     0.31331,     0.31431,     0.31532,     0.31632,     0.31732,     0.31832,     0.31932,     0.32032,     0.32132,     0.32232,     0.32332,     0.32432,     0.32533,     0.32633,     0.32733,     0.32833,     0.32933,     0.33033,     0.33133,     0.33233,     0.33333,     0.33433,     0.33534,\n",
       "           0.33634,     0.33734,     0.33834,     0.33934,     0.34034,     0.34134,     0.34234,     0.34334,     0.34434,     0.34535,     0.34635,     0.34735,     0.34835,     0.34935,     0.35035,     0.35135,     0.35235,     0.35335,     0.35435,     0.35536,     0.35636,     0.35736,     0.35836,     0.35936,\n",
       "           0.36036,     0.36136,     0.36236,     0.36336,     0.36436,     0.36537,     0.36637,     0.36737,     0.36837,     0.36937,     0.37037,     0.37137,     0.37237,     0.37337,     0.37437,     0.37538,     0.37638,     0.37738,     0.37838,     0.37938,     0.38038,     0.38138,     0.38238,     0.38338,\n",
       "           0.38438,     0.38539,     0.38639,     0.38739,     0.38839,     0.38939,     0.39039,     0.39139,     0.39239,     0.39339,     0.39439,      0.3954,      0.3964,      0.3974,      0.3984,      0.3994,      0.4004,      0.4014,      0.4024,      0.4034,      0.4044,     0.40541,     0.40641,     0.40741,\n",
       "           0.40841,     0.40941,     0.41041,     0.41141,     0.41241,     0.41341,     0.41441,     0.41542,     0.41642,     0.41742,     0.41842,     0.41942,     0.42042,     0.42142,     0.42242,     0.42342,     0.42442,     0.42543,     0.42643,     0.42743,     0.42843,     0.42943,     0.43043,     0.43143,\n",
       "           0.43243,     0.43343,     0.43443,     0.43544,     0.43644,     0.43744,     0.43844,     0.43944,     0.44044,     0.44144,     0.44244,     0.44344,     0.44444,     0.44545,     0.44645,     0.44745,     0.44845,     0.44945,     0.45045,     0.45145,     0.45245,     0.45345,     0.45445,     0.45546,\n",
       "           0.45646,     0.45746,     0.45846,     0.45946,     0.46046,     0.46146,     0.46246,     0.46346,     0.46446,     0.46547,     0.46647,     0.46747,     0.46847,     0.46947,     0.47047,     0.47147,     0.47247,     0.47347,     0.47447,     0.47548,     0.47648,     0.47748,     0.47848,     0.47948,\n",
       "           0.48048,     0.48148,     0.48248,     0.48348,     0.48448,     0.48549,     0.48649,     0.48749,     0.48849,     0.48949,     0.49049,     0.49149,     0.49249,     0.49349,     0.49449,      0.4955,      0.4965,      0.4975,      0.4985,      0.4995,      0.5005,      0.5015,      0.5025,      0.5035,\n",
       "            0.5045,     0.50551,     0.50651,     0.50751,     0.50851,     0.50951,     0.51051,     0.51151,     0.51251,     0.51351,     0.51451,     0.51552,     0.51652,     0.51752,     0.51852,     0.51952,     0.52052,     0.52152,     0.52252,     0.52352,     0.52452,     0.52553,     0.52653,     0.52753,\n",
       "           0.52853,     0.52953,     0.53053,     0.53153,     0.53253,     0.53353,     0.53453,     0.53554,     0.53654,     0.53754,     0.53854,     0.53954,     0.54054,     0.54154,     0.54254,     0.54354,     0.54454,     0.54555,     0.54655,     0.54755,     0.54855,     0.54955,     0.55055,     0.55155,\n",
       "           0.55255,     0.55355,     0.55455,     0.55556,     0.55656,     0.55756,     0.55856,     0.55956,     0.56056,     0.56156,     0.56256,     0.56356,     0.56456,     0.56557,     0.56657,     0.56757,     0.56857,     0.56957,     0.57057,     0.57157,     0.57257,     0.57357,     0.57457,     0.57558,\n",
       "           0.57658,     0.57758,     0.57858,     0.57958,     0.58058,     0.58158,     0.58258,     0.58358,     0.58458,     0.58559,     0.58659,     0.58759,     0.58859,     0.58959,     0.59059,     0.59159,     0.59259,     0.59359,     0.59459,      0.5956,      0.5966,      0.5976,      0.5986,      0.5996,\n",
       "            0.6006,      0.6016,      0.6026,      0.6036,      0.6046,     0.60561,     0.60661,     0.60761,     0.60861,     0.60961,     0.61061,     0.61161,     0.61261,     0.61361,     0.61461,     0.61562,     0.61662,     0.61762,     0.61862,     0.61962,     0.62062,     0.62162,     0.62262,     0.62362,\n",
       "           0.62462,     0.62563,     0.62663,     0.62763,     0.62863,     0.62963,     0.63063,     0.63163,     0.63263,     0.63363,     0.63463,     0.63564,     0.63664,     0.63764,     0.63864,     0.63964,     0.64064,     0.64164,     0.64264,     0.64364,     0.64464,     0.64565,     0.64665,     0.64765,\n",
       "           0.64865,     0.64965,     0.65065,     0.65165,     0.65265,     0.65365,     0.65465,     0.65566,     0.65666,     0.65766,     0.65866,     0.65966,     0.66066,     0.66166,     0.66266,     0.66366,     0.66466,     0.66567,     0.66667,     0.66767,     0.66867,     0.66967,     0.67067,     0.67167,\n",
       "           0.67267,     0.67367,     0.67467,     0.67568,     0.67668,     0.67768,     0.67868,     0.67968,     0.68068,     0.68168,     0.68268,     0.68368,     0.68468,     0.68569,     0.68669,     0.68769,     0.68869,     0.68969,     0.69069,     0.69169,     0.69269,     0.69369,     0.69469,      0.6957,\n",
       "            0.6967,      0.6977,      0.6987,      0.6997,      0.7007,      0.7017,      0.7027,      0.7037,      0.7047,     0.70571,     0.70671,     0.70771,     0.70871,     0.70971,     0.71071,     0.71171,     0.71271,     0.71371,     0.71471,     0.71572,     0.71672,     0.71772,     0.71872,     0.71972,\n",
       "           0.72072,     0.72172,     0.72272,     0.72372,     0.72472,     0.72573,     0.72673,     0.72773,     0.72873,     0.72973,     0.73073,     0.73173,     0.73273,     0.73373,     0.73473,     0.73574,     0.73674,     0.73774,     0.73874,     0.73974,     0.74074,     0.74174,     0.74274,     0.74374,\n",
       "           0.74474,     0.74575,     0.74675,     0.74775,     0.74875,     0.74975,     0.75075,     0.75175,     0.75275,     0.75375,     0.75475,     0.75576,     0.75676,     0.75776,     0.75876,     0.75976,     0.76076,     0.76176,     0.76276,     0.76376,     0.76476,     0.76577,     0.76677,     0.76777,\n",
       "           0.76877,     0.76977,     0.77077,     0.77177,     0.77277,     0.77377,     0.77477,     0.77578,     0.77678,     0.77778,     0.77878,     0.77978,     0.78078,     0.78178,     0.78278,     0.78378,     0.78478,     0.78579,     0.78679,     0.78779,     0.78879,     0.78979,     0.79079,     0.79179,\n",
       "           0.79279,     0.79379,     0.79479,      0.7958,      0.7968,      0.7978,      0.7988,      0.7998,      0.8008,      0.8018,      0.8028,      0.8038,      0.8048,     0.80581,     0.80681,     0.80781,     0.80881,     0.80981,     0.81081,     0.81181,     0.81281,     0.81381,     0.81481,     0.81582,\n",
       "           0.81682,     0.81782,     0.81882,     0.81982,     0.82082,     0.82182,     0.82282,     0.82382,     0.82482,     0.82583,     0.82683,     0.82783,     0.82883,     0.82983,     0.83083,     0.83183,     0.83283,     0.83383,     0.83483,     0.83584,     0.83684,     0.83784,     0.83884,     0.83984,\n",
       "           0.84084,     0.84184,     0.84284,     0.84384,     0.84484,     0.84585,     0.84685,     0.84785,     0.84885,     0.84985,     0.85085,     0.85185,     0.85285,     0.85385,     0.85485,     0.85586,     0.85686,     0.85786,     0.85886,     0.85986,     0.86086,     0.86186,     0.86286,     0.86386,\n",
       "           0.86486,     0.86587,     0.86687,     0.86787,     0.86887,     0.86987,     0.87087,     0.87187,     0.87287,     0.87387,     0.87487,     0.87588,     0.87688,     0.87788,     0.87888,     0.87988,     0.88088,     0.88188,     0.88288,     0.88388,     0.88488,     0.88589,     0.88689,     0.88789,\n",
       "           0.88889,     0.88989,     0.89089,     0.89189,     0.89289,     0.89389,     0.89489,      0.8959,      0.8969,      0.8979,      0.8989,      0.8999,      0.9009,      0.9019,      0.9029,      0.9039,      0.9049,     0.90591,     0.90691,     0.90791,     0.90891,     0.90991,     0.91091,     0.91191,\n",
       "           0.91291,     0.91391,     0.91491,     0.91592,     0.91692,     0.91792,     0.91892,     0.91992,     0.92092,     0.92192,     0.92292,     0.92392,     0.92492,     0.92593,     0.92693,     0.92793,     0.92893,     0.92993,     0.93093,     0.93193,     0.93293,     0.93393,     0.93493,     0.93594,\n",
       "           0.93694,     0.93794,     0.93894,     0.93994,     0.94094,     0.94194,     0.94294,     0.94394,     0.94494,     0.94595,     0.94695,     0.94795,     0.94895,     0.94995,     0.95095,     0.95195,     0.95295,     0.95395,     0.95495,     0.95596,     0.95696,     0.95796,     0.95896,     0.95996,\n",
       "           0.96096,     0.96196,     0.96296,     0.96396,     0.96496,     0.96597,     0.96697,     0.96797,     0.96897,     0.96997,     0.97097,     0.97197,     0.97297,     0.97397,     0.97497,     0.97598,     0.97698,     0.97798,     0.97898,     0.97998,     0.98098,     0.98198,     0.98298,     0.98398,\n",
       "           0.98498,     0.98599,     0.98699,     0.98799,     0.98899,     0.98999,     0.99099,     0.99199,     0.99299,     0.99399,     0.99499,       0.996,       0.997,       0.998,       0.999,           1]), array([[    0.95351,     0.95351,     0.95054,     0.94955,     0.94857,     0.94659,      0.9456,     0.94461,     0.94461,     0.94461,      0.9446,     0.94263,     0.94164,     0.94164,     0.94164,     0.94164,     0.94164,     0.93966,     0.93966,     0.93867,     0.93867,     0.93867,     0.93769,\n",
       "            0.93769,     0.93769,      0.9367,      0.9367,      0.9367,     0.93571,     0.93571,     0.93571,     0.93571,     0.93571,     0.93571,     0.93571,     0.93472,     0.93472,     0.93472,     0.93472,     0.93472,     0.93472,     0.93472,     0.93472,     0.93373,     0.93373,     0.93373,\n",
       "            0.93373,     0.93373,     0.93373,     0.93373,     0.93373,     0.93373,     0.93274,     0.93199,     0.93175,     0.93175,     0.93175,     0.93175,     0.93076,     0.93076,     0.93076,     0.93076,     0.93076,     0.93076,     0.93076,     0.93076,     0.93076,     0.93076,     0.93076,\n",
       "            0.93076,     0.93076,     0.93076,     0.93076,     0.93076,     0.93076,     0.93076,     0.93076,     0.93076,     0.93076,     0.93076,     0.93076,     0.92977,     0.92977,     0.92878,     0.92878,     0.92878,     0.92878,     0.92878,     0.92779,     0.92779,     0.92779,     0.92771,\n",
       "            0.92582,     0.92483,     0.92384,     0.92384,     0.92384,     0.92384,     0.92384,     0.92384,     0.92384,     0.92384,     0.92384,     0.92384,     0.92291,     0.92285,     0.92285,     0.92186,     0.92186,     0.92186,     0.92186,     0.92186,     0.92186,     0.92186,     0.92186,\n",
       "            0.92186,     0.92087,     0.92087,     0.92087,     0.92087,     0.92087,     0.92087,     0.92087,     0.92087,     0.92087,     0.92087,     0.92087,     0.92087,     0.92087,     0.91988,     0.91921,     0.91809,     0.91761,     0.91707,     0.91609,     0.91592,     0.91592,     0.91586,\n",
       "            0.91494,     0.91494,     0.91494,     0.91494,     0.91494,     0.91494,     0.91494,     0.91494,     0.91395,     0.91395,     0.91395,     0.91395,     0.91395,     0.91281,     0.91197,     0.91197,     0.91197,     0.91197,     0.91197,     0.91197,     0.91197,     0.91197,     0.91197,\n",
       "            0.91098,     0.91098,     0.91098,     0.91098,     0.91098,     0.91098,     0.91098,     0.91098,     0.91098,     0.91098,     0.91098,     0.91098,     0.91098,     0.91042,     0.90999,     0.90999,     0.90999,     0.90999,     0.90999,     0.90999,     0.90915,       0.909,       0.909,\n",
       "              0.909,       0.909,       0.909,     0.90896,     0.90815,     0.90801,     0.90794,      0.9074,     0.90702,     0.90702,     0.90702,     0.90633,     0.90603,     0.90603,     0.90603,     0.90603,     0.90603,     0.90603,     0.90535,     0.90504,     0.90504,     0.90406,     0.90406,\n",
       "            0.90406,     0.90406,     0.90406,     0.90406,     0.90307,     0.90307,     0.90307,     0.90208,     0.90208,     0.90208,     0.90208,     0.90094,      0.9002,      0.9001,      0.9001,      0.9001,      0.9001,      0.9001,      0.9001,     0.90003,     0.89955,     0.89911,     0.89911,\n",
       "            0.89911,     0.89911,     0.89881,     0.89836,     0.89812,     0.89812,     0.89812,     0.89812,     0.89812,     0.89812,     0.89812,     0.89812,     0.89812,     0.89812,     0.89732,     0.89614,     0.89614,     0.89614,     0.89614,     0.89614,     0.89614,     0.89614,     0.89614,\n",
       "            0.89614,     0.89614,     0.89614,     0.89614,     0.89614,     0.89614,     0.89515,     0.89515,     0.89515,     0.89515,     0.89515,     0.89515,     0.89515,     0.89515,     0.89515,     0.89477,     0.89437,     0.89416,     0.89318,     0.89318,     0.89318,     0.89318,     0.89291,\n",
       "            0.89259,     0.89228,     0.89219,     0.89194,     0.89169,     0.89144,      0.8912,      0.8912,      0.8906,     0.89021,     0.89021,     0.89021,     0.89021,     0.89021,     0.89021,     0.89021,     0.89021,     0.89021,     0.89021,     0.89021,     0.89021,     0.89021,     0.88967,\n",
       "            0.88891,     0.88773,     0.88724,     0.88724,     0.88724,     0.88724,     0.88724,     0.88659,     0.88625,     0.88625,     0.88625,     0.88625,     0.88625,     0.88507,     0.88484,      0.8846,     0.88436,     0.88427,     0.88427,     0.88427,     0.88427,     0.88427,     0.88427,\n",
       "            0.88427,     0.88427,     0.88427,     0.88427,     0.88427,     0.88427,     0.88427,     0.88427,     0.88427,     0.88427,     0.88427,     0.88427,     0.88427,     0.88427,     0.88427,     0.88328,     0.88328,     0.88328,     0.88328,     0.88328,     0.88328,     0.88317,     0.88303,\n",
       "            0.88289,     0.88275,     0.88261,     0.88247,     0.88233,      0.8813,     0.88031,     0.88008,     0.87986,     0.87963,     0.87941,     0.87769,     0.87735,     0.87735,     0.87735,     0.87735,     0.87735,     0.87735,     0.87735,     0.87735,     0.87537,     0.87537,     0.87537,\n",
       "            0.87537,     0.87537,     0.87537,     0.87537,      0.8752,     0.87462,     0.87408,     0.87357,      0.8724,      0.8724,      0.8724,      0.8724,     0.87183,     0.87043,     0.87043,     0.87026,     0.86975,     0.86944,     0.86944,     0.86811,      0.8676,     0.86704,     0.86647,\n",
       "            0.86647,     0.86647,     0.86647,     0.86647,     0.86647,     0.86548,     0.86548,     0.86548,     0.86548,     0.86548,     0.86548,     0.86548,     0.86548,     0.86525,     0.86498,     0.86471,     0.86449,     0.86442,     0.86408,     0.86375,     0.86251,     0.86251,     0.86251,\n",
       "            0.86204,     0.86053,     0.86053,     0.86053,     0.86053,     0.86053,     0.86053,     0.86053,     0.86053,     0.86006,     0.85955,     0.85955,     0.85949,     0.85915,     0.85882,     0.85832,     0.85757,     0.85757,     0.85757,     0.85757,     0.85757,     0.85757,     0.85757,\n",
       "            0.85757,     0.85757,     0.85757,     0.85719,     0.85668,     0.85618,     0.85567,     0.85516,     0.85466,     0.85415,     0.85364,     0.85266,     0.85262,     0.85262,     0.85161,     0.85111,     0.84965,     0.84965,     0.84956,      0.8493,     0.84905,      0.8488,     0.84768,\n",
       "            0.84742,     0.84692,     0.84669,     0.84669,     0.84669,     0.84669,     0.84669,     0.84652,     0.84626,     0.84601,     0.84576,     0.84531,      0.8448,     0.84331,      0.8428,     0.84174,     0.84174,     0.84075,     0.84075,     0.84075,     0.83943,     0.83909,     0.83871,\n",
       "            0.83778,     0.83482,     0.83482,     0.83479,     0.83462,     0.83445,     0.83428,     0.83411,     0.83395,     0.83375,      0.8335,     0.83324,     0.83299,     0.83263,     0.83213,     0.83185,     0.83185,     0.83185,     0.83185,     0.83185,     0.83185,     0.83185,     0.83185,\n",
       "            0.83086,     0.83018,     0.82952,     0.82901,     0.82888,     0.82888,     0.82888,     0.82888,     0.82747,     0.82696,      0.8269,      0.8269,      0.8269,      0.8269,     0.82689,     0.82293,     0.82242,     0.82097,     0.82086,     0.81991,      0.8194,      0.8189,     0.81839,\n",
       "              0.818,       0.818,       0.818,       0.818,       0.818,       0.818,     0.81701,     0.81701,     0.81581,      0.8153,     0.81479,     0.81429,     0.81306,     0.81306,     0.81178,     0.81127,     0.81076,     0.81026,     0.81009,     0.80938,      0.8091,     0.80885,     0.80851,\n",
       "            0.80817,     0.80728,     0.80627,     0.80613,     0.80613,     0.80317,     0.80307,     0.80287,     0.80267,     0.80247,     0.80226,     0.80119,     0.80119,     0.80119,     0.80119,     0.80119,      0.7985,     0.79822,     0.79586,     0.79536,     0.79445,     0.79426,     0.79299,\n",
       "            0.79265,     0.79231,     0.79228,     0.78932,     0.78932,     0.78831,     0.78632,     0.78565,     0.78408,     0.78357,     0.78239,     0.78239,     0.78106,     0.78056,     0.77771,     0.77669,     0.77409,     0.77358,     0.77308,     0.77257,     0.77162,     0.76933,     0.76882,\n",
       "            0.76733,     0.76682,     0.76433,     0.76383,     0.76304,     0.76203,     0.76162,     0.76137,     0.76096,     0.75649,     0.75562,     0.75528,     0.75494,     0.75159,     0.75108,      0.7486,     0.74809,     0.74541,     0.74399,     0.74382,     0.74286,      0.7425,     0.74216,\n",
       "            0.74085,     0.73986,     0.73977,      0.7388,     0.73812,     0.73558,     0.73507,     0.73322,     0.73221,     0.72997,     0.72919,     0.72844,     0.72667,     0.72565,     0.72266,     0.72165,      0.7202,     0.72008,      0.7191,     0.71314,     0.71213,     0.71111,     0.71001,\n",
       "             0.7092,      0.7092,     0.70458,     0.70425,     0.70378,     0.70006,     0.69904,     0.69521,      0.6947,      0.6927,     0.69054,     0.68755,     0.68653,     0.68645,     0.68051,     0.68051,     0.67927,     0.67876,     0.67816,     0.67453,     0.67403,     0.67161,     0.67029,\n",
       "            0.66598,     0.66497,     0.66123,     0.66073,     0.66073,     0.65745,     0.65664,     0.65623,     0.65583,      0.6532,     0.64864,     0.64814,     0.64442,     0.64358,     0.64289,     0.64189,     0.64122,     0.63966,     0.63915,     0.63384,     0.63355,     0.63326,     0.63007,\n",
       "            0.63007,      0.6277,     0.62719,     0.62479,     0.62179,     0.62039,     0.61874,     0.61823,     0.61262,     0.60881,     0.60533,     0.60483,     0.60237,     0.60179,       0.599,     0.59828,     0.59726,     0.59433,     0.59366,       0.591,     0.58938,     0.58888,     0.58634,\n",
       "            0.58566,     0.58173,     0.57765,     0.57765,     0.57421,     0.57371,      0.5727,      0.5684,     0.56672,     0.56564,      0.5638,     0.56339,     0.56267,     0.55852,     0.55718,     0.55541,     0.55391,     0.55338,     0.54844,     0.54667,     0.54531,      0.5426,     0.54209,\n",
       "            0.53866,     0.53621,     0.53514,     0.52951,     0.52619,      0.5242,     0.52353,     0.51771,      0.5162,     0.51505,      0.5117,     0.50723,       0.506,     0.50372,      0.5023,     0.50162,     0.49897,      0.4973,     0.49662,     0.49466,     0.49076,     0.48961,     0.48618,\n",
       "            0.48335,     0.47771,     0.47523,     0.47082,     0.46866,     0.46279,     0.46064,      0.4573,     0.44893,     0.44826,     0.44585,     0.44295,     0.44227,     0.43962,     0.43255,     0.42706,     0.42638,     0.42342,     0.42107,      0.4204,     0.41445,     0.40847,     0.40221,\n",
       "             0.3965,     0.39308,     0.38849,     0.38413,     0.37652,     0.37419,      0.3695,     0.36623,     0.36346,     0.36202,     0.35545,     0.35426,     0.34843,     0.34728,     0.34437,     0.34081,     0.33438,     0.32988,     0.32439,     0.31845,     0.31638,     0.31138,     0.30997,\n",
       "            0.30634,     0.30052,     0.29833,     0.29333,     0.29204,      0.2873,      0.2826,     0.28028,     0.27382,     0.27331,     0.27123,     0.26961,     0.26662,     0.26316,     0.25619,     0.24924,      0.2462,     0.24219,     0.23581,     0.22985,      0.2234,     0.21925,     0.21148,\n",
       "            0.20827,     0.20031,     0.19432,     0.18438,     0.17822,      0.1734,     0.16939,      0.1644,     0.15586,     0.15287,      0.1504,     0.14244,     0.13448,       0.132,     0.12647,     0.12246,     0.11549,     0.11233,     0.11044,     0.10564,     0.10364,     0.10139,    0.098644,\n",
       "           0.096641,     0.09432,    0.090314,    0.083341,    0.081313,    0.077307,    0.076215,     0.07424,    0.072704,    0.067218,    0.064247,    0.063162,    0.060145,    0.053292,    0.051289,    0.050105,    0.048078,     0.04605,    0.044761,    0.041995,    0.038978,    0.035961,    0.034276,\n",
       "           0.032273,    0.029281,    0.028406,     0.02773,    0.026065,    0.024734,    0.023717,    0.020725,     0.01964,    0.018557,    0.018151,    0.017746,     0.01734,    0.016935,    0.016458,    0.015951,    0.015635,    0.015381,    0.015128,    0.014875,    0.013974,    0.011574,    0.011236,\n",
       "           0.010898,   0.0099184,   0.0092334,   0.0079018,   0.0073949,   0.0058629,   0.0048973,   0.0043904,   0.0038591,   0.0031832,   0.0027702,   0.0024805,   0.0021908,  0.00098912,  0.00098912,  0.00098912,  0.00098912,  0.00098912,  0.00098912,  0.00098912,  0.00098912,  0.00098912,  0.00098912,\n",
       "                  0,           0,           0,           0,           0,           0,           0,           0,           0,           0,           0,           0,           0,           0,           0,           0,           0,           0,           0,           0,           0,           0,           0,\n",
       "                  0,           0,           0,           0,           0,           0,           0,           0,           0,           0,           0,           0,           0,           0,           0,           0,           0,           0,           0,           0,           0,           0,           0,\n",
       "                  0,           0,           0,           0,           0,           0,           0,           0,           0,           0,           0,           0,           0,           0,           0,           0,           0,           0,           0,           0,           0,           0,           0,\n",
       "                  0,           0,           0,           0,           0,           0,           0,           0,           0,           0,           0]]), 'Confidence', 'Recall']]\n",
       "fitness: 0.5242955913966364\n",
       "keys: ['metrics/precision(B)', 'metrics/recall(B)', 'metrics/mAP50(B)', 'metrics/mAP50-95(B)']\n",
       "maps: array([    0.48251])\n",
       "names: {0: 'human'}\n",
       "plot: True\n",
       "results_dict: {'metrics/precision(B)': 0.8845489046908607, 'metrics/recall(B)': 0.8605341246290801, 'metrics/mAP50(B)': 0.9003236357044867, 'metrics/mAP50-95(B)': 0.482514697584653, 'fitness': 0.5242955913966364}\n",
       "save_dir: PosixPath('runs/detect/train')\n",
       "speed: {'preprocess': 0.153879072041611, 'inference': 4.625478408233061, 'loss': 0.0004970343054853712, 'postprocess': 1.4497660171514521}\n",
       "task: 'detect'"
      ]
     },
     "execution_count": 6,
     "metadata": {},
     "output_type": "execute_result"
    }
   ],
   "source": [
    "\n",
    "\n",
    "import torch\n",
    "torch.cuda.empty_cache()\n",
    "\n",
    "model.train(\n",
    "    data='/kaggle/working/data.yaml', \n",
    "    epochs=50,         \n",
    "    batch=32,          \n",
    "    imgsz=640,         \n",
    "    workers=4,          \n",
    "    optimizer='Adam',   \n",
    "    lr0=0.0001,          \n",
    "    patience=10 ,        \n",
    "    save_period=2\n",
    "\n",
    "\n",
    ")\n"
   ]
  },
  {
   "cell_type": "code",
   "execution_count": null,
   "metadata": {
    "execution": {
     "iopub.execute_input": "2025-04-15T08:00:53.753413Z",
     "iopub.status.busy": "2025-04-15T08:00:53.753040Z",
     "iopub.status.idle": "2025-04-15T08:01:04.576820Z",
     "shell.execute_reply": "2025-04-15T08:01:04.575063Z",
     "shell.execute_reply.started": "2025-04-15T08:00:53.753376Z"
    },
    "trusted": true
   },
   "outputs": [
    {
     "name": "stdout",
     "output_type": "stream",
     "text": [
      "Ultralytics 8.3.108 🚀 Python-3.10.12 torch-2.5.1+cu121 CUDA:0 (Tesla P100-PCIE-16GB, 16269MiB)\n",
      "YOLO11s summary (fused): 100 layers, 9,413,187 parameters, 0 gradients, 21.3 GFLOPs\n"
     ]
    },
    {
     "name": "stderr",
     "output_type": "stream",
     "text": [
      "\u001b[34m\u001b[1mval: \u001b[0mScanning /kaggle/input/all-human-with-pool/valid/labels... 583 images, 0 backgrounds, 0 corrupt: 100%|██████████| 583/583 [00:00<00:00, 674.08it/s]"
     ]
    },
    {
     "name": "stdout",
     "output_type": "stream",
     "text": [
      "\u001b[34m\u001b[1mval: \u001b[0mWARNING ⚠️ Cache directory /kaggle/input/all-human-with-pool/valid is not writeable, cache not saved.\n"
     ]
    },
    {
     "name": "stderr",
     "output_type": "stream",
     "text": [
      "\n",
      "                 Class     Images  Instances      Box(P          R      mAP50  mAP50-95): 100%|██████████| 19/19 [00:06<00:00,  2.73it/s]\n"
     ]
    },
    {
     "name": "stdout",
     "output_type": "stream",
     "text": [
      "                   all        583       1011       0.88      0.866      0.901      0.483\n"
     ]
    },
    {
     "name": "stderr",
     "output_type": "stream",
     "text": [
      "/usr/local/lib/python3.10/dist-packages/matplotlib/colors.py:721: RuntimeWarning: invalid value encountered in less\n",
      "  xa[xa < 0] = -1\n",
      "/usr/local/lib/python3.10/dist-packages/matplotlib/colors.py:721: RuntimeWarning: invalid value encountered in less\n",
      "  xa[xa < 0] = -1\n"
     ]
    },
    {
     "name": "stdout",
     "output_type": "stream",
     "text": [
      "Speed: 1.1ms preprocess, 5.5ms inference, 0.0ms loss, 1.1ms postprocess per image\n",
      "Results saved to \u001b[1mruns/detect/train2\u001b[0m\n"
     ]
    }
   ],
   "source": [
    "\n",
    "metrics = model.val()"
   ]
  },
  {
   "cell_type": "code",
   "execution_count": null,
   "metadata": {
    "execution": {
     "iopub.execute_input": "2025-04-15T08:01:04.579620Z",
     "iopub.status.busy": "2025-04-15T08:01:04.579377Z",
     "iopub.status.idle": "2025-04-15T08:01:17.216670Z",
     "shell.execute_reply": "2025-04-15T08:01:17.215750Z",
     "shell.execute_reply.started": "2025-04-15T08:01:04.579598Z"
    },
    "trusted": true
   },
   "outputs": [
    {
     "name": "stdout",
     "output_type": "stream",
     "text": [
      "Ultralytics 8.3.108 🚀 Python-3.10.12 torch-2.5.1+cu121 CUDA:0 (Tesla P100-PCIE-16GB, 16269MiB)\n",
      "YOLO11s summary (fused): 100 layers, 9,413,187 parameters, 0 gradients, 21.3 GFLOPs\n"
     ]
    },
    {
     "name": "stderr",
     "output_type": "stream",
     "text": [
      "\u001b[34m\u001b[1mval: \u001b[0mScanning /kaggle/input/all-human-with-pool/test/labels... 284 images, 0 backgrounds, 0 corrupt: 100%|██████████| 284/284 [00:00<00:00, 342.33it/s]"
     ]
    },
    {
     "name": "stdout",
     "output_type": "stream",
     "text": [
      "\u001b[34m\u001b[1mval: \u001b[0mWARNING ⚠️ Cache directory /kaggle/input/all-human-with-pool/test is not writeable, cache not saved.\n"
     ]
    },
    {
     "name": "stderr",
     "output_type": "stream",
     "text": [
      "\n",
      "                 Class     Images  Instances      Box(P          R      mAP50  mAP50-95): 100%|██████████| 18/18 [00:03<00:00,  4.66it/s]\n"
     ]
    },
    {
     "name": "stdout",
     "output_type": "stream",
     "text": [
      "                   all        284        492      0.856      0.854      0.876      0.459\n"
     ]
    },
    {
     "name": "stderr",
     "output_type": "stream",
     "text": [
      "/usr/local/lib/python3.10/dist-packages/matplotlib/colors.py:721: RuntimeWarning: invalid value encountered in less\n",
      "  xa[xa < 0] = -1\n",
      "/usr/local/lib/python3.10/dist-packages/matplotlib/colors.py:721: RuntimeWarning: invalid value encountered in less\n",
      "  xa[xa < 0] = -1\n"
     ]
    },
    {
     "name": "stdout",
     "output_type": "stream",
     "text": [
      "Speed: 1.1ms preprocess, 6.0ms inference, 0.0ms loss, 1.0ms postprocess per image\n",
      "Results saved to \u001b[1mruns/detect/val\u001b[0m\n",
      "\n",
      "image 1/284 /kaggle/input/all-human-with-pool/test/images/0KVc_11_png_jpg.rf.80f3d84c7025b4efddbbcfbb414a8d1a.jpg: 640x640 1 human, 9.6ms\n",
      "image 2/284 /kaggle/input/all-human-with-pool/test/images/0KVc_1_png_jpg.rf.d11526b77ecce7a368876cf172131280.jpg: 640x640 1 human, 8.4ms\n",
      "image 3/284 /kaggle/input/all-human-with-pool/test/images/0KVc_22_png_jpg.rf.c69bef42ad4ffce6b23ffe8a0ba50b0b.jpg: 640x640 4 humans, 8.3ms\n",
      "image 4/284 /kaggle/input/all-human-with-pool/test/images/0KVc_23_png_jpg.rf.bd436029de5768439aee75c85b25372b.jpg: 640x640 3 humans, 8.3ms\n",
      "image 5/284 /kaggle/input/all-human-with-pool/test/images/0KVc_25_png_jpg.rf.0c060acd035c110d984cc2065fe6e814.jpg: 640x640 2 humans, 8.3ms\n",
      "image 6/284 /kaggle/input/all-human-with-pool/test/images/0KVc_3_png_jpg.rf.0d8121edaa6d4678c6370449b483c087.jpg: 640x640 1 human, 8.3ms\n",
      "image 7/284 /kaggle/input/all-human-with-pool/test/images/0KVc_4_png_jpg.rf.1f278ca44f787603f10fab443d744f02.jpg: 640x640 1 human, 8.4ms\n",
      "image 8/284 /kaggle/input/all-human-with-pool/test/images/0KVc_7_png_jpg.rf.2a9b7d864b7272b48b2723c67bf3d542.jpg: 640x640 1 human, 8.3ms\n",
      "image 9/284 /kaggle/input/all-human-with-pool/test/images/0KVc_8_png_jpg.rf.6efade6f1b11bdb334e326ecfb3ca12f.jpg: 640x640 1 human, 8.3ms\n",
      "image 10/284 /kaggle/input/all-human-with-pool/test/images/3o2Q_14_png_jpg.rf.96dbc098187d3fca32f9480e475211b6.jpg: 640x640 2 humans, 8.4ms\n",
      "image 11/284 /kaggle/input/all-human-with-pool/test/images/3o2Q_17_png_jpg.rf.312ade87534ed7ee656270e89665ea86.jpg: 640x640 1 human, 8.3ms\n",
      "image 12/284 /kaggle/input/all-human-with-pool/test/images/3o2Q_1_png_jpg.rf.8aded7ed4a3f878bcad2262f677fceab.jpg: 640x640 1 human, 8.3ms\n",
      "image 13/284 /kaggle/input/all-human-with-pool/test/images/3o2Q_23_png_jpg.rf.c3a96ace372db923e5d47374e38ca283.jpg: 640x640 1 human, 8.3ms\n",
      "image 14/284 /kaggle/input/all-human-with-pool/test/images/3o2Q_30_png_jpg.rf.d14e232500aab0d7276549c107a778da.jpg: 640x640 1 human, 8.3ms\n",
      "image 15/284 /kaggle/input/all-human-with-pool/test/images/3o2Q_31_png_jpg.rf.5e02323ed97944fcfb9a1d8e3a894120.jpg: 640x640 1 human, 8.2ms\n",
      "image 16/284 /kaggle/input/all-human-with-pool/test/images/3o2Q_36_png_jpg.rf.bc22af5a1b4b95dd505c57d1a5f84c2c.jpg: 640x640 5 humans, 8.2ms\n",
      "image 17/284 /kaggle/input/all-human-with-pool/test/images/3o2Q_39_png_jpg.rf.cd5f8547045059dbd6495549b73ae615.jpg: 640x640 5 humans, 8.2ms\n",
      "image 18/284 /kaggle/input/all-human-with-pool/test/images/3o2Q_43_png_jpg.rf.a0d1e30155da971e3a9ad11a2d2cee66.jpg: 640x640 3 humans, 8.2ms\n",
      "image 19/284 /kaggle/input/all-human-with-pool/test/images/3o2Q_44_png_jpg.rf.da7359eb6a7f7583bc51c3a00c26f4c1.jpg: 640x640 3 humans, 8.3ms\n",
      "image 20/284 /kaggle/input/all-human-with-pool/test/images/3o2Q_8_png_jpg.rf.cdb46dabebe09164c2b2814ed2f1bbc9.jpg: 640x640 5 humans, 8.3ms\n",
      "image 21/284 /kaggle/input/all-human-with-pool/test/images/8acg_12_jpg.rf.56cedcf6303095f6baaba5d418bf8516.jpg: 640x640 1 human, 8.3ms\n",
      "image 22/284 /kaggle/input/all-human-with-pool/test/images/8acg_13_jpg.rf.b752e4fcf09599562d41f3317227a461.jpg: 640x640 1 human, 8.2ms\n",
      "image 23/284 /kaggle/input/all-human-with-pool/test/images/8acg_20_jpg.rf.83aa390c45a23f223ba81b5f7eb20e0f.jpg: 640x640 1 human, 8.2ms\n",
      "image 24/284 /kaggle/input/all-human-with-pool/test/images/8acg_21_jpg.rf.1baf6acafaeda984fb5f85a0c1715229.jpg: 640x640 1 human, 8.3ms\n",
      "image 25/284 /kaggle/input/all-human-with-pool/test/images/8acg_22_jpg.rf.ec15b45755a7b8b68bd20e8d13fc8f4e.jpg: 640x640 1 human, 8.3ms\n",
      "image 26/284 /kaggle/input/all-human-with-pool/test/images/8acg_26_jpg.rf.d07f0cf8dc10241819842cc8a6213eb3.jpg: 640x640 1 human, 8.4ms\n",
      "image 27/284 /kaggle/input/all-human-with-pool/test/images/8acg_31_jpg.rf.0fa0da327168bde406ea5966ba338431.jpg: 640x640 4 humans, 8.3ms\n",
      "image 28/284 /kaggle/input/all-human-with-pool/test/images/8acg_35_jpg.rf.b249f9132f41358cbb48dbfa0614801a.jpg: 640x640 3 humans, 8.3ms\n",
      "image 29/284 /kaggle/input/all-human-with-pool/test/images/8acg_6_jpg.rf.3e98d8bf8ed9ab1a643f50e837ab0c42.jpg: 640x640 2 humans, 8.3ms\n",
      "image 30/284 /kaggle/input/all-human-with-pool/test/images/Sharkcut-Realisee-avec-Clipchamp_mp4-14_jpg.rf.415789147e996e1a021db59e5f87693d.jpg: 640x640 1 human, 8.4ms\n",
      "image 31/284 /kaggle/input/all-human-with-pool/test/images/Sharkcut-Realisee-avec-Clipchamp_mp4-14_jpg.rf.eb2cac6222f604fe25660ceff6b7aa33.jpg: 640x640 1 human, 8.2ms\n",
      "image 32/284 /kaggle/input/all-human-with-pool/test/images/Sharkcut-Realisee-avec-Clipchamp_mp4-17_jpg.rf.02cd5b6bf0971de1cf9a7e2b8a4d5e41.jpg: 640x640 1 human, 8.2ms\n",
      "image 33/284 /kaggle/input/all-human-with-pool/test/images/Sharkcut-Realisee-avec-Clipchamp_mp4-28_jpg.rf.4fb7b3a7d08567a5d752189f77846c7c.jpg: 640x640 5 humans, 8.4ms\n",
      "image 34/284 /kaggle/input/all-human-with-pool/test/images/Sharkcut-Realisee-avec-Clipchamp_mp4-30_jpg.rf.a6ca9318649c2a7a2514b9cfa6d79ca6.jpg: 640x640 1 human, 8.3ms\n",
      "image 35/284 /kaggle/input/all-human-with-pool/test/images/Sharkcut-Realisee-avec-Clipchamp_mp4-32_jpg.rf.1fac8af710d27733a7348e9483a285ca.jpg: 640x640 1 human, 8.3ms\n",
      "image 36/284 /kaggle/input/all-human-with-pool/test/images/Sharkcut-Realisee-avec-Clipchamp_mp4-34_jpg.rf.1cb6d44745b27cca7f0a8ceb4401c039.jpg: 640x640 2 humans, 8.3ms\n",
      "image 37/284 /kaggle/input/all-human-with-pool/test/images/Sharkcut-Realisee-avec-Clipchamp_mp4-35_jpg.rf.8630c97ad1fce0538da763cc0e21cf5a.jpg: 640x640 2 humans, 8.3ms\n",
      "image 38/284 /kaggle/input/all-human-with-pool/test/images/Sharkcut-Realisee-avec-Clipchamp_mp4-35_jpg.rf.e17afce1adf2907a068e46246edcf088.jpg: 640x640 2 humans, 8.2ms\n",
      "image 39/284 /kaggle/input/all-human-with-pool/test/images/Sharkcut-Realisee-avec-Clipchamp_mp4-36_jpg.rf.d1d955c830b3150ef2f3b22f2c04a2c5.jpg: 640x640 2 humans, 8.3ms\n",
      "image 40/284 /kaggle/input/all-human-with-pool/test/images/Sharkcut-Realisee-avec-Clipchamp_mp4-37_jpg.rf.756b839fbaa9b451c3abcd2c3d5e9cdc.jpg: 640x640 2 humans, 8.3ms\n",
      "image 41/284 /kaggle/input/all-human-with-pool/test/images/Sharkcut-Realisee-avec-Clipchamp_mp4-37_jpg.rf.99ca6e509ae040d3b244a17144d92225.jpg: 640x640 2 humans, 8.3ms\n",
      "image 42/284 /kaggle/input/all-human-with-pool/test/images/Sharkcut-Realisee-avec-Clipchamp_mp4-40_jpg.rf.905decfa1f7058a502b2b18cd92e212c.jpg: 640x640 1 human, 8.4ms\n",
      "image 43/284 /kaggle/input/all-human-with-pool/test/images/Sharkcut-Realisee-avec-Clipchamp_mp4-43_jpg.rf.4eb007cfea463891379640ba115f776d.jpg: 640x640 1 human, 9.1ms\n",
      "image 44/284 /kaggle/input/all-human-with-pool/test/images/Sharkcut-Realisee-avec-Clipchamp_mp4-45_jpg.rf.1cec36ccfb2a49ea42d0bfda9290bc65.jpg: 640x640 1 human, 8.3ms\n",
      "image 45/284 /kaggle/input/all-human-with-pool/test/images/Sharkcut-Realisee-avec-Clipchamp_mp4-45_jpg.rf.8a1565d717827ad571cf892879dc2d2d.jpg: 640x640 1 human, 8.3ms\n",
      "image 46/284 /kaggle/input/all-human-with-pool/test/images/Sharkcut-Realisee-avec-Clipchamp_mp4-45_jpg.rf.ae502d42e1b1a6bf7e08cc47b93efdf0.jpg: 640x640 1 human, 8.3ms\n",
      "image 47/284 /kaggle/input/all-human-with-pool/test/images/Sharkcut-Realisee-avec-Clipchamp_mp4-54_jpg.rf.4ac535ecad7090dc16119a32f5a6404a.jpg: 640x640 2 humans, 8.4ms\n",
      "image 48/284 /kaggle/input/all-human-with-pool/test/images/Sharkcut-Realisee-avec-Clipchamp_mp4-55_jpg.rf.044166f8fd04bb3ee373b78c668b9aa3.jpg: 640x640 2 humans, 8.4ms\n",
      "image 49/284 /kaggle/input/all-human-with-pool/test/images/Sharkcut-Realisee-avec-Clipchamp_mp4-62_jpg.rf.a2a7c1fdbd920366c95ac68bff3667d6.jpg: 640x640 1 human, 8.4ms\n",
      "image 50/284 /kaggle/input/all-human-with-pool/test/images/Sharkcut-Realisee-avec-Clipchamp_mp4-68_jpg.rf.710566b27d4795ef0a4d72e569b8e5d6.jpg: 640x640 2 humans, 8.3ms\n",
      "image 51/284 /kaggle/input/all-human-with-pool/test/images/Sharkcut-Realisee-avec-Clipchamp_mp4-7_jpg.rf.d9b4bcc4ad70982f81bb50802c2fc47a.jpg: 640x640 2 humans, 8.4ms\n",
      "image 52/284 /kaggle/input/all-human-with-pool/test/images/Sharkcut-Realisee-avec-Clipchamp_mp4-7_jpg.rf.f697bd9ec27995c8ffe6b00755c1fe52.jpg: 640x640 2 humans, 8.4ms\n",
      "image 53/284 /kaggle/input/all-human-with-pool/test/images/Sharkcut-Realisee-avec-Clipchamp_mp4-8_jpg.rf.e1392a9b0d63b3cd05d9dd12fb4b4a43.jpg: 640x640 1 human, 8.3ms\n",
      "image 54/284 /kaggle/input/all-human-with-pool/test/images/UOUI_10_jpg.rf.727f05949cee6188c2827871cfd7c0a0.jpg: 640x640 4 humans, 8.2ms\n",
      "image 55/284 /kaggle/input/all-human-with-pool/test/images/UOUI_12_jpg.rf.51e8f45abed2d952c493d301bdaac0e6.jpg: 640x640 4 humans, 8.4ms\n",
      "image 56/284 /kaggle/input/all-human-with-pool/test/images/UOUI_15_jpg.rf.d352c4cd49f77a7de5a698c836e34452.jpg: 640x640 4 humans, 8.4ms\n",
      "image 57/284 /kaggle/input/all-human-with-pool/test/images/UOUI_3_jpg.rf.e378e3060e53d586b95a9a2f21cdf1e3.jpg: 640x640 2 humans, 8.3ms\n",
      "image 58/284 /kaggle/input/all-human-with-pool/test/images/_4Fw_15_jpg.rf.07e0921682132a3328e6ad56bd0fdf04.jpg: 640x640 1 human, 8.3ms\n",
      "image 59/284 /kaggle/input/all-human-with-pool/test/images/_4Fw_15_jpg.rf.1e0160b035ecb8440ba94a641c8f838b.jpg: 640x640 1 human, 8.3ms\n",
      "image 60/284 /kaggle/input/all-human-with-pool/test/images/_4Fw_18_jpg.rf.612eb7b92699730926223cf9ac1ddc50.jpg: 640x640 1 human, 8.3ms\n",
      "image 61/284 /kaggle/input/all-human-with-pool/test/images/_4Fw_24_jpg.rf.eb67e2a649341c70fab547a487406968.jpg: 640x640 1 human, 8.2ms\n",
      "image 62/284 /kaggle/input/all-human-with-pool/test/images/_4Fw_25_jpg.rf.026d348472088ec8644fd63ddc7257ca.jpg: 640x640 1 human, 8.3ms\n",
      "image 63/284 /kaggle/input/all-human-with-pool/test/images/_4Fw_26_jpg.rf.cbdb0d32d367b02cd2f96cfe523a7098.jpg: 640x640 2 humans, 8.3ms\n",
      "image 64/284 /kaggle/input/all-human-with-pool/test/images/_4Fw_26_jpg.rf.d17af90f5a77ed4f59593167fd0b2120.jpg: 640x640 1 human, 8.3ms\n",
      "image 65/284 /kaggle/input/all-human-with-pool/test/images/_4Fw_29_jpg.rf.1c4469c4fad10db6fb325545fcb6b7e3.jpg: 640x640 1 human, 8.3ms\n",
      "image 66/284 /kaggle/input/all-human-with-pool/test/images/_4Fw_30_jpg.rf.81acc045343a66d323ead5392b1673df.jpg: 640x640 1 human, 8.3ms\n",
      "image 67/284 /kaggle/input/all-human-with-pool/test/images/_4Fw_30_jpg.rf.a3ba038b24de8361b3f3d11be0da3278.jpg: 640x640 1 human, 8.3ms\n",
      "image 68/284 /kaggle/input/all-human-with-pool/test/images/_4Fw_31_jpg.rf.370c651a7c57fd44e38e078075868183.jpg: 640x640 1 human, 8.3ms\n",
      "image 69/284 /kaggle/input/all-human-with-pool/test/images/_4Fw_32_jpg.rf.f3182a8fd57d8f3e18ad21248790929a.jpg: 640x640 1 human, 8.3ms\n",
      "image 70/284 /kaggle/input/all-human-with-pool/test/images/_4Fw_7_jpg.rf.9fc04047afd2a8d6db1cee4b3052778b.jpg: 640x640 2 humans, 8.2ms\n",
      "image 71/284 /kaggle/input/all-human-with-pool/test/images/pnic_2_jpg.rf.b18389e246cb70f78eee6d9f2e9855d7.jpg: 640x640 1 human, 8.3ms\n",
      "image 72/284 /kaggle/input/all-human-with-pool/test/images/sBj8_11_png_jpg.rf.162a6dcea27d4daa8dc27fd703e2e3c1.jpg: 640x640 3 humans, 8.3ms\n",
      "image 73/284 /kaggle/input/all-human-with-pool/test/images/sBj8_11_png_jpg.rf.77e588b56388f3cf80360120cb92a2e0.jpg: 640x640 2 humans, 8.3ms\n",
      "image 74/284 /kaggle/input/all-human-with-pool/test/images/sBj8_14_png_jpg.rf.4fc0f36a46b4c782397418ab7a1c054a.jpg: 640x640 4 humans, 8.3ms\n",
      "image 75/284 /kaggle/input/all-human-with-pool/test/images/sBj8_17_png_jpg.rf.eadf37da2f63ff3a3c0a56a0718e5a63.jpg: 640x640 2 humans, 8.3ms\n",
      "image 76/284 /kaggle/input/all-human-with-pool/test/images/sBj8_23_png_jpg.rf.ceb5c06ae698cc17b4fbd18c0538d4d8.jpg: 640x640 4 humans, 8.3ms\n",
      "image 77/284 /kaggle/input/all-human-with-pool/test/images/sBj8_25_png_jpg.rf.47cde5db24109f23b2f4a6adfb89d286.jpg: 640x640 3 humans, 8.3ms\n",
      "image 78/284 /kaggle/input/all-human-with-pool/test/images/sBj8_42_png_jpg.rf.4558c654d1bdf2a29add588639c8b39c.jpg: 640x640 3 humans, 8.3ms\n",
      "image 79/284 /kaggle/input/all-human-with-pool/test/images/sBj8_48_png_jpg.rf.4acbfbe0bdd3e2d53dd6043a381d63fd.jpg: 640x640 3 humans, 8.4ms\n",
      "image 80/284 /kaggle/input/all-human-with-pool/test/images/sBj8_5_png_jpg.rf.bae53970ddc73fa59631f957b6b5c51f.jpg: 640x640 2 humans, 8.3ms\n",
      "image 81/284 /kaggle/input/all-human-with-pool/test/images/sBj8_6_png_jpg.rf.d0b7080b98bdc6ffc982e91c0d004bc3.jpg: 640x640 2 humans, 8.3ms\n",
      "image 82/284 /kaggle/input/all-human-with-pool/test/images/sCiU_11_jpg.rf.6e0a13c5240c4acf5892c2a284802301.jpg: 640x640 3 humans, 8.3ms\n",
      "image 83/284 /kaggle/input/all-human-with-pool/test/images/sCiU_15_jpg.rf.0c5b276334519442e23d22ba63ff5eb1.jpg: 640x640 3 humans, 8.4ms\n",
      "image 84/284 /kaggle/input/all-human-with-pool/test/images/sCiU_16_jpg.rf.029a92f78a4742ec0f3f2c5aa1fc1c9d.jpg: 640x640 3 humans, 8.3ms\n",
      "image 85/284 /kaggle/input/all-human-with-pool/test/images/sCiU_19_jpg.rf.84153d001f3c2272c52d457fb5f8950f.jpg: 640x640 1 human, 8.3ms\n",
      "image 86/284 /kaggle/input/all-human-with-pool/test/images/sCiU_22_jpg.rf.e790a73a6e4e967e5b3ded1a8384387b.jpg: 640x640 1 human, 8.4ms\n",
      "image 87/284 /kaggle/input/all-human-with-pool/test/images/sCiU_24_jpg.rf.fbc9cad15221e3946aec012873804a17.jpg: 640x640 1 human, 8.3ms\n",
      "image 88/284 /kaggle/input/all-human-with-pool/test/images/sCiU_25_jpg.rf.19581bfa9a50cce7c2d816839f4784b1.jpg: 640x640 1 human, 8.3ms\n",
      "image 89/284 /kaggle/input/all-human-with-pool/test/images/sCiU_27_jpg.rf.9848f0c46506d342b382877452b0ef36.jpg: 640x640 1 human, 8.3ms\n",
      "image 90/284 /kaggle/input/all-human-with-pool/test/images/sCiU_8_jpg.rf.aaa1f1875f07ec4167cc259aa196d226.jpg: 640x640 1 human, 8.3ms\n",
      "image 91/284 /kaggle/input/all-human-with-pool/test/images/sCiU_8_jpg.rf.f35f79670129d37f4477ca72b63bb615.jpg: 640x640 1 human, 8.3ms\n",
      "image 92/284 /kaggle/input/all-human-with-pool/test/images/sCiU_9_jpg.rf.5b75ee3154893f26836267f05be83055.jpg: 640x640 3 humans, 8.3ms\n",
      "image 93/284 /kaggle/input/all-human-with-pool/test/images/video-127_frame03_jpg.rf.3e237ff8471784a054f70f96a5285156.jpg: 640x640 1 human, 8.3ms\n",
      "image 94/284 /kaggle/input/all-human-with-pool/test/images/video-128_frame03_jpg.rf.1e0f07abcbadd91cc5deaec2b29e9433.jpg: 640x640 2 humans, 8.4ms\n",
      "image 95/284 /kaggle/input/all-human-with-pool/test/images/video-128_frame07_jpg.rf.d3648b7a18e8fd962bfee96d530fefa7.jpg: 640x640 1 human, 8.4ms\n",
      "image 96/284 /kaggle/input/all-human-with-pool/test/images/video-128_frame10_jpg.rf.771c3b63bd2bc8883d2605ad572c5aee.jpg: 640x640 2 humans, 8.3ms\n",
      "image 97/284 /kaggle/input/all-human-with-pool/test/images/video-128_frame19_jpg.rf.f84786cc06d905a7a3f7bce873103759.jpg: 640x640 2 humans, 8.3ms\n",
      "image 98/284 /kaggle/input/all-human-with-pool/test/images/video-128_frame23_jpg.rf.772d84aba5ca989d8f9f3824aab8d77e.jpg: 640x640 1 human, 8.3ms\n",
      "image 99/284 /kaggle/input/all-human-with-pool/test/images/video-129_frame02_jpg.rf.c11ab8fd3e1dacee705a9afec0b11ae7.jpg: 640x640 1 human, 8.2ms\n",
      "image 100/284 /kaggle/input/all-human-with-pool/test/images/video-12_frame08_jpg.rf.ce099f6faf7efcef9fe293dfe0c5bfc8.jpg: 640x640 2 humans, 8.2ms\n",
      "image 101/284 /kaggle/input/all-human-with-pool/test/images/video-131_frame01_jpg.rf.03636466c22e2109b474b209ed979ae2.jpg: 640x640 1 human, 8.4ms\n",
      "image 102/284 /kaggle/input/all-human-with-pool/test/images/video-134_frame01_jpg.rf.e8e02d162af017ba39843b37da665a9c.jpg: 640x640 2 humans, 8.3ms\n",
      "image 103/284 /kaggle/input/all-human-with-pool/test/images/video-137_frame10_jpg.rf.90bde2e2662462d752e08c1a3bd250ed.jpg: 640x640 1 human, 8.4ms\n",
      "image 104/284 /kaggle/input/all-human-with-pool/test/images/video-13_frame08_jpg.rf.aaf4191953c1f485e5ef678d558ccca7.jpg: 640x640 3 humans, 8.2ms\n",
      "image 105/284 /kaggle/input/all-human-with-pool/test/images/video-13_frame24_jpg.rf.e25cc8747bcedbd338cfeffd9d60b1bc.jpg: 640x640 4 humans, 8.3ms\n",
      "image 106/284 /kaggle/input/all-human-with-pool/test/images/video-140_frame13_jpg.rf.0b340a52d49e94c6ea0783bc6dd29546.jpg: 640x640 1 human, 8.4ms\n",
      "image 107/284 /kaggle/input/all-human-with-pool/test/images/video-142_frame14_jpg.rf.7677f367c1c6e86c377c1c76632c04f7.jpg: 640x640 1 human, 8.4ms\n",
      "image 108/284 /kaggle/input/all-human-with-pool/test/images/video-143_frame08_jpg.rf.2a11be61280b3fb21121b905c1bcf47c.jpg: 640x640 6 humans, 8.4ms\n",
      "image 109/284 /kaggle/input/all-human-with-pool/test/images/video-146_frame20_jpg.rf.ef5e7b5000d66d8189d14c5e581612fa.jpg: 640x640 1 human, 8.4ms\n",
      "image 110/284 /kaggle/input/all-human-with-pool/test/images/video-14_frame13_jpg.rf.0e08396b81ae48e709c73e51df281077.jpg: 640x640 1 human, 8.4ms\n",
      "image 111/284 /kaggle/input/all-human-with-pool/test/images/video-14_frame17_jpg.rf.1f5a4fd0e1e9597b3be38284b104e20a.jpg: 640x640 1 human, 8.4ms\n",
      "image 112/284 /kaggle/input/all-human-with-pool/test/images/video-152_frame12_jpg.rf.42f5bfe8303048eb16889d16d33b8055.jpg: 640x640 1 human, 8.3ms\n",
      "image 113/284 /kaggle/input/all-human-with-pool/test/images/video-152_frame25_jpg.rf.bb1b1dedaf90bb10ecae5141dab3b12a.jpg: 640x640 3 humans, 8.4ms\n",
      "image 114/284 /kaggle/input/all-human-with-pool/test/images/video-155_frame03_jpg.rf.ab8b82cbde394ef0cdd76b03b1e5ee22.jpg: 640x640 2 humans, 8.3ms\n",
      "image 115/284 /kaggle/input/all-human-with-pool/test/images/video-158_frame17_jpg.rf.677fb6c209302aed21d203aad8f35fc7.jpg: 640x640 2 humans, 8.4ms\n",
      "image 116/284 /kaggle/input/all-human-with-pool/test/images/video-169_frame14_jpg.rf.aba23de0e71b975d7afb27bc7c638145.jpg: 640x640 1 human, 8.4ms\n",
      "image 117/284 /kaggle/input/all-human-with-pool/test/images/video-182_frame17_jpg.rf.8aaaf434a9469771a8a22f4b2b942cc3.jpg: 640x640 2 humans, 8.4ms\n",
      "image 118/284 /kaggle/input/all-human-with-pool/test/images/video-183_frame20_jpg.rf.a9d8b75eb365aaba2ddbfb08d03f457d.jpg: 640x640 2 humans, 8.3ms\n",
      "image 119/284 /kaggle/input/all-human-with-pool/test/images/video-183_frame21_jpg.rf.9697126ba094b20b39db174abde3cb18.jpg: 640x640 1 human, 8.3ms\n",
      "image 120/284 /kaggle/input/all-human-with-pool/test/images/video-183_frame23_jpg.rf.6e4ae9e7d04cdb44da070f807f42d38b.jpg: 640x640 4 humans, 8.4ms\n",
      "image 121/284 /kaggle/input/all-human-with-pool/test/images/video-184_frame20_jpg.rf.e6c0d39164444b68189fc7fcfb26b837.jpg: 640x640 2 humans, 8.4ms\n",
      "image 122/284 /kaggle/input/all-human-with-pool/test/images/video-185_frame13_jpg.rf.5b7be5737d6de4a9daa8ae5379e44337.jpg: 640x640 2 humans, 8.4ms\n",
      "image 123/284 /kaggle/input/all-human-with-pool/test/images/video-190_frame20_jpg.rf.0bd11160f2b7c7e2a928bad131466e91.jpg: 640x640 2 humans, 8.3ms\n",
      "image 124/284 /kaggle/input/all-human-with-pool/test/images/video-190_frame24_jpg.rf.b0e342da631845d8d4fa93f9ebee3fb8.jpg: 640x640 2 humans, 8.4ms\n",
      "image 125/284 /kaggle/input/all-human-with-pool/test/images/video-191_frame09_jpg.rf.477e383e09846128316686d05abccf51.jpg: 640x640 2 humans, 8.3ms\n",
      "image 126/284 /kaggle/input/all-human-with-pool/test/images/video-191_frame15_jpg.rf.42ef893fc4164323780c2d09d6b9ad59.jpg: 640x640 2 humans, 8.3ms\n",
      "image 127/284 /kaggle/input/all-human-with-pool/test/images/video-191_frame16_jpg.rf.371122e1d68704bb68a59e41b0086021.jpg: 640x640 1 human, 8.3ms\n",
      "image 128/284 /kaggle/input/all-human-with-pool/test/images/video-191_frame19_jpg.rf.09aea515f6eaa9d760e467197822359d.jpg: 640x640 2 humans, 8.3ms\n",
      "image 129/284 /kaggle/input/all-human-with-pool/test/images/video-193_frame19_jpg.rf.7f28dd4a490940626460401b8755007f.jpg: 640x640 1 human, 8.3ms\n",
      "image 130/284 /kaggle/input/all-human-with-pool/test/images/video-194_frame06_jpg.rf.354e6d362ed70553bd199e030ed6385c.jpg: 640x640 2 humans, 8.3ms\n",
      "image 131/284 /kaggle/input/all-human-with-pool/test/images/video-194_frame18_jpg.rf.85648d2615d7ba36d9fb234c97aaa966.jpg: 640x640 2 humans, 8.4ms\n",
      "image 132/284 /kaggle/input/all-human-with-pool/test/images/video-194_frame25_jpg.rf.fe234034bfa78dd089a4041c68afcf4a.jpg: 640x640 2 humans, 8.3ms\n",
      "image 133/284 /kaggle/input/all-human-with-pool/test/images/video-195_frame15_jpg.rf.14e674a91ac3d32f4e433d938031bcc3.jpg: 640x640 1 human, 8.3ms\n",
      "image 134/284 /kaggle/input/all-human-with-pool/test/images/video-196_frame21_jpg.rf.e78618e3d7dff461913898a488152f22.jpg: 640x640 2 humans, 8.4ms\n",
      "image 135/284 /kaggle/input/all-human-with-pool/test/images/video-196_frame25_jpg.rf.70ab1122cf960d70edc781a000150155.jpg: 640x640 2 humans, 8.3ms\n",
      "image 136/284 /kaggle/input/all-human-with-pool/test/images/video-197_frame21_jpg.rf.0a74342d7b196c9e58adafd6d99b05c0.jpg: 640x640 2 humans, 8.3ms\n",
      "image 137/284 /kaggle/input/all-human-with-pool/test/images/video-200_frame03_jpg.rf.01ef129f3531f45dcf83414332568a7f.jpg: 640x640 1 human, 8.4ms\n",
      "image 138/284 /kaggle/input/all-human-with-pool/test/images/video-202_frame07_jpg.rf.1a8d50017fe9201ad4063af9d638b730.jpg: 640x640 1 human, 8.4ms\n",
      "image 139/284 /kaggle/input/all-human-with-pool/test/images/video-204_frame14_jpg.rf.da915e8ce893227ec03f69ca7cf25529.jpg: 640x640 1 human, 8.3ms\n",
      "image 140/284 /kaggle/input/all-human-with-pool/test/images/video-204_frame21_jpg.rf.da309fe0c9c91a241cc72218eb2acd24.jpg: 640x640 1 human, 8.4ms\n",
      "image 141/284 /kaggle/input/all-human-with-pool/test/images/video-206_frame13_jpg.rf.93eb9a4b4b086fbb68ee7efb23bc8d6e.jpg: 640x640 1 human, 8.2ms\n",
      "image 142/284 /kaggle/input/all-human-with-pool/test/images/video-206_frame17_jpg.rf.6c2c32903848f887f187fa1fdb9d9814.jpg: 640x640 1 human, 8.3ms\n",
      "image 143/284 /kaggle/input/all-human-with-pool/test/images/video-208_frame15_jpg.rf.6df6c248e8a802116e7fb30f07572e56.jpg: 640x640 2 humans, 8.4ms\n",
      "image 144/284 /kaggle/input/all-human-with-pool/test/images/video-210_frame18_jpg.rf.3cc9520e648e56617e6296d27e212b96.jpg: 640x640 1 human, 8.6ms\n",
      "image 145/284 /kaggle/input/all-human-with-pool/test/images/video-211_frame01_jpg.rf.b58f64ad227e705b3f5d03ee62071fef.jpg: 640x640 1 human, 8.3ms\n",
      "image 146/284 /kaggle/input/all-human-with-pool/test/images/video-211_frame22_jpg.rf.03f6c1176ee113c9080a61b98916e2eb.jpg: 640x640 1 human, 8.3ms\n",
      "image 147/284 /kaggle/input/all-human-with-pool/test/images/video-211_frame24_jpg.rf.1754c4c2bbec5259730f524622a3ddd3.jpg: 640x640 1 human, 8.3ms\n",
      "image 148/284 /kaggle/input/all-human-with-pool/test/images/video-212_frame19_jpg.rf.da383ee2203c236ed5cd150fc2272690.jpg: 640x640 2 humans, 8.3ms\n",
      "image 149/284 /kaggle/input/all-human-with-pool/test/images/video-212_frame20_jpg.rf.523bffec2c2dc1ae3f7072cdf432657b.jpg: 640x640 2 humans, 8.3ms\n",
      "image 150/284 /kaggle/input/all-human-with-pool/test/images/video-214_frame15_jpg.rf.d276baedecc9a692ba7537f28317eb5a.jpg: 640x640 1 human, 8.3ms\n",
      "image 151/284 /kaggle/input/all-human-with-pool/test/images/video-214_frame17_jpg.rf.f31c0a3ef1f20ae9120d71d13912c850.jpg: 640x640 1 human, 8.3ms\n",
      "image 152/284 /kaggle/input/all-human-with-pool/test/images/video-215_frame14_jpg.rf.2c3dba5723a5fd000d93a1b1dba10829.jpg: 640x640 1 human, 8.3ms\n",
      "image 153/284 /kaggle/input/all-human-with-pool/test/images/video-215_frame18_jpg.rf.63e2975458d8697917bf4b5ad5189cda.jpg: 640x640 1 human, 8.3ms\n",
      "image 154/284 /kaggle/input/all-human-with-pool/test/images/video-216_frame20_jpg.rf.937f678eeabc29fc886339b93098ef60.jpg: 640x640 1 human, 8.4ms\n",
      "image 155/284 /kaggle/input/all-human-with-pool/test/images/video-219_frame03_jpg.rf.6e0708a333d934a6f55f96f9cb9d8ad6.jpg: 640x640 4 humans, 8.2ms\n",
      "image 156/284 /kaggle/input/all-human-with-pool/test/images/video-219_frame05_jpg.rf.aeadf6d26ebb2598a4feca1c60c40672.jpg: 640x640 5 humans, 8.3ms\n",
      "image 157/284 /kaggle/input/all-human-with-pool/test/images/video-219_frame09_jpg.rf.a7df876127bb66aa549f4078fbd0fd4d.jpg: 640x640 2 humans, 8.3ms\n",
      "image 158/284 /kaggle/input/all-human-with-pool/test/images/video-219_frame14_jpg.rf.fa1679a724a3a32fde4cd3f083e352d7.jpg: 640x640 3 humans, 8.3ms\n",
      "image 159/284 /kaggle/input/all-human-with-pool/test/images/video-219_frame16_jpg.rf.5002c56583dec55c6ab9e71f3377f8ff.jpg: 640x640 3 humans, 8.3ms\n",
      "image 160/284 /kaggle/input/all-human-with-pool/test/images/video-220_frame04_jpg.rf.39fb49c2ab2a8cab17015281a6a61a20.jpg: 640x640 2 humans, 8.3ms\n",
      "image 161/284 /kaggle/input/all-human-with-pool/test/images/video-220_frame16_jpg.rf.9e112093de139f13e97329e6957a7aa3.jpg: 640x640 1 human, 9.2ms\n",
      "image 162/284 /kaggle/input/all-human-with-pool/test/images/video-222_frame21_jpg.rf.928ac097dda0e6e875aed0bb3dbd42e5.jpg: 640x640 5 humans, 8.4ms\n",
      "image 163/284 /kaggle/input/all-human-with-pool/test/images/video-222_frame23_jpg.rf.003cda75a51d71f57762446ba0672398.jpg: 640x640 5 humans, 8.3ms\n",
      "image 164/284 /kaggle/input/all-human-with-pool/test/images/video-225_frame12_jpg.rf.1bc35c4a710a1fcfb2f2c0815207e55c.jpg: 640x640 2 humans, 8.4ms\n",
      "image 165/284 /kaggle/input/all-human-with-pool/test/images/video-225_frame16_jpg.rf.712bd0afc01fd74c059f3759bf0ee564.jpg: 640x640 2 humans, 8.4ms\n",
      "image 166/284 /kaggle/input/all-human-with-pool/test/images/video-226_frame19_jpg.rf.32e5b0a4abbf75f306aa064fa072f728.jpg: 640x640 2 humans, 8.2ms\n",
      "image 167/284 /kaggle/input/all-human-with-pool/test/images/video-227_frame06_jpg.rf.e857976d15f96b04cfa237432f1074f1.jpg: 640x640 1 human, 8.3ms\n",
      "image 168/284 /kaggle/input/all-human-with-pool/test/images/video-228_frame08_jpg.rf.13eaa90d848f97662b93518bb9a397f6.jpg: 640x640 2 humans, 8.2ms\n",
      "image 169/284 /kaggle/input/all-human-with-pool/test/images/video-229_frame03_jpg.rf.14753a36deb8f4767dfefa87d95d0653.jpg: 640x640 1 human, 8.3ms\n",
      "image 170/284 /kaggle/input/all-human-with-pool/test/images/video-229_frame13_jpg.rf.ea7ae7e1c9b313f10f39b17e49c12d7c.jpg: 640x640 1 human, 8.3ms\n",
      "image 171/284 /kaggle/input/all-human-with-pool/test/images/video-230_frame09_jpg.rf.c58071437febae03470d31ba29128a78.jpg: 640x640 1 human, 8.3ms\n",
      "image 172/284 /kaggle/input/all-human-with-pool/test/images/video-230_frame16_jpg.rf.085a0b40e2aca1a18f19b81d63c34e08.jpg: 640x640 1 human, 8.3ms\n",
      "image 173/284 /kaggle/input/all-human-with-pool/test/images/video-230_frame19_jpg.rf.a47960494000f1b0374d96bf29c24c16.jpg: 640x640 1 human, 8.3ms\n",
      "image 174/284 /kaggle/input/all-human-with-pool/test/images/video-230_frame21_jpg.rf.ef140669124f9738eebdc791be1110dc.jpg: 640x640 2 humans, 8.3ms\n",
      "image 175/284 /kaggle/input/all-human-with-pool/test/images/video-231_frame12_jpg.rf.236f293f1f3b9137fe8d284a2a4ff412.jpg: 640x640 1 human, 8.3ms\n",
      "image 176/284 /kaggle/input/all-human-with-pool/test/images/video-231_frame16_jpg.rf.7490d8bd9c0353d9bf1593944e92c2d2.jpg: 640x640 1 human, 8.4ms\n",
      "image 177/284 /kaggle/input/all-human-with-pool/test/images/video-231_frame24_jpg.rf.f9a611bd9100db3d3c54a9ef28011be3.jpg: 640x640 1 human, 8.4ms\n",
      "image 178/284 /kaggle/input/all-human-with-pool/test/images/video-233_frame01_jpg.rf.76d6e3de1626cb43dbf42da527b3f434.jpg: 640x640 2 humans, 8.3ms\n",
      "image 179/284 /kaggle/input/all-human-with-pool/test/images/video-233_frame17_jpg.rf.5e61598efe634a6d5a5ad1da6cd825e0.jpg: 640x640 2 humans, 8.4ms\n",
      "image 180/284 /kaggle/input/all-human-with-pool/test/images/video-235_frame13_jpg.rf.742ab51df8740d26896c4b357fe04631.jpg: 640x640 1 human, 8.3ms\n",
      "image 181/284 /kaggle/input/all-human-with-pool/test/images/video-236_frame14_jpg.rf.04050193977767d7472fe06c1649d8ff.jpg: 640x640 2 humans, 8.3ms\n",
      "image 182/284 /kaggle/input/all-human-with-pool/test/images/video-237_frame24_jpg.rf.51acab99e7dd9a7f0a5308c9df46ae22.jpg: 640x640 1 human, 8.3ms\n",
      "image 183/284 /kaggle/input/all-human-with-pool/test/images/video-238_frame18_jpg.rf.3dc3c0549a03cf8926b08ac48de28f2a.jpg: 640x640 1 human, 8.2ms\n",
      "image 184/284 /kaggle/input/all-human-with-pool/test/images/video-239_frame05_jpg.rf.29c136d33eaaa6aa9d9f98e3bc0ad6e8.jpg: 640x640 1 human, 8.4ms\n",
      "image 185/284 /kaggle/input/all-human-with-pool/test/images/video-239_frame06_jpg.rf.251bd59e4b0e4749f01203e887fb10a0.jpg: 640x640 1 human, 8.3ms\n",
      "image 186/284 /kaggle/input/all-human-with-pool/test/images/video-239_frame08_jpg.rf.ab27c02a02f2e7f2a198905036a37b19.jpg: 640x640 1 human, 8.3ms\n",
      "image 187/284 /kaggle/input/all-human-with-pool/test/images/video-239_frame24_jpg.rf.37cf368eecbc13bbc508022aefb333da.jpg: 640x640 1 human, 8.3ms\n",
      "image 188/284 /kaggle/input/all-human-with-pool/test/images/video-240_frame12_jpg.rf.99ce438b52f44c6ec6d56306ba4375ac.jpg: 640x640 1 human, 8.3ms\n",
      "image 189/284 /kaggle/input/all-human-with-pool/test/images/video-240_frame20_jpg.rf.1bed77392db41d8ced3ac5290c59c3e0.jpg: 640x640 1 human, 8.3ms\n",
      "image 190/284 /kaggle/input/all-human-with-pool/test/images/video-241_frame01_jpg.rf.13b6ae1d5d816c0cdd086b6c3d5ab639.jpg: 640x640 1 human, 8.3ms\n",
      "image 191/284 /kaggle/input/all-human-with-pool/test/images/video-241_frame02_jpg.rf.92a70412fb86e0e3e49a4743483ff768.jpg: 640x640 1 human, 8.4ms\n",
      "image 192/284 /kaggle/input/all-human-with-pool/test/images/video-243_frame10_jpg.rf.ee811b1b68ae950d83483ad5029b44a6.jpg: 640x640 1 human, 8.4ms\n",
      "image 193/284 /kaggle/input/all-human-with-pool/test/images/video-244_frame15_jpg.rf.fee0e6f276177c5f24cf67278e6b406d.jpg: 640x640 1 human, 8.3ms\n",
      "image 194/284 /kaggle/input/all-human-with-pool/test/images/video-244_frame16_jpg.rf.dc574ad4d3568943d95b5c6909e8b43e.jpg: 640x640 1 human, 8.4ms\n",
      "image 195/284 /kaggle/input/all-human-with-pool/test/images/video-245_frame11_jpg.rf.78daf8c61d5a5a53d3cc246a79f0df58.jpg: 640x640 1 human, 8.4ms\n",
      "image 196/284 /kaggle/input/all-human-with-pool/test/images/video-245_frame13_jpg.rf.f329b4a3c9d4ab948fa1ba14220af3af.jpg: 640x640 1 human, 8.4ms\n",
      "image 197/284 /kaggle/input/all-human-with-pool/test/images/video-246_frame08_jpg.rf.aff577355d552b48bd175941fbf5dd4f.jpg: 640x640 1 human, 8.4ms\n",
      "image 198/284 /kaggle/input/all-human-with-pool/test/images/video-249_frame13_jpg.rf.75aa3facfcd2837aa054d4a012718518.jpg: 640x640 1 human, 8.4ms\n",
      "image 199/284 /kaggle/input/all-human-with-pool/test/images/video-250_frame04_jpg.rf.18b1eb64a975c805dec1edb6fbc4fa49.jpg: 640x640 1 human, 8.3ms\n",
      "image 200/284 /kaggle/input/all-human-with-pool/test/images/video-250_frame06_jpg.rf.9b3f087727ed73ddae3de23be668ea18.jpg: 640x640 1 human, 8.3ms\n",
      "image 201/284 /kaggle/input/all-human-with-pool/test/images/video-250_frame12_jpg.rf.9cdf249b1fb8f0e5df6f861c7a81bce2.jpg: 640x640 2 humans, 8.5ms\n",
      "image 202/284 /kaggle/input/all-human-with-pool/test/images/video-251_frame02_jpg.rf.731bc2608df14ff444af02cc7b231514.jpg: 640x640 1 human, 8.2ms\n",
      "image 203/284 /kaggle/input/all-human-with-pool/test/images/video-251_frame06_jpg.rf.edf2005380bb87617619ee31bda71d80.jpg: 640x640 1 human, 8.3ms\n",
      "image 204/284 /kaggle/input/all-human-with-pool/test/images/video-252_frame11_jpg.rf.b12f5b29e79a278f20448cf9908c221c.jpg: 640x640 1 human, 8.3ms\n",
      "image 205/284 /kaggle/input/all-human-with-pool/test/images/video-253_frame10_jpg.rf.316b69204b1709c0c16f4caf83f03382.jpg: 640x640 2 humans, 8.3ms\n",
      "image 206/284 /kaggle/input/all-human-with-pool/test/images/video-254_frame13_jpg.rf.1978b54ba32b4b6f2650e486761a49fd.jpg: 640x640 1 human, 8.4ms\n",
      "image 207/284 /kaggle/input/all-human-with-pool/test/images/video-255_frame12_jpg.rf.c927279e8108542697fb95a150bd2511.jpg: 640x640 1 human, 8.2ms\n",
      "image 208/284 /kaggle/input/all-human-with-pool/test/images/video-255_frame15_jpg.rf.8f0691dfc86e34187dd7f9be70f516a7.jpg: 640x640 1 human, 8.3ms\n",
      "image 209/284 /kaggle/input/all-human-with-pool/test/images/video-256_frame02_jpg.rf.bb2749c4f27b3a17c3f2b409577c2feb.jpg: 640x640 1 human, 8.3ms\n",
      "image 210/284 /kaggle/input/all-human-with-pool/test/images/video-257_frame04_jpg.rf.aee4ed045cc1d6f75a33c24fa5831ba0.jpg: 640x640 1 human, 8.3ms\n",
      "image 211/284 /kaggle/input/all-human-with-pool/test/images/video-257_frame15_jpg.rf.ae06e3b77a4ab4f8ec2171aa018d7c69.jpg: 640x640 1 human, 10.3ms\n",
      "image 212/284 /kaggle/input/all-human-with-pool/test/images/video-2_frame04_jpg.rf.2892ab4b8cb7d1bf767fedeed4e44b5a.jpg: 640x640 1 human, 8.5ms\n",
      "image 213/284 /kaggle/input/all-human-with-pool/test/images/video-2_frame10_jpg.rf.ede11dfef6db1a8979c3f8c7c11e1170.jpg: 640x640 1 human, 12.1ms\n",
      "image 214/284 /kaggle/input/all-human-with-pool/test/images/video-32_frame01_jpg.rf.32f82368a56ac50306476e688beb61d2.jpg: 640x640 6 humans, 11.4ms\n",
      "image 215/284 /kaggle/input/all-human-with-pool/test/images/video-32_frame11_jpg.rf.68216d011a726cc032f98fd177d3b735.jpg: 640x640 5 humans, 8.3ms\n",
      "image 216/284 /kaggle/input/all-human-with-pool/test/images/video-32_frame13_jpg.rf.cb0c3d9e9c0dd4ec6bb8007f42e09855.jpg: 640x640 4 humans, 8.2ms\n",
      "image 217/284 /kaggle/input/all-human-with-pool/test/images/video-36_frame05_jpg.rf.51988e538c44fb0bdbca4c830a32f98a.jpg: 640x640 3 humans, 8.3ms\n",
      "image 218/284 /kaggle/input/all-human-with-pool/test/images/video-37_frame10_jpg.rf.db60b8b42255070321fb0f180523c8c2.jpg: 640x640 2 humans, 8.4ms\n",
      "image 219/284 /kaggle/input/all-human-with-pool/test/images/video-37_frame14_jpg.rf.c792e8b93e0dfda6765f70ca06ce46de.jpg: 640x640 2 humans, 8.3ms\n",
      "image 220/284 /kaggle/input/all-human-with-pool/test/images/video-38_frame03_jpg.rf.b47f9c492971e91f80271e66119d3900.jpg: 640x640 2 humans, 8.3ms\n",
      "image 221/284 /kaggle/input/all-human-with-pool/test/images/video-3_frame16_jpg.rf.c06f35d38d85b5f8afd15cc39f3ee622.jpg: 640x640 2 humans, 8.3ms\n",
      "image 222/284 /kaggle/input/all-human-with-pool/test/images/video-3_frame19_jpg.rf.a772c19c758e0b415f12319059f58960.jpg: 640x640 2 humans, 8.4ms\n",
      "image 223/284 /kaggle/input/all-human-with-pool/test/images/video-42_frame09_jpg.rf.70919ef9b0dd0db744f657cec1d6bd92.jpg: 640x640 6 humans, 8.4ms\n",
      "image 224/284 /kaggle/input/all-human-with-pool/test/images/video-47_frame05_jpg.rf.98e73400b1907d3fcf14147f45992246.jpg: 640x640 4 humans, 8.3ms\n",
      "image 225/284 /kaggle/input/all-human-with-pool/test/images/video-47_frame10_jpg.rf.b85e4867ef783c2c0726219eb4dc9c5e.jpg: 640x640 1 human, 8.4ms\n",
      "image 226/284 /kaggle/input/all-human-with-pool/test/images/video-48_frame01_jpg.rf.949157acbde495fef9e4f3be7231e4a8.jpg: 640x640 2 humans, 8.3ms\n",
      "image 227/284 /kaggle/input/all-human-with-pool/test/images/video-49_frame04_jpg.rf.d6d7054256ab29032f27ce7ff9242cc8.jpg: 640x640 6 humans, 8.2ms\n",
      "image 228/284 /kaggle/input/all-human-with-pool/test/images/video-49_frame19_jpg.rf.ef1e37372f11730852010101b62d0dc6.jpg: 640x640 6 humans, 8.2ms\n",
      "image 229/284 /kaggle/input/all-human-with-pool/test/images/video-51_frame08_jpg.rf.e0760d972e4170d0f784fd980f84ae2c.jpg: 640x640 2 humans, 8.3ms\n",
      "image 230/284 /kaggle/input/all-human-with-pool/test/images/video-52_frame14_jpg.rf.d0fbd6abea5d4b78add19a0269e1ebe6.jpg: 640x640 4 humans, 8.3ms\n",
      "image 231/284 /kaggle/input/all-human-with-pool/test/images/video-55_frame02_jpg.rf.e670ddf06e3d82f76778f83982b1b142.jpg: 640x640 6 humans, 8.3ms\n",
      "image 232/284 /kaggle/input/all-human-with-pool/test/images/video-55_frame05_jpg.rf.bebaef4d1434469b84029447adb4cf00.jpg: 640x640 6 humans, 8.2ms\n",
      "image 233/284 /kaggle/input/all-human-with-pool/test/images/video-55_frame24_jpg.rf.c35b04368c9a8ce2dedfeb9631e0ea68.jpg: 640x640 6 humans, 8.3ms\n",
      "image 234/284 /kaggle/input/all-human-with-pool/test/images/video-56_frame07_jpg.rf.f9212c17bfb17988c9d2bf2beee66152.jpg: 640x640 5 humans, 8.2ms\n",
      "image 235/284 /kaggle/input/all-human-with-pool/test/images/video-56_frame22_jpg.rf.b2ca199d8bc0b42582b0eb4f640d427f.jpg: 640x640 6 humans, 8.3ms\n",
      "image 236/284 /kaggle/input/all-human-with-pool/test/images/video-58_frame22_jpg.rf.38467885cd3d54c857e297e9c8ef07fb.jpg: 640x640 2 humans, 8.3ms\n",
      "image 237/284 /kaggle/input/all-human-with-pool/test/images/video-61_frame06_jpg.rf.0610377019c28b870f9a5e04894a12df.jpg: 640x640 1 human, 8.4ms\n",
      "image 238/284 /kaggle/input/all-human-with-pool/test/images/video-61_frame20_jpg.rf.b4c6bc50abc1c0a252ff6ca9aab6d077.jpg: 640x640 2 humans, 8.3ms\n",
      "image 239/284 /kaggle/input/all-human-with-pool/test/images/video-62_frame02_jpg.rf.eb9d70bde23c7f2528e526e6e78691ba.jpg: 640x640 1 human, 8.3ms\n",
      "image 240/284 /kaggle/input/all-human-with-pool/test/images/video-63_frame05_jpg.rf.8c0d8b3045b3cabb0be378b58b9f722d.jpg: 640x640 1 human, 8.3ms\n",
      "image 241/284 /kaggle/input/all-human-with-pool/test/images/video-69_frame09_jpg.rf.aab354a977a1e2a07b61c1150f6d6d5e.jpg: 640x640 2 humans, 8.4ms\n",
      "image 242/284 /kaggle/input/all-human-with-pool/test/images/video-69_frame20_jpg.rf.9f4dd55de137d0fbb6946edcba96ad93.jpg: 640x640 1 human, 8.3ms\n",
      "image 243/284 /kaggle/input/all-human-with-pool/test/images/video-69_frame24_jpg.rf.f495af179e9393ad2736cf706a1bc11e.jpg: 640x640 1 human, 8.4ms\n",
      "image 244/284 /kaggle/input/all-human-with-pool/test/images/video-6_frame07_jpg.rf.d8920a7e0e3574c36c3e84d0de338c72.jpg: 640x640 1 human, 8.3ms\n",
      "image 245/284 /kaggle/input/all-human-with-pool/test/images/video-70_frame12_jpg.rf.c48b21cda0f8056cc9d440ad56148015.jpg: 640x640 1 human, 8.3ms\n",
      "image 246/284 /kaggle/input/all-human-with-pool/test/images/video-72_frame03_jpg.rf.bbc62b92cd09c46341b68a50a4004b9e.jpg: 640x640 1 human, 8.3ms\n",
      "image 247/284 /kaggle/input/all-human-with-pool/test/images/video-72_frame08_jpg.rf.4a740dfe694d11b713835fc2a87a0c77.jpg: 640x640 1 human, 8.2ms\n",
      "image 248/284 /kaggle/input/all-human-with-pool/test/images/video-75_frame04_jpg.rf.7b0226be5d3697bcd981d63cc2b43fc1.jpg: 640x640 2 humans, 8.4ms\n",
      "image 249/284 /kaggle/input/all-human-with-pool/test/images/video-75_frame10_jpg.rf.4e5cd9087bcc2cbcdf4c4a4be3b268e6.jpg: 640x640 1 human, 8.3ms\n",
      "image 250/284 /kaggle/input/all-human-with-pool/test/images/video-78_frame06_jpg.rf.a51b34006d3d4344b61fcb9631cf2604.jpg: 640x640 2 humans, 8.3ms\n",
      "image 251/284 /kaggle/input/all-human-with-pool/test/images/video-78_frame15_jpg.rf.3b22c4e4e2cf2f0895e731915561046f.jpg: 640x640 2 humans, 8.3ms\n",
      "image 252/284 /kaggle/input/all-human-with-pool/test/images/video-78_frame16_jpg.rf.f4997db4be475a3b9858d70eab76376a.jpg: 640x640 2 humans, 8.4ms\n",
      "image 253/284 /kaggle/input/all-human-with-pool/test/images/video-79_frame06_jpg.rf.dfd4475f6c843d5c880ded26bc633134.jpg: 640x640 2 humans, 8.3ms\n",
      "image 254/284 /kaggle/input/all-human-with-pool/test/images/video-79_frame17_jpg.rf.0b8981429d63ff6b65bcb72704311b77.jpg: 640x640 1 human, 8.3ms\n",
      "image 255/284 /kaggle/input/all-human-with-pool/test/images/video-7_frame04_jpg.rf.35527ca732721632c937feba204c06a6.jpg: 640x640 1 human, 8.4ms\n",
      "image 256/284 /kaggle/input/all-human-with-pool/test/images/video-7_frame14_jpg.rf.63e099fca9ea6c30b1c84055d266b994.jpg: 640x640 1 human, 8.4ms\n",
      "image 257/284 /kaggle/input/all-human-with-pool/test/images/video-7_frame17_jpg.rf.a35799d13e1c576dce2a422b45381e67.jpg: 640x640 2 humans, 8.3ms\n",
      "image 258/284 /kaggle/input/all-human-with-pool/test/images/video-80_frame13_jpg.rf.90033859ff89b828fadff56a8b57a15e.jpg: 640x640 2 humans, 8.4ms\n",
      "image 259/284 /kaggle/input/all-human-with-pool/test/images/video-83_frame09_jpg.rf.f5028497238ccf9fee444cd02db231b7.jpg: 640x640 2 humans, 8.4ms\n",
      "image 260/284 /kaggle/input/all-human-with-pool/test/images/video-83_frame14_jpg.rf.3800f96f24732e6e94e53bd65d213573.jpg: 640x640 2 humans, 8.4ms\n",
      "image 261/284 /kaggle/input/all-human-with-pool/test/images/video-83_frame17_jpg.rf.074c2ca23b598c3fa38f402eed19a277.jpg: 640x640 2 humans, 8.4ms\n",
      "image 262/284 /kaggle/input/all-human-with-pool/test/images/video-84_frame01_jpg.rf.309e2c94e9c65ea4d0c5f35331555a9b.jpg: 640x640 1 human, 8.3ms\n",
      "image 263/284 /kaggle/input/all-human-with-pool/test/images/video-84_frame10_jpg.rf.3f4f94fcd653058bec9438d35f2e240b.jpg: 640x640 2 humans, 8.4ms\n",
      "image 264/284 /kaggle/input/all-human-with-pool/test/images/video-86_frame19_jpg.rf.c20d52204546fe09b08ac75a023935a7.jpg: 640x640 1 human, 8.3ms\n",
      "image 265/284 /kaggle/input/all-human-with-pool/test/images/video-87_frame09_jpg.rf.e7e54052d0e54efcb3ec21ba4efdeeed.jpg: 640x640 1 human, 8.3ms\n",
      "image 266/284 /kaggle/input/all-human-with-pool/test/images/video-87_frame18_jpg.rf.36d1202dd9653942906eafea17cda03f.jpg: 640x640 1 human, 8.3ms\n",
      "image 267/284 /kaggle/input/all-human-with-pool/test/images/video-88_frame10_jpg.rf.24ffaf459ef6857f0dd6b0fca13f229d.jpg: 640x640 1 human, 8.4ms\n",
      "image 268/284 /kaggle/input/all-human-with-pool/test/images/video-89_frame08_jpg.rf.7abae6d02c8d4035a960bcaf489a2528.jpg: 640x640 2 humans, 8.3ms\n",
      "image 269/284 /kaggle/input/all-human-with-pool/test/images/video-89_frame13_jpg.rf.bb311dc33c82a5ccc2d87488ebf8f8b9.jpg: 640x640 1 human, 8.3ms\n",
      "image 270/284 /kaggle/input/all-human-with-pool/test/images/video-89_frame19_jpg.rf.22ff79b83717c509ac48f52b28e56d97.jpg: 640x640 1 human, 8.4ms\n",
      "image 271/284 /kaggle/input/all-human-with-pool/test/images/video-8_frame10_jpg.rf.6b9514df6c309866290d873573910c42.jpg: 640x640 1 human, 8.2ms\n",
      "image 272/284 /kaggle/input/all-human-with-pool/test/images/video-90_frame04_jpg.rf.1aec3db905bc8550ab076ce0287ab28d.jpg: 640x640 1 human, 8.3ms\n",
      "image 273/284 /kaggle/input/all-human-with-pool/test/images/video-90_frame11_jpg.rf.904013ae27e264a3b40f316a094b486c.jpg: 640x640 2 humans, 8.4ms\n",
      "image 274/284 /kaggle/input/all-human-with-pool/test/images/video-91_frame04_jpg.rf.422ec40ccea708c2cd33d2314a3f19d7.jpg: 640x640 3 humans, 8.3ms\n",
      "image 275/284 /kaggle/input/all-human-with-pool/test/images/video-91_frame13_jpg.rf.892916137c35f32044c45ef4e25cc02d.jpg: 640x640 1 human, 8.3ms\n",
      "image 276/284 /kaggle/input/all-human-with-pool/test/images/video-92_frame02_jpg.rf.ef4dde865e14fd2e65f3b8f1596f1019.jpg: 640x640 1 human, 8.4ms\n",
      "image 277/284 /kaggle/input/all-human-with-pool/test/images/video-92_frame13_jpg.rf.8a749b5788835c2c62c2d44fa390ed10.jpg: 640x640 1 human, 8.2ms\n",
      "image 278/284 /kaggle/input/all-human-with-pool/test/images/video-92_frame14_jpg.rf.427f73e4c96a11b3ec60f97e534520d2.jpg: 640x640 1 human, 8.4ms\n",
      "image 279/284 /kaggle/input/all-human-with-pool/test/images/video-92_frame17_jpg.rf.72b0799a1b0f4670c347143312a8a2aa.jpg: 640x640 1 human, 9.2ms\n",
      "image 280/284 /kaggle/input/all-human-with-pool/test/images/video-92_frame22_jpg.rf.c1e6303df7af220e3b5669b66967cc1e.jpg: 640x640 1 human, 8.4ms\n",
      "image 281/284 /kaggle/input/all-human-with-pool/test/images/video-93_frame17_jpg.rf.7aeffb82bae9ad8055563172695dab7b.jpg: 640x640 2 humans, 8.4ms\n",
      "image 282/284 /kaggle/input/all-human-with-pool/test/images/video-9_frame23_jpg.rf.eca80a6c0503e7ebd89b555b94d74521.jpg: 640x640 2 humans, 8.3ms\n",
      "image 283/284 /kaggle/input/all-human-with-pool/test/images/wDTg_14_jpg.rf.eeaf17b12ae9ffc1184573fea6c95769.jpg: 640x640 7 humans, 8.2ms\n",
      "image 284/284 /kaggle/input/all-human-with-pool/test/images/wDTg_15_jpg.rf.2d9c4c55eb31b30433c18bb50aa9e148.jpg: 640x640 3 humans, 8.4ms\n",
      "Speed: 2.0ms preprocess, 8.4ms inference, 1.0ms postprocess per image at shape (1, 3, 640, 640)\n",
      "Results saved to \u001b[1mruns/detect/predict\u001b[0m\n"
     ]
    }
   ],
   "source": [
    "\n",
    "fine_tuned_model = YOLO('runs/detect/train/weights/best.pt')\n",
    "metrics = fine_tuned_model.val(data='/kaggle/working/data.yaml', split='test')\n",
    "results = fine_tuned_model.predict(source='/kaggle/input/all-human-with-pool/test/images', save=True)\n"
   ]
  },
  {
   "cell_type": "code",
   "execution_count": 9,
   "metadata": {
    "execution": {
     "iopub.execute_input": "2025-04-15T08:01:17.218620Z",
     "iopub.status.busy": "2025-04-15T08:01:17.218366Z",
     "iopub.status.idle": "2025-04-15T08:01:22.397436Z",
     "shell.execute_reply": "2025-04-15T08:01:22.396850Z",
     "shell.execute_reply.started": "2025-04-15T08:01:17.218597Z"
    },
    "trusted": true
   },
   "outputs": [
    {
     "name": "stdout",
     "output_type": "stream",
     "text": [
      "\n",
      "image 1/284 /kaggle/input/all-human-with-pool/test/images/0KVc_11_png_jpg.rf.80f3d84c7025b4efddbbcfbb414a8d1a.jpg: 640x640 1 human, 8.6ms\n",
      "image 2/284 /kaggle/input/all-human-with-pool/test/images/0KVc_1_png_jpg.rf.d11526b77ecce7a368876cf172131280.jpg: 640x640 1 human, 8.3ms\n",
      "image 3/284 /kaggle/input/all-human-with-pool/test/images/0KVc_22_png_jpg.rf.c69bef42ad4ffce6b23ffe8a0ba50b0b.jpg: 640x640 4 humans, 8.3ms\n",
      "image 4/284 /kaggle/input/all-human-with-pool/test/images/0KVc_23_png_jpg.rf.bd436029de5768439aee75c85b25372b.jpg: 640x640 3 humans, 8.3ms\n",
      "image 5/284 /kaggle/input/all-human-with-pool/test/images/0KVc_25_png_jpg.rf.0c060acd035c110d984cc2065fe6e814.jpg: 640x640 2 humans, 8.4ms\n",
      "image 6/284 /kaggle/input/all-human-with-pool/test/images/0KVc_3_png_jpg.rf.0d8121edaa6d4678c6370449b483c087.jpg: 640x640 1 human, 8.3ms\n",
      "image 7/284 /kaggle/input/all-human-with-pool/test/images/0KVc_4_png_jpg.rf.1f278ca44f787603f10fab443d744f02.jpg: 640x640 1 human, 8.3ms\n",
      "image 8/284 /kaggle/input/all-human-with-pool/test/images/0KVc_7_png_jpg.rf.2a9b7d864b7272b48b2723c67bf3d542.jpg: 640x640 1 human, 8.3ms\n",
      "image 9/284 /kaggle/input/all-human-with-pool/test/images/0KVc_8_png_jpg.rf.6efade6f1b11bdb334e326ecfb3ca12f.jpg: 640x640 1 human, 8.3ms\n",
      "image 10/284 /kaggle/input/all-human-with-pool/test/images/3o2Q_14_png_jpg.rf.96dbc098187d3fca32f9480e475211b6.jpg: 640x640 2 humans, 8.3ms\n",
      "image 11/284 /kaggle/input/all-human-with-pool/test/images/3o2Q_17_png_jpg.rf.312ade87534ed7ee656270e89665ea86.jpg: 640x640 1 human, 8.3ms\n",
      "image 12/284 /kaggle/input/all-human-with-pool/test/images/3o2Q_1_png_jpg.rf.8aded7ed4a3f878bcad2262f677fceab.jpg: 640x640 1 human, 8.3ms\n",
      "image 13/284 /kaggle/input/all-human-with-pool/test/images/3o2Q_23_png_jpg.rf.c3a96ace372db923e5d47374e38ca283.jpg: 640x640 1 human, 8.4ms\n",
      "image 14/284 /kaggle/input/all-human-with-pool/test/images/3o2Q_30_png_jpg.rf.d14e232500aab0d7276549c107a778da.jpg: 640x640 1 human, 8.3ms\n",
      "image 15/284 /kaggle/input/all-human-with-pool/test/images/3o2Q_31_png_jpg.rf.5e02323ed97944fcfb9a1d8e3a894120.jpg: 640x640 1 human, 8.4ms\n",
      "image 16/284 /kaggle/input/all-human-with-pool/test/images/3o2Q_36_png_jpg.rf.bc22af5a1b4b95dd505c57d1a5f84c2c.jpg: 640x640 5 humans, 8.4ms\n",
      "image 17/284 /kaggle/input/all-human-with-pool/test/images/3o2Q_39_png_jpg.rf.cd5f8547045059dbd6495549b73ae615.jpg: 640x640 5 humans, 8.3ms\n",
      "image 18/284 /kaggle/input/all-human-with-pool/test/images/3o2Q_43_png_jpg.rf.a0d1e30155da971e3a9ad11a2d2cee66.jpg: 640x640 3 humans, 8.3ms\n",
      "image 19/284 /kaggle/input/all-human-with-pool/test/images/3o2Q_44_png_jpg.rf.da7359eb6a7f7583bc51c3a00c26f4c1.jpg: 640x640 3 humans, 8.3ms\n",
      "image 20/284 /kaggle/input/all-human-with-pool/test/images/3o2Q_8_png_jpg.rf.cdb46dabebe09164c2b2814ed2f1bbc9.jpg: 640x640 5 humans, 8.2ms\n",
      "image 21/284 /kaggle/input/all-human-with-pool/test/images/8acg_12_jpg.rf.56cedcf6303095f6baaba5d418bf8516.jpg: 640x640 1 human, 8.4ms\n",
      "image 22/284 /kaggle/input/all-human-with-pool/test/images/8acg_13_jpg.rf.b752e4fcf09599562d41f3317227a461.jpg: 640x640 1 human, 8.2ms\n",
      "image 23/284 /kaggle/input/all-human-with-pool/test/images/8acg_20_jpg.rf.83aa390c45a23f223ba81b5f7eb20e0f.jpg: 640x640 1 human, 8.3ms\n",
      "image 24/284 /kaggle/input/all-human-with-pool/test/images/8acg_21_jpg.rf.1baf6acafaeda984fb5f85a0c1715229.jpg: 640x640 1 human, 8.3ms\n",
      "image 25/284 /kaggle/input/all-human-with-pool/test/images/8acg_22_jpg.rf.ec15b45755a7b8b68bd20e8d13fc8f4e.jpg: 640x640 1 human, 8.4ms\n",
      "image 26/284 /kaggle/input/all-human-with-pool/test/images/8acg_26_jpg.rf.d07f0cf8dc10241819842cc8a6213eb3.jpg: 640x640 1 human, 8.4ms\n",
      "image 27/284 /kaggle/input/all-human-with-pool/test/images/8acg_31_jpg.rf.0fa0da327168bde406ea5966ba338431.jpg: 640x640 4 humans, 8.3ms\n",
      "image 28/284 /kaggle/input/all-human-with-pool/test/images/8acg_35_jpg.rf.b249f9132f41358cbb48dbfa0614801a.jpg: 640x640 3 humans, 8.3ms\n",
      "image 29/284 /kaggle/input/all-human-with-pool/test/images/8acg_6_jpg.rf.3e98d8bf8ed9ab1a643f50e837ab0c42.jpg: 640x640 2 humans, 8.4ms\n",
      "image 30/284 /kaggle/input/all-human-with-pool/test/images/Sharkcut-Realisee-avec-Clipchamp_mp4-14_jpg.rf.415789147e996e1a021db59e5f87693d.jpg: 640x640 1 human, 8.3ms\n",
      "image 31/284 /kaggle/input/all-human-with-pool/test/images/Sharkcut-Realisee-avec-Clipchamp_mp4-14_jpg.rf.eb2cac6222f604fe25660ceff6b7aa33.jpg: 640x640 1 human, 8.3ms\n",
      "image 32/284 /kaggle/input/all-human-with-pool/test/images/Sharkcut-Realisee-avec-Clipchamp_mp4-17_jpg.rf.02cd5b6bf0971de1cf9a7e2b8a4d5e41.jpg: 640x640 1 human, 8.4ms\n",
      "image 33/284 /kaggle/input/all-human-with-pool/test/images/Sharkcut-Realisee-avec-Clipchamp_mp4-28_jpg.rf.4fb7b3a7d08567a5d752189f77846c7c.jpg: 640x640 5 humans, 8.3ms\n",
      "image 34/284 /kaggle/input/all-human-with-pool/test/images/Sharkcut-Realisee-avec-Clipchamp_mp4-30_jpg.rf.a6ca9318649c2a7a2514b9cfa6d79ca6.jpg: 640x640 1 human, 8.3ms\n",
      "image 35/284 /kaggle/input/all-human-with-pool/test/images/Sharkcut-Realisee-avec-Clipchamp_mp4-32_jpg.rf.1fac8af710d27733a7348e9483a285ca.jpg: 640x640 1 human, 8.3ms\n",
      "image 36/284 /kaggle/input/all-human-with-pool/test/images/Sharkcut-Realisee-avec-Clipchamp_mp4-34_jpg.rf.1cb6d44745b27cca7f0a8ceb4401c039.jpg: 640x640 2 humans, 8.3ms\n",
      "image 37/284 /kaggle/input/all-human-with-pool/test/images/Sharkcut-Realisee-avec-Clipchamp_mp4-35_jpg.rf.8630c97ad1fce0538da763cc0e21cf5a.jpg: 640x640 2 humans, 8.3ms\n",
      "image 38/284 /kaggle/input/all-human-with-pool/test/images/Sharkcut-Realisee-avec-Clipchamp_mp4-35_jpg.rf.e17afce1adf2907a068e46246edcf088.jpg: 640x640 2 humans, 8.3ms\n",
      "image 39/284 /kaggle/input/all-human-with-pool/test/images/Sharkcut-Realisee-avec-Clipchamp_mp4-36_jpg.rf.d1d955c830b3150ef2f3b22f2c04a2c5.jpg: 640x640 2 humans, 8.3ms\n",
      "image 40/284 /kaggle/input/all-human-with-pool/test/images/Sharkcut-Realisee-avec-Clipchamp_mp4-37_jpg.rf.756b839fbaa9b451c3abcd2c3d5e9cdc.jpg: 640x640 2 humans, 8.3ms\n",
      "image 41/284 /kaggle/input/all-human-with-pool/test/images/Sharkcut-Realisee-avec-Clipchamp_mp4-37_jpg.rf.99ca6e509ae040d3b244a17144d92225.jpg: 640x640 2 humans, 8.3ms\n",
      "image 42/284 /kaggle/input/all-human-with-pool/test/images/Sharkcut-Realisee-avec-Clipchamp_mp4-40_jpg.rf.905decfa1f7058a502b2b18cd92e212c.jpg: 640x640 1 human, 8.4ms\n",
      "image 43/284 /kaggle/input/all-human-with-pool/test/images/Sharkcut-Realisee-avec-Clipchamp_mp4-43_jpg.rf.4eb007cfea463891379640ba115f776d.jpg: 640x640 1 human, 8.3ms\n",
      "image 44/284 /kaggle/input/all-human-with-pool/test/images/Sharkcut-Realisee-avec-Clipchamp_mp4-45_jpg.rf.1cec36ccfb2a49ea42d0bfda9290bc65.jpg: 640x640 1 human, 8.3ms\n",
      "image 45/284 /kaggle/input/all-human-with-pool/test/images/Sharkcut-Realisee-avec-Clipchamp_mp4-45_jpg.rf.8a1565d717827ad571cf892879dc2d2d.jpg: 640x640 1 human, 8.3ms\n",
      "image 46/284 /kaggle/input/all-human-with-pool/test/images/Sharkcut-Realisee-avec-Clipchamp_mp4-45_jpg.rf.ae502d42e1b1a6bf7e08cc47b93efdf0.jpg: 640x640 1 human, 8.2ms\n",
      "image 47/284 /kaggle/input/all-human-with-pool/test/images/Sharkcut-Realisee-avec-Clipchamp_mp4-54_jpg.rf.4ac535ecad7090dc16119a32f5a6404a.jpg: 640x640 2 humans, 8.4ms\n",
      "image 48/284 /kaggle/input/all-human-with-pool/test/images/Sharkcut-Realisee-avec-Clipchamp_mp4-55_jpg.rf.044166f8fd04bb3ee373b78c668b9aa3.jpg: 640x640 2 humans, 9.0ms\n",
      "image 49/284 /kaggle/input/all-human-with-pool/test/images/Sharkcut-Realisee-avec-Clipchamp_mp4-62_jpg.rf.a2a7c1fdbd920366c95ac68bff3667d6.jpg: 640x640 1 human, 8.4ms\n",
      "image 50/284 /kaggle/input/all-human-with-pool/test/images/Sharkcut-Realisee-avec-Clipchamp_mp4-68_jpg.rf.710566b27d4795ef0a4d72e569b8e5d6.jpg: 640x640 2 humans, 8.2ms\n",
      "image 51/284 /kaggle/input/all-human-with-pool/test/images/Sharkcut-Realisee-avec-Clipchamp_mp4-7_jpg.rf.d9b4bcc4ad70982f81bb50802c2fc47a.jpg: 640x640 2 humans, 8.3ms\n",
      "image 52/284 /kaggle/input/all-human-with-pool/test/images/Sharkcut-Realisee-avec-Clipchamp_mp4-7_jpg.rf.f697bd9ec27995c8ffe6b00755c1fe52.jpg: 640x640 2 humans, 8.3ms\n",
      "image 53/284 /kaggle/input/all-human-with-pool/test/images/Sharkcut-Realisee-avec-Clipchamp_mp4-8_jpg.rf.e1392a9b0d63b3cd05d9dd12fb4b4a43.jpg: 640x640 1 human, 8.3ms\n",
      "image 54/284 /kaggle/input/all-human-with-pool/test/images/UOUI_10_jpg.rf.727f05949cee6188c2827871cfd7c0a0.jpg: 640x640 4 humans, 8.3ms\n",
      "image 55/284 /kaggle/input/all-human-with-pool/test/images/UOUI_12_jpg.rf.51e8f45abed2d952c493d301bdaac0e6.jpg: 640x640 4 humans, 8.3ms\n",
      "image 56/284 /kaggle/input/all-human-with-pool/test/images/UOUI_15_jpg.rf.d352c4cd49f77a7de5a698c836e34452.jpg: 640x640 4 humans, 8.3ms\n",
      "image 57/284 /kaggle/input/all-human-with-pool/test/images/UOUI_3_jpg.rf.e378e3060e53d586b95a9a2f21cdf1e3.jpg: 640x640 2 humans, 8.7ms\n",
      "image 58/284 /kaggle/input/all-human-with-pool/test/images/_4Fw_15_jpg.rf.07e0921682132a3328e6ad56bd0fdf04.jpg: 640x640 1 human, 8.3ms\n",
      "image 59/284 /kaggle/input/all-human-with-pool/test/images/_4Fw_15_jpg.rf.1e0160b035ecb8440ba94a641c8f838b.jpg: 640x640 1 human, 8.2ms\n",
      "image 60/284 /kaggle/input/all-human-with-pool/test/images/_4Fw_18_jpg.rf.612eb7b92699730926223cf9ac1ddc50.jpg: 640x640 1 human, 8.3ms\n",
      "image 61/284 /kaggle/input/all-human-with-pool/test/images/_4Fw_24_jpg.rf.eb67e2a649341c70fab547a487406968.jpg: 640x640 1 human, 8.3ms\n",
      "image 62/284 /kaggle/input/all-human-with-pool/test/images/_4Fw_25_jpg.rf.026d348472088ec8644fd63ddc7257ca.jpg: 640x640 1 human, 8.4ms\n",
      "image 63/284 /kaggle/input/all-human-with-pool/test/images/_4Fw_26_jpg.rf.cbdb0d32d367b02cd2f96cfe523a7098.jpg: 640x640 2 humans, 8.3ms\n",
      "image 64/284 /kaggle/input/all-human-with-pool/test/images/_4Fw_26_jpg.rf.d17af90f5a77ed4f59593167fd0b2120.jpg: 640x640 1 human, 8.3ms\n",
      "image 65/284 /kaggle/input/all-human-with-pool/test/images/_4Fw_29_jpg.rf.1c4469c4fad10db6fb325545fcb6b7e3.jpg: 640x640 1 human, 8.4ms\n",
      "image 66/284 /kaggle/input/all-human-with-pool/test/images/_4Fw_30_jpg.rf.81acc045343a66d323ead5392b1673df.jpg: 640x640 1 human, 8.3ms\n",
      "image 67/284 /kaggle/input/all-human-with-pool/test/images/_4Fw_30_jpg.rf.a3ba038b24de8361b3f3d11be0da3278.jpg: 640x640 1 human, 8.3ms\n",
      "image 68/284 /kaggle/input/all-human-with-pool/test/images/_4Fw_31_jpg.rf.370c651a7c57fd44e38e078075868183.jpg: 640x640 1 human, 8.2ms\n",
      "image 69/284 /kaggle/input/all-human-with-pool/test/images/_4Fw_32_jpg.rf.f3182a8fd57d8f3e18ad21248790929a.jpg: 640x640 1 human, 8.3ms\n",
      "image 70/284 /kaggle/input/all-human-with-pool/test/images/_4Fw_7_jpg.rf.9fc04047afd2a8d6db1cee4b3052778b.jpg: 640x640 2 humans, 8.2ms\n",
      "image 71/284 /kaggle/input/all-human-with-pool/test/images/pnic_2_jpg.rf.b18389e246cb70f78eee6d9f2e9855d7.jpg: 640x640 1 human, 8.2ms\n",
      "image 72/284 /kaggle/input/all-human-with-pool/test/images/sBj8_11_png_jpg.rf.162a6dcea27d4daa8dc27fd703e2e3c1.jpg: 640x640 3 humans, 8.3ms\n",
      "image 73/284 /kaggle/input/all-human-with-pool/test/images/sBj8_11_png_jpg.rf.77e588b56388f3cf80360120cb92a2e0.jpg: 640x640 2 humans, 8.3ms\n",
      "image 74/284 /kaggle/input/all-human-with-pool/test/images/sBj8_14_png_jpg.rf.4fc0f36a46b4c782397418ab7a1c054a.jpg: 640x640 4 humans, 8.2ms\n",
      "image 75/284 /kaggle/input/all-human-with-pool/test/images/sBj8_17_png_jpg.rf.eadf37da2f63ff3a3c0a56a0718e5a63.jpg: 640x640 2 humans, 8.3ms\n",
      "image 76/284 /kaggle/input/all-human-with-pool/test/images/sBj8_23_png_jpg.rf.ceb5c06ae698cc17b4fbd18c0538d4d8.jpg: 640x640 4 humans, 8.3ms\n",
      "image 77/284 /kaggle/input/all-human-with-pool/test/images/sBj8_25_png_jpg.rf.47cde5db24109f23b2f4a6adfb89d286.jpg: 640x640 3 humans, 8.3ms\n",
      "image 78/284 /kaggle/input/all-human-with-pool/test/images/sBj8_42_png_jpg.rf.4558c654d1bdf2a29add588639c8b39c.jpg: 640x640 3 humans, 8.2ms\n",
      "image 79/284 /kaggle/input/all-human-with-pool/test/images/sBj8_48_png_jpg.rf.4acbfbe0bdd3e2d53dd6043a381d63fd.jpg: 640x640 3 humans, 8.3ms\n",
      "image 80/284 /kaggle/input/all-human-with-pool/test/images/sBj8_5_png_jpg.rf.bae53970ddc73fa59631f957b6b5c51f.jpg: 640x640 2 humans, 8.3ms\n",
      "image 81/284 /kaggle/input/all-human-with-pool/test/images/sBj8_6_png_jpg.rf.d0b7080b98bdc6ffc982e91c0d004bc3.jpg: 640x640 2 humans, 8.3ms\n",
      "image 82/284 /kaggle/input/all-human-with-pool/test/images/sCiU_11_jpg.rf.6e0a13c5240c4acf5892c2a284802301.jpg: 640x640 3 humans, 8.4ms\n",
      "image 83/284 /kaggle/input/all-human-with-pool/test/images/sCiU_15_jpg.rf.0c5b276334519442e23d22ba63ff5eb1.jpg: 640x640 3 humans, 8.3ms\n",
      "image 84/284 /kaggle/input/all-human-with-pool/test/images/sCiU_16_jpg.rf.029a92f78a4742ec0f3f2c5aa1fc1c9d.jpg: 640x640 3 humans, 8.3ms\n",
      "image 85/284 /kaggle/input/all-human-with-pool/test/images/sCiU_19_jpg.rf.84153d001f3c2272c52d457fb5f8950f.jpg: 640x640 1 human, 8.3ms\n",
      "image 86/284 /kaggle/input/all-human-with-pool/test/images/sCiU_22_jpg.rf.e790a73a6e4e967e5b3ded1a8384387b.jpg: 640x640 1 human, 8.3ms\n",
      "image 87/284 /kaggle/input/all-human-with-pool/test/images/sCiU_24_jpg.rf.fbc9cad15221e3946aec012873804a17.jpg: 640x640 1 human, 8.3ms\n",
      "image 88/284 /kaggle/input/all-human-with-pool/test/images/sCiU_25_jpg.rf.19581bfa9a50cce7c2d816839f4784b1.jpg: 640x640 1 human, 8.3ms\n",
      "image 89/284 /kaggle/input/all-human-with-pool/test/images/sCiU_27_jpg.rf.9848f0c46506d342b382877452b0ef36.jpg: 640x640 1 human, 8.3ms\n",
      "image 90/284 /kaggle/input/all-human-with-pool/test/images/sCiU_8_jpg.rf.aaa1f1875f07ec4167cc259aa196d226.jpg: 640x640 1 human, 8.3ms\n",
      "image 91/284 /kaggle/input/all-human-with-pool/test/images/sCiU_8_jpg.rf.f35f79670129d37f4477ca72b63bb615.jpg: 640x640 1 human, 8.4ms\n",
      "image 92/284 /kaggle/input/all-human-with-pool/test/images/sCiU_9_jpg.rf.5b75ee3154893f26836267f05be83055.jpg: 640x640 3 humans, 8.3ms\n",
      "image 93/284 /kaggle/input/all-human-with-pool/test/images/video-127_frame03_jpg.rf.3e237ff8471784a054f70f96a5285156.jpg: 640x640 1 human, 8.3ms\n",
      "image 94/284 /kaggle/input/all-human-with-pool/test/images/video-128_frame03_jpg.rf.1e0f07abcbadd91cc5deaec2b29e9433.jpg: 640x640 2 humans, 8.3ms\n",
      "image 95/284 /kaggle/input/all-human-with-pool/test/images/video-128_frame07_jpg.rf.d3648b7a18e8fd962bfee96d530fefa7.jpg: 640x640 1 human, 8.5ms\n",
      "image 96/284 /kaggle/input/all-human-with-pool/test/images/video-128_frame10_jpg.rf.771c3b63bd2bc8883d2605ad572c5aee.jpg: 640x640 2 humans, 8.4ms\n",
      "image 97/284 /kaggle/input/all-human-with-pool/test/images/video-128_frame19_jpg.rf.f84786cc06d905a7a3f7bce873103759.jpg: 640x640 2 humans, 8.5ms\n",
      "image 98/284 /kaggle/input/all-human-with-pool/test/images/video-128_frame23_jpg.rf.772d84aba5ca989d8f9f3824aab8d77e.jpg: 640x640 1 human, 8.2ms\n",
      "image 99/284 /kaggle/input/all-human-with-pool/test/images/video-129_frame02_jpg.rf.c11ab8fd3e1dacee705a9afec0b11ae7.jpg: 640x640 1 human, 8.4ms\n",
      "image 100/284 /kaggle/input/all-human-with-pool/test/images/video-12_frame08_jpg.rf.ce099f6faf7efcef9fe293dfe0c5bfc8.jpg: 640x640 2 humans, 8.2ms\n",
      "image 101/284 /kaggle/input/all-human-with-pool/test/images/video-131_frame01_jpg.rf.03636466c22e2109b474b209ed979ae2.jpg: 640x640 1 human, 8.3ms\n",
      "image 102/284 /kaggle/input/all-human-with-pool/test/images/video-134_frame01_jpg.rf.e8e02d162af017ba39843b37da665a9c.jpg: 640x640 2 humans, 8.3ms\n",
      "image 103/284 /kaggle/input/all-human-with-pool/test/images/video-137_frame10_jpg.rf.90bde2e2662462d752e08c1a3bd250ed.jpg: 640x640 1 human, 8.4ms\n",
      "image 104/284 /kaggle/input/all-human-with-pool/test/images/video-13_frame08_jpg.rf.aaf4191953c1f485e5ef678d558ccca7.jpg: 640x640 3 humans, 8.3ms\n",
      "image 105/284 /kaggle/input/all-human-with-pool/test/images/video-13_frame24_jpg.rf.e25cc8747bcedbd338cfeffd9d60b1bc.jpg: 640x640 4 humans, 8.2ms\n",
      "image 106/284 /kaggle/input/all-human-with-pool/test/images/video-140_frame13_jpg.rf.0b340a52d49e94c6ea0783bc6dd29546.jpg: 640x640 1 human, 8.3ms\n",
      "image 107/284 /kaggle/input/all-human-with-pool/test/images/video-142_frame14_jpg.rf.7677f367c1c6e86c377c1c76632c04f7.jpg: 640x640 1 human, 8.2ms\n",
      "image 108/284 /kaggle/input/all-human-with-pool/test/images/video-143_frame08_jpg.rf.2a11be61280b3fb21121b905c1bcf47c.jpg: 640x640 6 humans, 8.3ms\n",
      "image 109/284 /kaggle/input/all-human-with-pool/test/images/video-146_frame20_jpg.rf.ef5e7b5000d66d8189d14c5e581612fa.jpg: 640x640 1 human, 8.4ms\n",
      "image 110/284 /kaggle/input/all-human-with-pool/test/images/video-14_frame13_jpg.rf.0e08396b81ae48e709c73e51df281077.jpg: 640x640 1 human, 8.4ms\n",
      "image 111/284 /kaggle/input/all-human-with-pool/test/images/video-14_frame17_jpg.rf.1f5a4fd0e1e9597b3be38284b104e20a.jpg: 640x640 1 human, 8.3ms\n",
      "image 112/284 /kaggle/input/all-human-with-pool/test/images/video-152_frame12_jpg.rf.42f5bfe8303048eb16889d16d33b8055.jpg: 640x640 1 human, 8.3ms\n",
      "image 113/284 /kaggle/input/all-human-with-pool/test/images/video-152_frame25_jpg.rf.bb1b1dedaf90bb10ecae5141dab3b12a.jpg: 640x640 3 humans, 8.3ms\n",
      "image 114/284 /kaggle/input/all-human-with-pool/test/images/video-155_frame03_jpg.rf.ab8b82cbde394ef0cdd76b03b1e5ee22.jpg: 640x640 2 humans, 8.3ms\n",
      "image 115/284 /kaggle/input/all-human-with-pool/test/images/video-158_frame17_jpg.rf.677fb6c209302aed21d203aad8f35fc7.jpg: 640x640 2 humans, 8.4ms\n",
      "image 116/284 /kaggle/input/all-human-with-pool/test/images/video-169_frame14_jpg.rf.aba23de0e71b975d7afb27bc7c638145.jpg: 640x640 1 human, 8.3ms\n",
      "image 117/284 /kaggle/input/all-human-with-pool/test/images/video-182_frame17_jpg.rf.8aaaf434a9469771a8a22f4b2b942cc3.jpg: 640x640 2 humans, 8.3ms\n",
      "image 118/284 /kaggle/input/all-human-with-pool/test/images/video-183_frame20_jpg.rf.a9d8b75eb365aaba2ddbfb08d03f457d.jpg: 640x640 2 humans, 8.3ms\n",
      "image 119/284 /kaggle/input/all-human-with-pool/test/images/video-183_frame21_jpg.rf.9697126ba094b20b39db174abde3cb18.jpg: 640x640 1 human, 8.3ms\n",
      "image 120/284 /kaggle/input/all-human-with-pool/test/images/video-183_frame23_jpg.rf.6e4ae9e7d04cdb44da070f807f42d38b.jpg: 640x640 4 humans, 8.2ms\n",
      "image 121/284 /kaggle/input/all-human-with-pool/test/images/video-184_frame20_jpg.rf.e6c0d39164444b68189fc7fcfb26b837.jpg: 640x640 2 humans, 8.3ms\n",
      "image 122/284 /kaggle/input/all-human-with-pool/test/images/video-185_frame13_jpg.rf.5b7be5737d6de4a9daa8ae5379e44337.jpg: 640x640 2 humans, 8.2ms\n",
      "image 123/284 /kaggle/input/all-human-with-pool/test/images/video-190_frame20_jpg.rf.0bd11160f2b7c7e2a928bad131466e91.jpg: 640x640 2 humans, 8.3ms\n",
      "image 124/284 /kaggle/input/all-human-with-pool/test/images/video-190_frame24_jpg.rf.b0e342da631845d8d4fa93f9ebee3fb8.jpg: 640x640 2 humans, 8.4ms\n",
      "image 125/284 /kaggle/input/all-human-with-pool/test/images/video-191_frame09_jpg.rf.477e383e09846128316686d05abccf51.jpg: 640x640 2 humans, 8.3ms\n",
      "image 126/284 /kaggle/input/all-human-with-pool/test/images/video-191_frame15_jpg.rf.42ef893fc4164323780c2d09d6b9ad59.jpg: 640x640 2 humans, 8.3ms\n",
      "image 127/284 /kaggle/input/all-human-with-pool/test/images/video-191_frame16_jpg.rf.371122e1d68704bb68a59e41b0086021.jpg: 640x640 1 human, 8.3ms\n",
      "image 128/284 /kaggle/input/all-human-with-pool/test/images/video-191_frame19_jpg.rf.09aea515f6eaa9d760e467197822359d.jpg: 640x640 2 humans, 8.3ms\n",
      "image 129/284 /kaggle/input/all-human-with-pool/test/images/video-193_frame19_jpg.rf.7f28dd4a490940626460401b8755007f.jpg: 640x640 1 human, 8.3ms\n",
      "image 130/284 /kaggle/input/all-human-with-pool/test/images/video-194_frame06_jpg.rf.354e6d362ed70553bd199e030ed6385c.jpg: 640x640 2 humans, 8.2ms\n",
      "image 131/284 /kaggle/input/all-human-with-pool/test/images/video-194_frame18_jpg.rf.85648d2615d7ba36d9fb234c97aaa966.jpg: 640x640 2 humans, 8.3ms\n",
      "image 132/284 /kaggle/input/all-human-with-pool/test/images/video-194_frame25_jpg.rf.fe234034bfa78dd089a4041c68afcf4a.jpg: 640x640 2 humans, 8.3ms\n",
      "image 133/284 /kaggle/input/all-human-with-pool/test/images/video-195_frame15_jpg.rf.14e674a91ac3d32f4e433d938031bcc3.jpg: 640x640 1 human, 8.3ms\n",
      "image 134/284 /kaggle/input/all-human-with-pool/test/images/video-196_frame21_jpg.rf.e78618e3d7dff461913898a488152f22.jpg: 640x640 2 humans, 8.3ms\n",
      "image 135/284 /kaggle/input/all-human-with-pool/test/images/video-196_frame25_jpg.rf.70ab1122cf960d70edc781a000150155.jpg: 640x640 2 humans, 8.3ms\n",
      "image 136/284 /kaggle/input/all-human-with-pool/test/images/video-197_frame21_jpg.rf.0a74342d7b196c9e58adafd6d99b05c0.jpg: 640x640 2 humans, 8.2ms\n",
      "image 137/284 /kaggle/input/all-human-with-pool/test/images/video-200_frame03_jpg.rf.01ef129f3531f45dcf83414332568a7f.jpg: 640x640 1 human, 8.3ms\n",
      "image 138/284 /kaggle/input/all-human-with-pool/test/images/video-202_frame07_jpg.rf.1a8d50017fe9201ad4063af9d638b730.jpg: 640x640 1 human, 8.3ms\n",
      "image 139/284 /kaggle/input/all-human-with-pool/test/images/video-204_frame14_jpg.rf.da915e8ce893227ec03f69ca7cf25529.jpg: 640x640 1 human, 8.2ms\n",
      "image 140/284 /kaggle/input/all-human-with-pool/test/images/video-204_frame21_jpg.rf.da309fe0c9c91a241cc72218eb2acd24.jpg: 640x640 1 human, 8.3ms\n",
      "image 141/284 /kaggle/input/all-human-with-pool/test/images/video-206_frame13_jpg.rf.93eb9a4b4b086fbb68ee7efb23bc8d6e.jpg: 640x640 1 human, 8.3ms\n",
      "image 142/284 /kaggle/input/all-human-with-pool/test/images/video-206_frame17_jpg.rf.6c2c32903848f887f187fa1fdb9d9814.jpg: 640x640 1 human, 8.2ms\n",
      "image 143/284 /kaggle/input/all-human-with-pool/test/images/video-208_frame15_jpg.rf.6df6c248e8a802116e7fb30f07572e56.jpg: 640x640 2 humans, 8.2ms\n",
      "image 144/284 /kaggle/input/all-human-with-pool/test/images/video-210_frame18_jpg.rf.3cc9520e648e56617e6296d27e212b96.jpg: 640x640 1 human, 8.3ms\n",
      "image 145/284 /kaggle/input/all-human-with-pool/test/images/video-211_frame01_jpg.rf.b58f64ad227e705b3f5d03ee62071fef.jpg: 640x640 1 human, 8.3ms\n",
      "image 146/284 /kaggle/input/all-human-with-pool/test/images/video-211_frame22_jpg.rf.03f6c1176ee113c9080a61b98916e2eb.jpg: 640x640 1 human, 8.3ms\n",
      "image 147/284 /kaggle/input/all-human-with-pool/test/images/video-211_frame24_jpg.rf.1754c4c2bbec5259730f524622a3ddd3.jpg: 640x640 1 human, 8.4ms\n",
      "image 148/284 /kaggle/input/all-human-with-pool/test/images/video-212_frame19_jpg.rf.da383ee2203c236ed5cd150fc2272690.jpg: 640x640 2 humans, 8.4ms\n",
      "image 149/284 /kaggle/input/all-human-with-pool/test/images/video-212_frame20_jpg.rf.523bffec2c2dc1ae3f7072cdf432657b.jpg: 640x640 2 humans, 8.3ms\n",
      "image 150/284 /kaggle/input/all-human-with-pool/test/images/video-214_frame15_jpg.rf.d276baedecc9a692ba7537f28317eb5a.jpg: 640x640 1 human, 8.4ms\n",
      "image 151/284 /kaggle/input/all-human-with-pool/test/images/video-214_frame17_jpg.rf.f31c0a3ef1f20ae9120d71d13912c850.jpg: 640x640 1 human, 8.3ms\n",
      "image 152/284 /kaggle/input/all-human-with-pool/test/images/video-215_frame14_jpg.rf.2c3dba5723a5fd000d93a1b1dba10829.jpg: 640x640 1 human, 8.3ms\n",
      "image 153/284 /kaggle/input/all-human-with-pool/test/images/video-215_frame18_jpg.rf.63e2975458d8697917bf4b5ad5189cda.jpg: 640x640 1 human, 8.3ms\n",
      "image 154/284 /kaggle/input/all-human-with-pool/test/images/video-216_frame20_jpg.rf.937f678eeabc29fc886339b93098ef60.jpg: 640x640 1 human, 8.3ms\n",
      "image 155/284 /kaggle/input/all-human-with-pool/test/images/video-219_frame03_jpg.rf.6e0708a333d934a6f55f96f9cb9d8ad6.jpg: 640x640 4 humans, 8.3ms\n",
      "image 156/284 /kaggle/input/all-human-with-pool/test/images/video-219_frame05_jpg.rf.aeadf6d26ebb2598a4feca1c60c40672.jpg: 640x640 5 humans, 8.4ms\n",
      "image 157/284 /kaggle/input/all-human-with-pool/test/images/video-219_frame09_jpg.rf.a7df876127bb66aa549f4078fbd0fd4d.jpg: 640x640 2 humans, 8.2ms\n",
      "image 158/284 /kaggle/input/all-human-with-pool/test/images/video-219_frame14_jpg.rf.fa1679a724a3a32fde4cd3f083e352d7.jpg: 640x640 3 humans, 8.3ms\n",
      "image 159/284 /kaggle/input/all-human-with-pool/test/images/video-219_frame16_jpg.rf.5002c56583dec55c6ab9e71f3377f8ff.jpg: 640x640 3 humans, 8.3ms\n",
      "image 160/284 /kaggle/input/all-human-with-pool/test/images/video-220_frame04_jpg.rf.39fb49c2ab2a8cab17015281a6a61a20.jpg: 640x640 2 humans, 8.3ms\n",
      "image 161/284 /kaggle/input/all-human-with-pool/test/images/video-220_frame16_jpg.rf.9e112093de139f13e97329e6957a7aa3.jpg: 640x640 1 human, 8.2ms\n",
      "image 162/284 /kaggle/input/all-human-with-pool/test/images/video-222_frame21_jpg.rf.928ac097dda0e6e875aed0bb3dbd42e5.jpg: 640x640 5 humans, 8.2ms\n",
      "image 163/284 /kaggle/input/all-human-with-pool/test/images/video-222_frame23_jpg.rf.003cda75a51d71f57762446ba0672398.jpg: 640x640 5 humans, 8.3ms\n",
      "image 164/284 /kaggle/input/all-human-with-pool/test/images/video-225_frame12_jpg.rf.1bc35c4a710a1fcfb2f2c0815207e55c.jpg: 640x640 2 humans, 8.4ms\n",
      "image 165/284 /kaggle/input/all-human-with-pool/test/images/video-225_frame16_jpg.rf.712bd0afc01fd74c059f3759bf0ee564.jpg: 640x640 2 humans, 8.4ms\n",
      "image 166/284 /kaggle/input/all-human-with-pool/test/images/video-226_frame19_jpg.rf.32e5b0a4abbf75f306aa064fa072f728.jpg: 640x640 2 humans, 8.3ms\n",
      "image 167/284 /kaggle/input/all-human-with-pool/test/images/video-227_frame06_jpg.rf.e857976d15f96b04cfa237432f1074f1.jpg: 640x640 1 human, 8.4ms\n",
      "image 168/284 /kaggle/input/all-human-with-pool/test/images/video-228_frame08_jpg.rf.13eaa90d848f97662b93518bb9a397f6.jpg: 640x640 2 humans, 8.3ms\n",
      "image 169/284 /kaggle/input/all-human-with-pool/test/images/video-229_frame03_jpg.rf.14753a36deb8f4767dfefa87d95d0653.jpg: 640x640 1 human, 8.3ms\n",
      "image 170/284 /kaggle/input/all-human-with-pool/test/images/video-229_frame13_jpg.rf.ea7ae7e1c9b313f10f39b17e49c12d7c.jpg: 640x640 1 human, 8.3ms\n",
      "image 171/284 /kaggle/input/all-human-with-pool/test/images/video-230_frame09_jpg.rf.c58071437febae03470d31ba29128a78.jpg: 640x640 1 human, 8.4ms\n",
      "image 172/284 /kaggle/input/all-human-with-pool/test/images/video-230_frame16_jpg.rf.085a0b40e2aca1a18f19b81d63c34e08.jpg: 640x640 1 human, 8.3ms\n",
      "image 173/284 /kaggle/input/all-human-with-pool/test/images/video-230_frame19_jpg.rf.a47960494000f1b0374d96bf29c24c16.jpg: 640x640 1 human, 8.3ms\n",
      "image 174/284 /kaggle/input/all-human-with-pool/test/images/video-230_frame21_jpg.rf.ef140669124f9738eebdc791be1110dc.jpg: 640x640 2 humans, 8.3ms\n",
      "image 175/284 /kaggle/input/all-human-with-pool/test/images/video-231_frame12_jpg.rf.236f293f1f3b9137fe8d284a2a4ff412.jpg: 640x640 1 human, 8.2ms\n",
      "image 176/284 /kaggle/input/all-human-with-pool/test/images/video-231_frame16_jpg.rf.7490d8bd9c0353d9bf1593944e92c2d2.jpg: 640x640 1 human, 8.2ms\n",
      "image 177/284 /kaggle/input/all-human-with-pool/test/images/video-231_frame24_jpg.rf.f9a611bd9100db3d3c54a9ef28011be3.jpg: 640x640 1 human, 8.2ms\n",
      "image 178/284 /kaggle/input/all-human-with-pool/test/images/video-233_frame01_jpg.rf.76d6e3de1626cb43dbf42da527b3f434.jpg: 640x640 2 humans, 8.3ms\n",
      "image 179/284 /kaggle/input/all-human-with-pool/test/images/video-233_frame17_jpg.rf.5e61598efe634a6d5a5ad1da6cd825e0.jpg: 640x640 2 humans, 8.3ms\n",
      "image 180/284 /kaggle/input/all-human-with-pool/test/images/video-235_frame13_jpg.rf.742ab51df8740d26896c4b357fe04631.jpg: 640x640 1 human, 8.3ms\n",
      "image 181/284 /kaggle/input/all-human-with-pool/test/images/video-236_frame14_jpg.rf.04050193977767d7472fe06c1649d8ff.jpg: 640x640 2 humans, 8.3ms\n",
      "image 182/284 /kaggle/input/all-human-with-pool/test/images/video-237_frame24_jpg.rf.51acab99e7dd9a7f0a5308c9df46ae22.jpg: 640x640 1 human, 8.2ms\n",
      "image 183/284 /kaggle/input/all-human-with-pool/test/images/video-238_frame18_jpg.rf.3dc3c0549a03cf8926b08ac48de28f2a.jpg: 640x640 1 human, 8.3ms\n",
      "image 184/284 /kaggle/input/all-human-with-pool/test/images/video-239_frame05_jpg.rf.29c136d33eaaa6aa9d9f98e3bc0ad6e8.jpg: 640x640 1 human, 8.4ms\n",
      "image 185/284 /kaggle/input/all-human-with-pool/test/images/video-239_frame06_jpg.rf.251bd59e4b0e4749f01203e887fb10a0.jpg: 640x640 1 human, 8.3ms\n",
      "image 186/284 /kaggle/input/all-human-with-pool/test/images/video-239_frame08_jpg.rf.ab27c02a02f2e7f2a198905036a37b19.jpg: 640x640 1 human, 8.3ms\n",
      "image 187/284 /kaggle/input/all-human-with-pool/test/images/video-239_frame24_jpg.rf.37cf368eecbc13bbc508022aefb333da.jpg: 640x640 1 human, 8.4ms\n",
      "image 188/284 /kaggle/input/all-human-with-pool/test/images/video-240_frame12_jpg.rf.99ce438b52f44c6ec6d56306ba4375ac.jpg: 640x640 1 human, 8.3ms\n",
      "image 189/284 /kaggle/input/all-human-with-pool/test/images/video-240_frame20_jpg.rf.1bed77392db41d8ced3ac5290c59c3e0.jpg: 640x640 1 human, 8.3ms\n",
      "image 190/284 /kaggle/input/all-human-with-pool/test/images/video-241_frame01_jpg.rf.13b6ae1d5d816c0cdd086b6c3d5ab639.jpg: 640x640 1 human, 8.3ms\n",
      "image 191/284 /kaggle/input/all-human-with-pool/test/images/video-241_frame02_jpg.rf.92a70412fb86e0e3e49a4743483ff768.jpg: 640x640 1 human, 8.3ms\n",
      "image 192/284 /kaggle/input/all-human-with-pool/test/images/video-243_frame10_jpg.rf.ee811b1b68ae950d83483ad5029b44a6.jpg: 640x640 1 human, 8.4ms\n",
      "image 193/284 /kaggle/input/all-human-with-pool/test/images/video-244_frame15_jpg.rf.fee0e6f276177c5f24cf67278e6b406d.jpg: 640x640 1 human, 8.3ms\n",
      "image 194/284 /kaggle/input/all-human-with-pool/test/images/video-244_frame16_jpg.rf.dc574ad4d3568943d95b5c6909e8b43e.jpg: 640x640 1 human, 8.3ms\n",
      "image 195/284 /kaggle/input/all-human-with-pool/test/images/video-245_frame11_jpg.rf.78daf8c61d5a5a53d3cc246a79f0df58.jpg: 640x640 1 human, 8.4ms\n",
      "image 196/284 /kaggle/input/all-human-with-pool/test/images/video-245_frame13_jpg.rf.f329b4a3c9d4ab948fa1ba14220af3af.jpg: 640x640 1 human, 8.3ms\n",
      "image 197/284 /kaggle/input/all-human-with-pool/test/images/video-246_frame08_jpg.rf.aff577355d552b48bd175941fbf5dd4f.jpg: 640x640 1 human, 8.3ms\n",
      "image 198/284 /kaggle/input/all-human-with-pool/test/images/video-249_frame13_jpg.rf.75aa3facfcd2837aa054d4a012718518.jpg: 640x640 1 human, 8.4ms\n",
      "image 199/284 /kaggle/input/all-human-with-pool/test/images/video-250_frame04_jpg.rf.18b1eb64a975c805dec1edb6fbc4fa49.jpg: 640x640 1 human, 8.3ms\n",
      "image 200/284 /kaggle/input/all-human-with-pool/test/images/video-250_frame06_jpg.rf.9b3f087727ed73ddae3de23be668ea18.jpg: 640x640 1 human, 8.3ms\n",
      "image 201/284 /kaggle/input/all-human-with-pool/test/images/video-250_frame12_jpg.rf.9cdf249b1fb8f0e5df6f861c7a81bce2.jpg: 640x640 2 humans, 8.4ms\n",
      "image 202/284 /kaggle/input/all-human-with-pool/test/images/video-251_frame02_jpg.rf.731bc2608df14ff444af02cc7b231514.jpg: 640x640 1 human, 8.3ms\n",
      "image 203/284 /kaggle/input/all-human-with-pool/test/images/video-251_frame06_jpg.rf.edf2005380bb87617619ee31bda71d80.jpg: 640x640 1 human, 8.3ms\n",
      "image 204/284 /kaggle/input/all-human-with-pool/test/images/video-252_frame11_jpg.rf.b12f5b29e79a278f20448cf9908c221c.jpg: 640x640 1 human, 8.3ms\n",
      "image 205/284 /kaggle/input/all-human-with-pool/test/images/video-253_frame10_jpg.rf.316b69204b1709c0c16f4caf83f03382.jpg: 640x640 2 humans, 8.3ms\n",
      "image 206/284 /kaggle/input/all-human-with-pool/test/images/video-254_frame13_jpg.rf.1978b54ba32b4b6f2650e486761a49fd.jpg: 640x640 1 human, 8.4ms\n",
      "image 207/284 /kaggle/input/all-human-with-pool/test/images/video-255_frame12_jpg.rf.c927279e8108542697fb95a150bd2511.jpg: 640x640 1 human, 8.3ms\n",
      "image 208/284 /kaggle/input/all-human-with-pool/test/images/video-255_frame15_jpg.rf.8f0691dfc86e34187dd7f9be70f516a7.jpg: 640x640 1 human, 8.3ms\n",
      "image 209/284 /kaggle/input/all-human-with-pool/test/images/video-256_frame02_jpg.rf.bb2749c4f27b3a17c3f2b409577c2feb.jpg: 640x640 1 human, 8.3ms\n",
      "image 210/284 /kaggle/input/all-human-with-pool/test/images/video-257_frame04_jpg.rf.aee4ed045cc1d6f75a33c24fa5831ba0.jpg: 640x640 1 human, 8.3ms\n",
      "image 211/284 /kaggle/input/all-human-with-pool/test/images/video-257_frame15_jpg.rf.ae06e3b77a4ab4f8ec2171aa018d7c69.jpg: 640x640 1 human, 8.3ms\n",
      "image 212/284 /kaggle/input/all-human-with-pool/test/images/video-2_frame04_jpg.rf.2892ab4b8cb7d1bf767fedeed4e44b5a.jpg: 640x640 1 human, 8.3ms\n",
      "image 213/284 /kaggle/input/all-human-with-pool/test/images/video-2_frame10_jpg.rf.ede11dfef6db1a8979c3f8c7c11e1170.jpg: 640x640 1 human, 8.4ms\n",
      "image 214/284 /kaggle/input/all-human-with-pool/test/images/video-32_frame01_jpg.rf.32f82368a56ac50306476e688beb61d2.jpg: 640x640 6 humans, 8.3ms\n",
      "image 215/284 /kaggle/input/all-human-with-pool/test/images/video-32_frame11_jpg.rf.68216d011a726cc032f98fd177d3b735.jpg: 640x640 5 humans, 8.2ms\n",
      "image 216/284 /kaggle/input/all-human-with-pool/test/images/video-32_frame13_jpg.rf.cb0c3d9e9c0dd4ec6bb8007f42e09855.jpg: 640x640 4 humans, 8.2ms\n",
      "image 217/284 /kaggle/input/all-human-with-pool/test/images/video-36_frame05_jpg.rf.51988e538c44fb0bdbca4c830a32f98a.jpg: 640x640 3 humans, 8.2ms\n",
      "image 218/284 /kaggle/input/all-human-with-pool/test/images/video-37_frame10_jpg.rf.db60b8b42255070321fb0f180523c8c2.jpg: 640x640 2 humans, 8.3ms\n",
      "image 219/284 /kaggle/input/all-human-with-pool/test/images/video-37_frame14_jpg.rf.c792e8b93e0dfda6765f70ca06ce46de.jpg: 640x640 2 humans, 8.3ms\n",
      "image 220/284 /kaggle/input/all-human-with-pool/test/images/video-38_frame03_jpg.rf.b47f9c492971e91f80271e66119d3900.jpg: 640x640 2 humans, 8.4ms\n",
      "image 221/284 /kaggle/input/all-human-with-pool/test/images/video-3_frame16_jpg.rf.c06f35d38d85b5f8afd15cc39f3ee622.jpg: 640x640 2 humans, 8.3ms\n",
      "image 222/284 /kaggle/input/all-human-with-pool/test/images/video-3_frame19_jpg.rf.a772c19c758e0b415f12319059f58960.jpg: 640x640 2 humans, 8.4ms\n",
      "image 223/284 /kaggle/input/all-human-with-pool/test/images/video-42_frame09_jpg.rf.70919ef9b0dd0db744f657cec1d6bd92.jpg: 640x640 6 humans, 8.4ms\n",
      "image 224/284 /kaggle/input/all-human-with-pool/test/images/video-47_frame05_jpg.rf.98e73400b1907d3fcf14147f45992246.jpg: 640x640 4 humans, 8.3ms\n",
      "image 225/284 /kaggle/input/all-human-with-pool/test/images/video-47_frame10_jpg.rf.b85e4867ef783c2c0726219eb4dc9c5e.jpg: 640x640 1 human, 8.2ms\n",
      "image 226/284 /kaggle/input/all-human-with-pool/test/images/video-48_frame01_jpg.rf.949157acbde495fef9e4f3be7231e4a8.jpg: 640x640 2 humans, 8.3ms\n",
      "image 227/284 /kaggle/input/all-human-with-pool/test/images/video-49_frame04_jpg.rf.d6d7054256ab29032f27ce7ff9242cc8.jpg: 640x640 6 humans, 8.4ms\n",
      "image 228/284 /kaggle/input/all-human-with-pool/test/images/video-49_frame19_jpg.rf.ef1e37372f11730852010101b62d0dc6.jpg: 640x640 6 humans, 8.4ms\n",
      "image 229/284 /kaggle/input/all-human-with-pool/test/images/video-51_frame08_jpg.rf.e0760d972e4170d0f784fd980f84ae2c.jpg: 640x640 2 humans, 8.4ms\n",
      "image 230/284 /kaggle/input/all-human-with-pool/test/images/video-52_frame14_jpg.rf.d0fbd6abea5d4b78add19a0269e1ebe6.jpg: 640x640 4 humans, 8.3ms\n",
      "image 231/284 /kaggle/input/all-human-with-pool/test/images/video-55_frame02_jpg.rf.e670ddf06e3d82f76778f83982b1b142.jpg: 640x640 6 humans, 8.3ms\n",
      "image 232/284 /kaggle/input/all-human-with-pool/test/images/video-55_frame05_jpg.rf.bebaef4d1434469b84029447adb4cf00.jpg: 640x640 6 humans, 8.3ms\n",
      "image 233/284 /kaggle/input/all-human-with-pool/test/images/video-55_frame24_jpg.rf.c35b04368c9a8ce2dedfeb9631e0ea68.jpg: 640x640 6 humans, 8.4ms\n",
      "image 234/284 /kaggle/input/all-human-with-pool/test/images/video-56_frame07_jpg.rf.f9212c17bfb17988c9d2bf2beee66152.jpg: 640x640 5 humans, 8.2ms\n",
      "image 235/284 /kaggle/input/all-human-with-pool/test/images/video-56_frame22_jpg.rf.b2ca199d8bc0b42582b0eb4f640d427f.jpg: 640x640 6 humans, 8.3ms\n",
      "image 236/284 /kaggle/input/all-human-with-pool/test/images/video-58_frame22_jpg.rf.38467885cd3d54c857e297e9c8ef07fb.jpg: 640x640 2 humans, 8.3ms\n",
      "image 237/284 /kaggle/input/all-human-with-pool/test/images/video-61_frame06_jpg.rf.0610377019c28b870f9a5e04894a12df.jpg: 640x640 1 human, 8.4ms\n",
      "image 238/284 /kaggle/input/all-human-with-pool/test/images/video-61_frame20_jpg.rf.b4c6bc50abc1c0a252ff6ca9aab6d077.jpg: 640x640 2 humans, 8.2ms\n",
      "image 239/284 /kaggle/input/all-human-with-pool/test/images/video-62_frame02_jpg.rf.eb9d70bde23c7f2528e526e6e78691ba.jpg: 640x640 1 human, 8.3ms\n",
      "image 240/284 /kaggle/input/all-human-with-pool/test/images/video-63_frame05_jpg.rf.8c0d8b3045b3cabb0be378b58b9f722d.jpg: 640x640 1 human, 8.4ms\n",
      "image 241/284 /kaggle/input/all-human-with-pool/test/images/video-69_frame09_jpg.rf.aab354a977a1e2a07b61c1150f6d6d5e.jpg: 640x640 2 humans, 8.3ms\n",
      "image 242/284 /kaggle/input/all-human-with-pool/test/images/video-69_frame20_jpg.rf.9f4dd55de137d0fbb6946edcba96ad93.jpg: 640x640 1 human, 8.3ms\n",
      "image 243/284 /kaggle/input/all-human-with-pool/test/images/video-69_frame24_jpg.rf.f495af179e9393ad2736cf706a1bc11e.jpg: 640x640 1 human, 8.4ms\n",
      "image 244/284 /kaggle/input/all-human-with-pool/test/images/video-6_frame07_jpg.rf.d8920a7e0e3574c36c3e84d0de338c72.jpg: 640x640 1 human, 8.3ms\n",
      "image 245/284 /kaggle/input/all-human-with-pool/test/images/video-70_frame12_jpg.rf.c48b21cda0f8056cc9d440ad56148015.jpg: 640x640 1 human, 8.3ms\n",
      "image 246/284 /kaggle/input/all-human-with-pool/test/images/video-72_frame03_jpg.rf.bbc62b92cd09c46341b68a50a4004b9e.jpg: 640x640 1 human, 8.3ms\n",
      "image 247/284 /kaggle/input/all-human-with-pool/test/images/video-72_frame08_jpg.rf.4a740dfe694d11b713835fc2a87a0c77.jpg: 640x640 1 human, 8.4ms\n",
      "image 248/284 /kaggle/input/all-human-with-pool/test/images/video-75_frame04_jpg.rf.7b0226be5d3697bcd981d63cc2b43fc1.jpg: 640x640 2 humans, 8.3ms\n",
      "image 249/284 /kaggle/input/all-human-with-pool/test/images/video-75_frame10_jpg.rf.4e5cd9087bcc2cbcdf4c4a4be3b268e6.jpg: 640x640 1 human, 8.3ms\n",
      "image 250/284 /kaggle/input/all-human-with-pool/test/images/video-78_frame06_jpg.rf.a51b34006d3d4344b61fcb9631cf2604.jpg: 640x640 2 humans, 8.3ms\n",
      "image 251/284 /kaggle/input/all-human-with-pool/test/images/video-78_frame15_jpg.rf.3b22c4e4e2cf2f0895e731915561046f.jpg: 640x640 2 humans, 8.4ms\n",
      "image 252/284 /kaggle/input/all-human-with-pool/test/images/video-78_frame16_jpg.rf.f4997db4be475a3b9858d70eab76376a.jpg: 640x640 2 humans, 8.2ms\n",
      "image 253/284 /kaggle/input/all-human-with-pool/test/images/video-79_frame06_jpg.rf.dfd4475f6c843d5c880ded26bc633134.jpg: 640x640 2 humans, 8.3ms\n",
      "image 254/284 /kaggle/input/all-human-with-pool/test/images/video-79_frame17_jpg.rf.0b8981429d63ff6b65bcb72704311b77.jpg: 640x640 1 human, 8.7ms\n",
      "image 255/284 /kaggle/input/all-human-with-pool/test/images/video-7_frame04_jpg.rf.35527ca732721632c937feba204c06a6.jpg: 640x640 1 human, 8.7ms\n",
      "image 256/284 /kaggle/input/all-human-with-pool/test/images/video-7_frame14_jpg.rf.63e099fca9ea6c30b1c84055d266b994.jpg: 640x640 1 human, 8.3ms\n",
      "image 257/284 /kaggle/input/all-human-with-pool/test/images/video-7_frame17_jpg.rf.a35799d13e1c576dce2a422b45381e67.jpg: 640x640 2 humans, 8.3ms\n",
      "image 258/284 /kaggle/input/all-human-with-pool/test/images/video-80_frame13_jpg.rf.90033859ff89b828fadff56a8b57a15e.jpg: 640x640 2 humans, 8.3ms\n",
      "image 259/284 /kaggle/input/all-human-with-pool/test/images/video-83_frame09_jpg.rf.f5028497238ccf9fee444cd02db231b7.jpg: 640x640 2 humans, 8.3ms\n",
      "image 260/284 /kaggle/input/all-human-with-pool/test/images/video-83_frame14_jpg.rf.3800f96f24732e6e94e53bd65d213573.jpg: 640x640 2 humans, 8.3ms\n",
      "image 261/284 /kaggle/input/all-human-with-pool/test/images/video-83_frame17_jpg.rf.074c2ca23b598c3fa38f402eed19a277.jpg: 640x640 2 humans, 8.3ms\n",
      "image 262/284 /kaggle/input/all-human-with-pool/test/images/video-84_frame01_jpg.rf.309e2c94e9c65ea4d0c5f35331555a9b.jpg: 640x640 1 human, 8.3ms\n",
      "image 263/284 /kaggle/input/all-human-with-pool/test/images/video-84_frame10_jpg.rf.3f4f94fcd653058bec9438d35f2e240b.jpg: 640x640 2 humans, 8.3ms\n",
      "image 264/284 /kaggle/input/all-human-with-pool/test/images/video-86_frame19_jpg.rf.c20d52204546fe09b08ac75a023935a7.jpg: 640x640 1 human, 8.2ms\n",
      "image 265/284 /kaggle/input/all-human-with-pool/test/images/video-87_frame09_jpg.rf.e7e54052d0e54efcb3ec21ba4efdeeed.jpg: 640x640 1 human, 8.4ms\n",
      "image 266/284 /kaggle/input/all-human-with-pool/test/images/video-87_frame18_jpg.rf.36d1202dd9653942906eafea17cda03f.jpg: 640x640 1 human, 8.3ms\n",
      "image 267/284 /kaggle/input/all-human-with-pool/test/images/video-88_frame10_jpg.rf.24ffaf459ef6857f0dd6b0fca13f229d.jpg: 640x640 1 human, 8.3ms\n",
      "image 268/284 /kaggle/input/all-human-with-pool/test/images/video-89_frame08_jpg.rf.7abae6d02c8d4035a960bcaf489a2528.jpg: 640x640 2 humans, 8.3ms\n",
      "image 269/284 /kaggle/input/all-human-with-pool/test/images/video-89_frame13_jpg.rf.bb311dc33c82a5ccc2d87488ebf8f8b9.jpg: 640x640 1 human, 8.2ms\n",
      "image 270/284 /kaggle/input/all-human-with-pool/test/images/video-89_frame19_jpg.rf.22ff79b83717c509ac48f52b28e56d97.jpg: 640x640 1 human, 9.2ms\n",
      "image 271/284 /kaggle/input/all-human-with-pool/test/images/video-8_frame10_jpg.rf.6b9514df6c309866290d873573910c42.jpg: 640x640 1 human, 8.2ms\n",
      "image 272/284 /kaggle/input/all-human-with-pool/test/images/video-90_frame04_jpg.rf.1aec3db905bc8550ab076ce0287ab28d.jpg: 640x640 1 human, 8.4ms\n",
      "image 273/284 /kaggle/input/all-human-with-pool/test/images/video-90_frame11_jpg.rf.904013ae27e264a3b40f316a094b486c.jpg: 640x640 2 humans, 8.4ms\n",
      "image 274/284 /kaggle/input/all-human-with-pool/test/images/video-91_frame04_jpg.rf.422ec40ccea708c2cd33d2314a3f19d7.jpg: 640x640 3 humans, 8.3ms\n",
      "image 275/284 /kaggle/input/all-human-with-pool/test/images/video-91_frame13_jpg.rf.892916137c35f32044c45ef4e25cc02d.jpg: 640x640 1 human, 8.3ms\n",
      "image 276/284 /kaggle/input/all-human-with-pool/test/images/video-92_frame02_jpg.rf.ef4dde865e14fd2e65f3b8f1596f1019.jpg: 640x640 1 human, 8.3ms\n",
      "image 277/284 /kaggle/input/all-human-with-pool/test/images/video-92_frame13_jpg.rf.8a749b5788835c2c62c2d44fa390ed10.jpg: 640x640 1 human, 8.2ms\n",
      "image 278/284 /kaggle/input/all-human-with-pool/test/images/video-92_frame14_jpg.rf.427f73e4c96a11b3ec60f97e534520d2.jpg: 640x640 1 human, 8.3ms\n",
      "image 279/284 /kaggle/input/all-human-with-pool/test/images/video-92_frame17_jpg.rf.72b0799a1b0f4670c347143312a8a2aa.jpg: 640x640 1 human, 8.3ms\n",
      "image 280/284 /kaggle/input/all-human-with-pool/test/images/video-92_frame22_jpg.rf.c1e6303df7af220e3b5669b66967cc1e.jpg: 640x640 1 human, 8.3ms\n",
      "image 281/284 /kaggle/input/all-human-with-pool/test/images/video-93_frame17_jpg.rf.7aeffb82bae9ad8055563172695dab7b.jpg: 640x640 2 humans, 8.3ms\n",
      "image 282/284 /kaggle/input/all-human-with-pool/test/images/video-9_frame23_jpg.rf.eca80a6c0503e7ebd89b555b94d74521.jpg: 640x640 2 humans, 8.3ms\n",
      "image 283/284 /kaggle/input/all-human-with-pool/test/images/wDTg_14_jpg.rf.eeaf17b12ae9ffc1184573fea6c95769.jpg: 640x640 7 humans, 8.6ms\n",
      "image 284/284 /kaggle/input/all-human-with-pool/test/images/wDTg_15_jpg.rf.2d9c4c55eb31b30433c18bb50aa9e148.jpg: 640x640 3 humans, 8.4ms\n",
      "Speed: 2.1ms preprocess, 8.3ms inference, 1.0ms postprocess per image at shape (1, 3, 640, 640)\n",
      "Results saved to \u001b[1mruns/detect/predict\u001b[0m\n",
      "284 labels saved to runs/detect/predict/labels\n"
     ]
    }
   ],
   "source": [
    "results = fine_tuned_model.predict(source='/kaggle/input/all-human-with-pool/test/images', save=True, save_txt=True, save_conf=True)\n"
   ]
  },
  {
   "cell_type": "markdown",
   "metadata": {},
   "source": [
    "# **Train Validate graph**"
   ]
  },
  {
   "cell_type": "code",
   "execution_count": null,
   "metadata": {
    "execution": {
     "iopub.execute_input": "2025-04-15T08:01:22.398676Z",
     "iopub.status.busy": "2025-04-15T08:01:22.398406Z",
     "iopub.status.idle": "2025-04-15T08:01:24.178223Z",
     "shell.execute_reply": "2025-04-15T08:01:24.177371Z",
     "shell.execute_reply.started": "2025-04-15T08:01:22.398652Z"
    },
    "trusted": true
   },
   "outputs": [
    {
     "data": {
      "image/png": "[encoded data removed]",
      "text/plain": [
       "<Figure size 1500x1500 with 6 Axes>"
      ]
     },
     "metadata": {},
     "output_type": "display_data"
    }
   ],
   "source": [
    "import os\n",
    "import matplotlib.pyplot as plt\n",
    "import pandas as pd\n",
    "\n",
    "def plot_combined_metrics(results_dir='runs/detect/train'):\n",
    "    results_file = None\n",
    "    for f in ['results.csv', 'results.txt', 'results.yaml']:\n",
    "        if os.path.exists(os.path.join(results_dir, f)):\n",
    "            results_file = os.path.join(results_dir, f)\n",
    "            break\n",
    "    \n",
    "    if not results_file:\n",
    "        print(f\"No results file found in {results_dir}\")\n",
    "        return\n",
    "\n",
    "    if results_file.endswith('.csv'):\n",
    "        df = pd.read_csv(results_file)\n",
    "    elif results_file.endswith('.yaml'):\n",
    "        import yaml\n",
    "        with open(results_file) as f:\n",
    "            results = yaml.safe_load(f)\n",
    "        df = pd.DataFrame(results)\n",
    "    else:  \n",
    "        data = []\n",
    "        with open(results_file) as f:\n",
    "            for line in f:\n",
    "                if line.strip():\n",
    "                    data.append([float(x) for x in line.strip().split()])\n",
    "        df = pd.DataFrame(data)\n",
    "   \n",
    "    fig, axs = plt.subplots(3, 2, figsize=(15, 15))\n",
    "\n",
    "    axs[0,0].plot(df['train/box_loss'], label='Train Box Loss', color='blue')\n",
    "    axs[0,0].plot(df['val/box_loss'], label='Val Box Loss', color='orange')\n",
    "    axs[0,0].set_title('Box Loss')\n",
    "    axs[0,0].set_ylabel('Loss')\n",
    "    axs[0,0].legend()\n",
    "    axs[0,0].grid(True)\n",
    "    \n",
    "  \n",
    "    axs[0,1].plot(df['train/cls_loss'], label='Train Cls Loss', color='blue')\n",
    "    axs[0,1].plot(df['val/cls_loss'], label='Val Cls Loss', color='orange')\n",
    "    axs[0,1].set_title('Classification Loss')\n",
    "    axs[0,1].legend()\n",
    "    axs[0,1].grid(True)\n",
    "    \n",
    "\n",
    "    axs[1,0].plot(df['train/dfl_loss'], label='Train DFL Loss', color='blue')\n",
    "    axs[1,0].plot(df['val/dfl_loss'], label='Val DFL Loss', color='orange')\n",
    "    axs[1,0].set_title('DFL Loss')\n",
    "    axs[1,0].set_ylabel('Loss')\n",
    "    axs[1,0].legend()\n",
    "    axs[1,0].grid(True)\n",
    "    \n",
    "\n",
    "    axs[1,1].plot(df['metrics/precision(B)'], label='Precision', color='green')\n",
    "    axs[1,1].plot(df['metrics/recall(B)'], label='Recall', color='red')\n",
    "    axs[1,1].set_title('Precision & Recall')\n",
    "    axs[1,1].set_ylim(0, 1)\n",
    "    axs[1,1].legend()\n",
    "    axs[1,1].grid(True)\n",
    "    \n",
    "    axs[2,0].plot(df['metrics/mAP50(B)'], label='mAP50', color='purple')\n",
    "    axs[2,0].set_title('mAP50')\n",
    "    axs[2,0].set_ylabel('Score')\n",
    "    axs[2,0].set_xlabel('Epoch')\n",
    "    axs[2,0].set_ylim(0, 1)\n",
    "    axs[2,0].legend()\n",
    "    axs[2,0].grid(True)\n",
    "    \n",
    "\n",
    "    axs[2,1].plot(df['metrics/mAP50-95(B)'], label='mAP50-95', color='brown')\n",
    "    axs[2,1].set_title('mAP50-95')\n",
    "    axs[2,1].set_xlabel('Epoch')\n",
    "    axs[2,1].set_ylim(0, 1)\n",
    "    axs[2,1].legend()\n",
    "    axs[2,1].grid(True)\n",
    "    \n",
    "    plt.tight_layout()\n",
    "    plt.savefig('combined_metrics.png')\n",
    "    plt.show()\n",
    "\n",
    "plot_combined_metrics()"
   ]
  }
 ],
 "metadata": {
  "kaggle": {
   "accelerator": "gpu",
   "dataSources": [
    {
     "datasetId": 6844079,
     "sourceId": 10995096,
     "sourceType": "datasetVersion"
    },
    {
     "isSourceIdPinned": true,
     "modelId": 275781,
     "modelInstanceId": 254380,
     "sourceId": 297310,
     "sourceType": "modelInstanceVersion"
    },
    {
     "isSourceIdPinned": true,
     "modelId": 275798,
     "modelInstanceId": 254397,
     "sourceId": 297331,
     "sourceType": "modelInstanceVersion"
    }
   ],
   "dockerImageVersionId": 30919,
   "isGpuEnabled": true,
   "isInternetEnabled": true,
   "language": "python",
   "sourceType": "notebook"
  },
  "kernelspec": {
   "display_name": "Python 3",
   "language": "python",
   "name": "python3"
  },
  "language_info": {
   "codemirror_mode": {
    "name": "ipython",
    "version": 3
   },
   "file_extension": ".py",
   "mimetype": "text/x-python",
   "name": "python",
   "nbconvert_exporter": "python",
   "pygments_lexer": "ipython3",
   "version": "3.10.12"
  }
 },
 "nbformat": 4,
 "nbformat_minor": 4
}
